{
 "cells": [
  {
   "cell_type": "markdown",
   "id": "215484f7",
   "metadata": {
    "papermill": {
     "duration": 0.097072,
     "end_time": "2022-04-30T02:33:47.883082",
     "exception": false,
     "start_time": "2022-04-30T02:33:47.786010",
     "status": "completed"
    },
    "tags": []
   },
   "source": [
    "# Credit Card Fraud Detection\n",
    "\n",
    "---\n",
    "\n",
    "**Table of Contents** \n",
    "\n",
    "[1.0 Objectives](#1.0-Objectives)  \n",
    "[2.0 Import Library](#2.0-Import-Library)  \n",
    "[3.0 Set Constant and Default Settings](#3.0-Set-Constant-and-Default-Settings)  \n",
    "[4.0 Load Dataset](#4.0-Load-Dataset)  \n",
    "[5.0 Split dataset into train and test set](#5.0-Split-dataset-into-train-and-test-set)  \n",
    "[6.0 Exploratory Data Analysis (EDA)](#6.0-Exploratory-Data-Analysis-%28EDA%29)  \n",
    "&nbsp; &nbsp; &nbsp; [6.1 Statistics Summary of Dataset](#6.1-Statistics-Summary-of-Dataset)  \n",
    "&nbsp; &nbsp; &nbsp; [6.2 Detect for Outliers](#6.2-Detect-for-Outliers)   \n",
    "&nbsp; &nbsp; &nbsp; [6.3 Data Cleaning](#6.3-Data-Cleaning)   \n",
    "&nbsp; &nbsp; &nbsp; [6.4 Feature Scaling](#6.4-Feature-Scaling)   \n",
    "&nbsp; &nbsp; &nbsp; [6.5 Full Transformation](#6.5-Full-Transformation)   \n",
    "[7.0 Model Evaluation Metrics](#7.0-Model-Evaluation-Metrics)   \n",
    "[8.0 Machine Learning Model](#8.0-Machine-Learning-Model)  \n",
    "&nbsp; &nbsp; &nbsp; [8.1 Benchmark Model - Logistic Regression](#8.1-Benchmark-Model-\\--Logistic-Regression)  \n",
    "&nbsp; &nbsp; &nbsp; [8.2 Other Models](#8.2-Other-Models)  \n",
    "&nbsp; &nbsp; &nbsp; &nbsp; &nbsp; &nbsp; [8.2.1 Stochastic Gradient Descent (SGD) Classifier](#8.2.1-Stochastic-Gradient-Descent-%28SGD%29-Classifier)  \n",
    "&nbsp; &nbsp; &nbsp; &nbsp; &nbsp; &nbsp; [8.2.2 Random Forest Classifier](#8.2.2-Random-Forest-Classifier)  \n",
    "&nbsp; &nbsp; &nbsp; &nbsp; &nbsp; &nbsp; [8.2.3 Support Vector Machine Classifier](#8.2.3-Support-Vector-Machine-Classifier)  \n",
    "&nbsp; &nbsp; &nbsp; &nbsp; &nbsp; &nbsp; [8.2.4 Naive Bayes](#8.2.4-Naive-Bayes)  \n",
    "&nbsp; &nbsp; &nbsp; [8.3 Model Selection](#8.3-Model-Selection)  \n",
    "&nbsp; &nbsp; &nbsp; [8.4 Fine-Tuning Model](#8.4-Fine-Tuning-Model)  \n",
    "&nbsp; &nbsp; &nbsp; [8.5 Resample on Dataset](#8.5-Resample-on-Dataset)  \n",
    "&nbsp; &nbsp; &nbsp; [8.6 Initialise Class Weight on Model](#8.6-Initialise-Class-Weight-on-Model)  \n",
    "[9.0 Conclusion](#9.0-Conclusion)  \n",
    "\n",
    "---"
   ]
  },
  {
   "cell_type": "markdown",
   "id": "c2c5fcd3",
   "metadata": {
    "execution": {
     "iopub.execute_input": "2022-04-08T09:55:26.33362Z",
     "iopub.status.busy": "2022-04-08T09:55:26.332703Z",
     "iopub.status.idle": "2022-04-08T09:55:26.357578Z",
     "shell.execute_reply": "2022-04-08T09:55:26.356649Z",
     "shell.execute_reply.started": "2022-04-08T09:55:26.3335Z"
    },
    "papermill": {
     "duration": 0.084662,
     "end_time": "2022-04-30T02:33:48.059510",
     "exception": false,
     "start_time": "2022-04-30T02:33:47.974848",
     "status": "completed"
    },
    "tags": []
   },
   "source": [
    "# 1.0 Objectives\n",
    "\n",
    "- To build a model that detect credit card fraud"
   ]
  },
  {
   "cell_type": "markdown",
   "id": "2029a227",
   "metadata": {
    "papermill": {
     "duration": 0.083498,
     "end_time": "2022-04-30T02:33:48.226761",
     "exception": false,
     "start_time": "2022-04-30T02:33:48.143263",
     "status": "completed"
    },
    "tags": []
   },
   "source": [
    "# 2.0 Import Library"
   ]
  },
  {
   "cell_type": "code",
   "execution_count": 1,
   "id": "22c28250",
   "metadata": {
    "_cell_guid": "b1076dfc-b9ad-4769-8c92-a6c4dae69d19",
    "_uuid": "8f2839f25d086af736a60e9eeb907d3b93b6e0e5",
    "execution": {
     "iopub.execute_input": "2022-04-30T02:33:48.400945Z",
     "iopub.status.busy": "2022-04-30T02:33:48.399126Z",
     "iopub.status.idle": "2022-04-30T02:33:49.669734Z",
     "shell.execute_reply": "2022-04-30T02:33:49.670359Z",
     "shell.execute_reply.started": "2022-04-29T09:04:31.559719Z"
    },
    "papermill": {
     "duration": 1.360376,
     "end_time": "2022-04-30T02:33:49.670703",
     "exception": false,
     "start_time": "2022-04-30T02:33:48.310327",
     "status": "completed"
    },
    "tags": []
   },
   "outputs": [],
   "source": [
    "# System\n",
    "import os\n",
    "\n",
    "# Parallel\n",
    "from joblib import effective_n_jobs\n",
    "\n",
    "# EDA\n",
    "import numpy as np\n",
    "import pandas as pd\n",
    "import matplotlib.pyplot as plt\n",
    "import seaborn as sns"
   ]
  },
  {
   "cell_type": "code",
   "execution_count": 2,
   "id": "3c8e31e6",
   "metadata": {
    "execution": {
     "iopub.execute_input": "2022-04-30T02:33:49.852014Z",
     "iopub.status.busy": "2022-04-30T02:33:49.851312Z",
     "iopub.status.idle": "2022-04-30T02:33:50.377952Z",
     "shell.execute_reply": "2022-04-30T02:33:50.377362Z",
     "shell.execute_reply.started": "2022-04-29T09:04:32.791119Z"
    },
    "papermill": {
     "duration": 0.619295,
     "end_time": "2022-04-30T02:33:50.378132",
     "exception": false,
     "start_time": "2022-04-30T02:33:49.758837",
     "status": "completed"
    },
    "tags": []
   },
   "outputs": [],
   "source": [
    "# Preprocessing data\n",
    "from sklearn.model_selection import StratifiedShuffleSplit\n",
    "from sklearn.preprocessing import StandardScaler\n",
    "\n",
    "# Pipeline\n",
    "from sklearn.pipeline import Pipeline\n",
    "from sklearn.compose import ColumnTransformer\n",
    "\n",
    "# Metrics\n",
    "from sklearn.metrics import f1_score, recall_score\n",
    "\n",
    "# Model\n",
    "from sklearn.linear_model import LogisticRegression\n",
    "from sklearn.linear_model import SGDClassifier\n",
    "from sklearn.ensemble import RandomForestClassifier\n",
    "from sklearn.svm import SVC\n",
    "from sklearn.naive_bayes import GaussianNB\n",
    "\n",
    "# Fine-tune\n",
    "from sklearn.model_selection import RandomizedSearchCV\n",
    "\n",
    "# Resample\n",
    "from imblearn.over_sampling import SMOTE\n",
    "from imblearn.under_sampling import RandomUnderSampler\n",
    "from imblearn.pipeline import Pipeline"
   ]
  },
  {
   "cell_type": "markdown",
   "id": "9e33e3b5",
   "metadata": {
    "papermill": {
     "duration": 0.083046,
     "end_time": "2022-04-30T02:33:50.544812",
     "exception": false,
     "start_time": "2022-04-30T02:33:50.461766",
     "status": "completed"
    },
    "tags": []
   },
   "source": [
    "# 3.0 Set Constant and Default Settings"
   ]
  },
  {
   "cell_type": "code",
   "execution_count": 3,
   "id": "6ae43028",
   "metadata": {
    "execution": {
     "iopub.execute_input": "2022-04-30T02:33:50.718067Z",
     "iopub.status.busy": "2022-04-30T02:33:50.717348Z",
     "iopub.status.idle": "2022-04-30T02:33:50.721429Z",
     "shell.execute_reply": "2022-04-30T02:33:50.722009Z",
     "shell.execute_reply.started": "2022-04-29T09:04:33.29572Z"
    },
    "papermill": {
     "duration": 0.091928,
     "end_time": "2022-04-30T02:33:50.722209",
     "exception": false,
     "start_time": "2022-04-30T02:33:50.630281",
     "status": "completed"
    },
    "tags": []
   },
   "outputs": [],
   "source": [
    "plt.rcParams['figure.dpi'] = 150\n",
    "sns.set_style('dark')"
   ]
  },
  {
   "cell_type": "code",
   "execution_count": 4,
   "id": "f34533d7",
   "metadata": {
    "execution": {
     "iopub.execute_input": "2022-04-30T02:33:50.895339Z",
     "iopub.status.busy": "2022-04-30T02:33:50.894581Z",
     "iopub.status.idle": "2022-04-30T02:33:50.899336Z",
     "shell.execute_reply": "2022-04-30T02:33:50.899878Z",
     "shell.execute_reply.started": "2022-04-29T09:04:33.302589Z"
    },
    "papermill": {
     "duration": 0.092326,
     "end_time": "2022-04-30T02:33:50.900074",
     "exception": false,
     "start_time": "2022-04-30T02:33:50.807748",
     "status": "completed"
    },
    "tags": []
   },
   "outputs": [],
   "source": [
    "base_dir = os.path.join('/', 'kaggle', 'input', 'creditcardfraud')\n",
    "\n",
    "# Check if kaggle env or local env\n",
    "is_kaggle = os.path.exists(base_dir)\n",
    "\n",
    "dataset_path = os.path.join(base_dir if is_kaggle else '', 'creditcard.csv')"
   ]
  },
  {
   "cell_type": "code",
   "execution_count": 5,
   "id": "8812db13",
   "metadata": {
    "execution": {
     "iopub.execute_input": "2022-04-30T02:33:51.083941Z",
     "iopub.status.busy": "2022-04-30T02:33:51.083260Z",
     "iopub.status.idle": "2022-04-30T02:33:51.084925Z",
     "shell.execute_reply": "2022-04-30T02:33:51.085474Z",
     "shell.execute_reply.started": "2022-04-29T09:04:33.315623Z"
    },
    "papermill": {
     "duration": 0.092218,
     "end_time": "2022-04-30T02:33:51.085649",
     "exception": false,
     "start_time": "2022-04-30T02:33:50.993431",
     "status": "completed"
    },
    "tags": []
   },
   "outputs": [],
   "source": [
    "n_thread =  effective_n_jobs(-1)\n",
    "\n",
    "if not is_kaggle:\n",
    "    n_thread =  int(effective_n_jobs(-1) * 0.7)"
   ]
  },
  {
   "cell_type": "markdown",
   "id": "ae9a6628",
   "metadata": {
    "papermill": {
     "duration": 0.083664,
     "end_time": "2022-04-30T02:33:51.253284",
     "exception": false,
     "start_time": "2022-04-30T02:33:51.169620",
     "status": "completed"
    },
    "tags": []
   },
   "source": [
    "# 4.0 Load Dataset"
   ]
  },
  {
   "cell_type": "code",
   "execution_count": 6,
   "id": "2a1471f4",
   "metadata": {
    "execution": {
     "iopub.execute_input": "2022-04-30T02:33:51.425200Z",
     "iopub.status.busy": "2022-04-30T02:33:51.424173Z",
     "iopub.status.idle": "2022-04-30T02:33:56.128512Z",
     "shell.execute_reply": "2022-04-30T02:33:56.129208Z",
     "shell.execute_reply.started": "2022-04-29T09:04:33.330199Z"
    },
    "papermill": {
     "duration": 4.79185,
     "end_time": "2022-04-30T02:33:56.129406",
     "exception": false,
     "start_time": "2022-04-30T02:33:51.337556",
     "status": "completed"
    },
    "tags": []
   },
   "outputs": [],
   "source": [
    "df = pd.read_csv(dataset_path)"
   ]
  },
  {
   "cell_type": "markdown",
   "id": "caddb2a8",
   "metadata": {
    "papermill": {
     "duration": 0.083335,
     "end_time": "2022-04-30T02:33:56.297139",
     "exception": false,
     "start_time": "2022-04-30T02:33:56.213804",
     "status": "completed"
    },
    "tags": []
   },
   "source": [
    "# 5.0 Split dataset into train and test set"
   ]
  },
  {
   "cell_type": "code",
   "execution_count": 7,
   "id": "75ec148b",
   "metadata": {
    "execution": {
     "iopub.execute_input": "2022-04-30T02:33:56.470383Z",
     "iopub.status.busy": "2022-04-30T02:33:56.469644Z",
     "iopub.status.idle": "2022-04-30T02:33:56.509323Z",
     "shell.execute_reply": "2022-04-30T02:33:56.508607Z",
     "shell.execute_reply.started": "2022-04-29T09:04:37.604279Z"
    },
    "papermill": {
     "duration": 0.126762,
     "end_time": "2022-04-30T02:33:56.509467",
     "exception": false,
     "start_time": "2022-04-30T02:33:56.382705",
     "status": "completed"
    },
    "tags": []
   },
   "outputs": [],
   "source": [
    "X_df = df.drop(['Class'], axis=1)\n",
    "y_df = df['Class']"
   ]
  },
  {
   "cell_type": "code",
   "execution_count": 8,
   "id": "3ed56ac9",
   "metadata": {
    "execution": {
     "iopub.execute_input": "2022-04-30T02:33:56.683206Z",
     "iopub.status.busy": "2022-04-30T02:33:56.682511Z",
     "iopub.status.idle": "2022-04-30T02:33:56.927027Z",
     "shell.execute_reply": "2022-04-30T02:33:56.926397Z",
     "shell.execute_reply.started": "2022-04-29T09:04:37.650771Z"
    },
    "papermill": {
     "duration": 0.334179,
     "end_time": "2022-04-30T02:33:56.927196",
     "exception": false,
     "start_time": "2022-04-30T02:33:56.593017",
     "status": "completed"
    },
    "tags": []
   },
   "outputs": [],
   "source": [
    "train_test_sss = StratifiedShuffleSplit(n_splits=1, test_size=0.2, random_state=42)\n",
    "\n",
    "for train_index, test_index in train_test_sss.split(X_df, y_df):\n",
    "    train_df = df.loc[train_index]\n",
    "    test_df = df.loc[test_index]"
   ]
  },
  {
   "cell_type": "code",
   "execution_count": 9,
   "id": "da491534",
   "metadata": {
    "execution": {
     "iopub.execute_input": "2022-04-30T02:33:57.125002Z",
     "iopub.status.busy": "2022-04-30T02:33:57.123547Z",
     "iopub.status.idle": "2022-04-30T02:33:57.125912Z",
     "shell.execute_reply": "2022-04-30T02:33:57.126468Z",
     "shell.execute_reply.started": "2022-04-29T09:04:37.852382Z"
    },
    "papermill": {
     "duration": 0.113535,
     "end_time": "2022-04-30T02:33:57.126657",
     "exception": false,
     "start_time": "2022-04-30T02:33:57.013122",
     "status": "completed"
    },
    "tags": []
   },
   "outputs": [],
   "source": [
    "X_train_df = train_df.drop(['Class'], axis=1)\n",
    "y_train_df = train_df['Class']"
   ]
  },
  {
   "cell_type": "code",
   "execution_count": 10,
   "id": "4cbb9cd6",
   "metadata": {
    "execution": {
     "iopub.execute_input": "2022-04-30T02:33:57.301023Z",
     "iopub.status.busy": "2022-04-30T02:33:57.300344Z",
     "iopub.status.idle": "2022-04-30T02:33:57.465272Z",
     "shell.execute_reply": "2022-04-30T02:33:57.464596Z",
     "shell.execute_reply.started": "2022-04-29T09:04:37.886365Z"
    },
    "papermill": {
     "duration": 0.254398,
     "end_time": "2022-04-30T02:33:57.465427",
     "exception": false,
     "start_time": "2022-04-30T02:33:57.211029",
     "status": "completed"
    },
    "tags": []
   },
   "outputs": [],
   "source": [
    "train_val_sss = StratifiedShuffleSplit(n_splits=1, test_size=0.2, random_state=42)\n",
    "\n",
    "for train_index, val_index in train_val_sss.split(X_train_df, y_train_df):\n",
    "    train_df = df.loc[train_index]\n",
    "    val_df = df.loc[val_index]"
   ]
  },
  {
   "cell_type": "markdown",
   "id": "5d3f411d",
   "metadata": {
    "papermill": {
     "duration": 0.083875,
     "end_time": "2022-04-30T02:33:57.633146",
     "exception": false,
     "start_time": "2022-04-30T02:33:57.549271",
     "status": "completed"
    },
    "tags": []
   },
   "source": [
    "# 6.0 Exploratory Data Analysis (EDA)"
   ]
  },
  {
   "cell_type": "markdown",
   "id": "6e022d79",
   "metadata": {
    "papermill": {
     "duration": 0.083902,
     "end_time": "2022-04-30T02:33:57.801630",
     "exception": false,
     "start_time": "2022-04-30T02:33:57.717728",
     "status": "completed"
    },
    "tags": []
   },
   "source": [
    "## 6.1 Statistics Summary of Dataset"
   ]
  },
  {
   "cell_type": "code",
   "execution_count": 11,
   "id": "1b840f44",
   "metadata": {
    "execution": {
     "iopub.execute_input": "2022-04-30T02:33:57.981822Z",
     "iopub.status.busy": "2022-04-30T02:33:57.980066Z",
     "iopub.status.idle": "2022-04-30T02:33:58.007322Z",
     "shell.execute_reply": "2022-04-30T02:33:58.007872Z",
     "shell.execute_reply.started": "2022-04-29T09:04:38.041255Z"
    },
    "papermill": {
     "duration": 0.121538,
     "end_time": "2022-04-30T02:33:58.008061",
     "exception": false,
     "start_time": "2022-04-30T02:33:57.886523",
     "status": "completed"
    },
    "tags": []
   },
   "outputs": [
    {
     "data": {
      "text/html": [
       "<div>\n",
       "<style scoped>\n",
       "    .dataframe tbody tr th:only-of-type {\n",
       "        vertical-align: middle;\n",
       "    }\n",
       "\n",
       "    .dataframe tbody tr th {\n",
       "        vertical-align: top;\n",
       "    }\n",
       "\n",
       "    .dataframe thead th {\n",
       "        text-align: right;\n",
       "    }\n",
       "</style>\n",
       "<table border=\"1\" class=\"dataframe\">\n",
       "  <thead>\n",
       "    <tr style=\"text-align: right;\">\n",
       "      <th></th>\n",
       "      <th>Time</th>\n",
       "      <th>V1</th>\n",
       "      <th>V2</th>\n",
       "      <th>V3</th>\n",
       "      <th>V4</th>\n",
       "      <th>V5</th>\n",
       "      <th>V6</th>\n",
       "      <th>V7</th>\n",
       "      <th>V8</th>\n",
       "      <th>V9</th>\n",
       "      <th>...</th>\n",
       "      <th>V21</th>\n",
       "      <th>V22</th>\n",
       "      <th>V23</th>\n",
       "      <th>V24</th>\n",
       "      <th>V25</th>\n",
       "      <th>V26</th>\n",
       "      <th>V27</th>\n",
       "      <th>V28</th>\n",
       "      <th>Amount</th>\n",
       "      <th>Class</th>\n",
       "    </tr>\n",
       "  </thead>\n",
       "  <tbody>\n",
       "    <tr>\n",
       "      <th>225121</th>\n",
       "      <td>144115.0</td>\n",
       "      <td>2.260499</td>\n",
       "      <td>-0.672775</td>\n",
       "      <td>-1.730349</td>\n",
       "      <td>-1.186476</td>\n",
       "      <td>0.113699</td>\n",
       "      <td>-0.361084</td>\n",
       "      <td>-0.310538</td>\n",
       "      <td>-0.206716</td>\n",
       "      <td>-0.739631</td>\n",
       "      <td>...</td>\n",
       "      <td>0.013536</td>\n",
       "      <td>0.101338</td>\n",
       "      <td>0.052963</td>\n",
       "      <td>-1.133791</td>\n",
       "      <td>0.107662</td>\n",
       "      <td>-0.226698</td>\n",
       "      <td>-0.037289</td>\n",
       "      <td>-0.085215</td>\n",
       "      <td>4.45</td>\n",
       "      <td>0</td>\n",
       "    </tr>\n",
       "    <tr>\n",
       "      <th>61995</th>\n",
       "      <td>50083.0</td>\n",
       "      <td>0.474826</td>\n",
       "      <td>-1.600174</td>\n",
       "      <td>0.372791</td>\n",
       "      <td>-0.602230</td>\n",
       "      <td>-1.298861</td>\n",
       "      <td>-0.120802</td>\n",
       "      <td>-0.128786</td>\n",
       "      <td>-0.029808</td>\n",
       "      <td>1.403290</td>\n",
       "      <td>...</td>\n",
       "      <td>0.416361</td>\n",
       "      <td>0.612892</td>\n",
       "      <td>-0.541799</td>\n",
       "      <td>0.104079</td>\n",
       "      <td>0.533606</td>\n",
       "      <td>-0.573770</td>\n",
       "      <td>0.024304</td>\n",
       "      <td>0.089797</td>\n",
       "      <td>391.30</td>\n",
       "      <td>0</td>\n",
       "    </tr>\n",
       "    <tr>\n",
       "      <th>197454</th>\n",
       "      <td>132022.0</td>\n",
       "      <td>2.038625</td>\n",
       "      <td>-0.197583</td>\n",
       "      <td>-1.477283</td>\n",
       "      <td>0.166705</td>\n",
       "      <td>0.089200</td>\n",
       "      <td>-0.691551</td>\n",
       "      <td>-0.035744</td>\n",
       "      <td>-0.053390</td>\n",
       "      <td>0.620787</td>\n",
       "      <td>...</td>\n",
       "      <td>0.270211</td>\n",
       "      <td>0.776487</td>\n",
       "      <td>0.051810</td>\n",
       "      <td>0.746167</td>\n",
       "      <td>0.185787</td>\n",
       "      <td>-0.157799</td>\n",
       "      <td>-0.041134</td>\n",
       "      <td>-0.065754</td>\n",
       "      <td>1.00</td>\n",
       "      <td>0</td>\n",
       "    </tr>\n",
       "    <tr>\n",
       "      <th>116739</th>\n",
       "      <td>74407.0</td>\n",
       "      <td>-1.269508</td>\n",
       "      <td>2.384286</td>\n",
       "      <td>-1.008598</td>\n",
       "      <td>0.933525</td>\n",
       "      <td>-0.551805</td>\n",
       "      <td>-1.306949</td>\n",
       "      <td>0.001500</td>\n",
       "      <td>0.960055</td>\n",
       "      <td>-0.855683</td>\n",
       "      <td>...</td>\n",
       "      <td>0.216123</td>\n",
       "      <td>0.644880</td>\n",
       "      <td>0.181321</td>\n",
       "      <td>0.428130</td>\n",
       "      <td>-0.491161</td>\n",
       "      <td>-0.403557</td>\n",
       "      <td>0.284246</td>\n",
       "      <td>0.165831</td>\n",
       "      <td>2.28</td>\n",
       "      <td>0</td>\n",
       "    </tr>\n",
       "    <tr>\n",
       "      <th>169028</th>\n",
       "      <td>119492.0</td>\n",
       "      <td>2.040578</td>\n",
       "      <td>-0.146368</td>\n",
       "      <td>-2.955721</td>\n",
       "      <td>-0.578510</td>\n",
       "      <td>2.609546</td>\n",
       "      <td>3.142573</td>\n",
       "      <td>-0.417135</td>\n",
       "      <td>0.784442</td>\n",
       "      <td>0.359925</td>\n",
       "      <td>...</td>\n",
       "      <td>-0.352449</td>\n",
       "      <td>-0.996836</td>\n",
       "      <td>0.363652</td>\n",
       "      <td>0.604817</td>\n",
       "      <td>-0.264490</td>\n",
       "      <td>0.219691</td>\n",
       "      <td>-0.039174</td>\n",
       "      <td>-0.042820</td>\n",
       "      <td>1.79</td>\n",
       "      <td>0</td>\n",
       "    </tr>\n",
       "  </tbody>\n",
       "</table>\n",
       "<p>5 rows × 31 columns</p>\n",
       "</div>"
      ],
      "text/plain": [
       "            Time        V1        V2        V3        V4        V5        V6  \\\n",
       "225121  144115.0  2.260499 -0.672775 -1.730349 -1.186476  0.113699 -0.361084   \n",
       "61995    50083.0  0.474826 -1.600174  0.372791 -0.602230 -1.298861 -0.120802   \n",
       "197454  132022.0  2.038625 -0.197583 -1.477283  0.166705  0.089200 -0.691551   \n",
       "116739   74407.0 -1.269508  2.384286 -1.008598  0.933525 -0.551805 -1.306949   \n",
       "169028  119492.0  2.040578 -0.146368 -2.955721 -0.578510  2.609546  3.142573   \n",
       "\n",
       "              V7        V8        V9  ...       V21       V22       V23  \\\n",
       "225121 -0.310538 -0.206716 -0.739631  ...  0.013536  0.101338  0.052963   \n",
       "61995  -0.128786 -0.029808  1.403290  ...  0.416361  0.612892 -0.541799   \n",
       "197454 -0.035744 -0.053390  0.620787  ...  0.270211  0.776487  0.051810   \n",
       "116739  0.001500  0.960055 -0.855683  ...  0.216123  0.644880  0.181321   \n",
       "169028 -0.417135  0.784442  0.359925  ... -0.352449 -0.996836  0.363652   \n",
       "\n",
       "             V24       V25       V26       V27       V28  Amount  Class  \n",
       "225121 -1.133791  0.107662 -0.226698 -0.037289 -0.085215    4.45      0  \n",
       "61995   0.104079  0.533606 -0.573770  0.024304  0.089797  391.30      0  \n",
       "197454  0.746167  0.185787 -0.157799 -0.041134 -0.065754    1.00      0  \n",
       "116739  0.428130 -0.491161 -0.403557  0.284246  0.165831    2.28      0  \n",
       "169028  0.604817 -0.264490  0.219691 -0.039174 -0.042820    1.79      0  \n",
       "\n",
       "[5 rows x 31 columns]"
      ]
     },
     "execution_count": 11,
     "metadata": {},
     "output_type": "execute_result"
    }
   ],
   "source": [
    "train_df.head()"
   ]
  },
  {
   "cell_type": "code",
   "execution_count": 12,
   "id": "b549ee5f",
   "metadata": {
    "execution": {
     "iopub.execute_input": "2022-04-30T02:33:58.186916Z",
     "iopub.status.busy": "2022-04-30T02:33:58.186243Z",
     "iopub.status.idle": "2022-04-30T02:33:58.189214Z",
     "shell.execute_reply": "2022-04-30T02:33:58.189706Z",
     "shell.execute_reply.started": "2022-04-29T09:04:38.073706Z"
    },
    "papermill": {
     "duration": 0.094479,
     "end_time": "2022-04-30T02:33:58.189875",
     "exception": false,
     "start_time": "2022-04-30T02:33:58.095396",
     "status": "completed"
    },
    "tags": []
   },
   "outputs": [
    {
     "data": {
      "text/plain": [
       "Index(['Time', 'V1', 'V2', 'V3', 'V4', 'V5', 'V6', 'V7', 'V8', 'V9', 'V10',\n",
       "       'V11', 'V12', 'V13', 'V14', 'V15', 'V16', 'V17', 'V18', 'V19', 'V20',\n",
       "       'V21', 'V22', 'V23', 'V24', 'V25', 'V26', 'V27', 'V28', 'Amount',\n",
       "       'Class'],\n",
       "      dtype='object')"
      ]
     },
     "execution_count": 12,
     "metadata": {},
     "output_type": "execute_result"
    }
   ],
   "source": [
    "train_df.columns"
   ]
  },
  {
   "cell_type": "markdown",
   "id": "0108216f",
   "metadata": {
    "papermill": {
     "duration": 0.084996,
     "end_time": "2022-04-30T02:33:58.360513",
     "exception": false,
     "start_time": "2022-04-30T02:33:58.275517",
     "status": "completed"
    },
    "tags": []
   },
   "source": [
    "Due to privacy issues, the dataset feature name has been masked and been named 'V1', 'V2' and etc."
   ]
  },
  {
   "cell_type": "code",
   "execution_count": 13,
   "id": "f9f76d01",
   "metadata": {
    "execution": {
     "iopub.execute_input": "2022-04-30T02:33:58.534511Z",
     "iopub.status.busy": "2022-04-30T02:33:58.533815Z",
     "iopub.status.idle": "2022-04-30T02:33:58.570931Z",
     "shell.execute_reply": "2022-04-30T02:33:58.570277Z",
     "shell.execute_reply.started": "2022-04-29T09:04:38.083992Z"
    },
    "papermill": {
     "duration": 0.125327,
     "end_time": "2022-04-30T02:33:58.571071",
     "exception": false,
     "start_time": "2022-04-30T02:33:58.445744",
     "status": "completed"
    },
    "tags": []
   },
   "outputs": [
    {
     "name": "stdout",
     "output_type": "stream",
     "text": [
      "<class 'pandas.core.frame.DataFrame'>\n",
      "Int64Index: 182276 entries, 225121 to 100485\n",
      "Data columns (total 31 columns):\n",
      " #   Column  Non-Null Count   Dtype  \n",
      "---  ------  --------------   -----  \n",
      " 0   Time    182276 non-null  float64\n",
      " 1   V1      182276 non-null  float64\n",
      " 2   V2      182276 non-null  float64\n",
      " 3   V3      182276 non-null  float64\n",
      " 4   V4      182276 non-null  float64\n",
      " 5   V5      182276 non-null  float64\n",
      " 6   V6      182276 non-null  float64\n",
      " 7   V7      182276 non-null  float64\n",
      " 8   V8      182276 non-null  float64\n",
      " 9   V9      182276 non-null  float64\n",
      " 10  V10     182276 non-null  float64\n",
      " 11  V11     182276 non-null  float64\n",
      " 12  V12     182276 non-null  float64\n",
      " 13  V13     182276 non-null  float64\n",
      " 14  V14     182276 non-null  float64\n",
      " 15  V15     182276 non-null  float64\n",
      " 16  V16     182276 non-null  float64\n",
      " 17  V17     182276 non-null  float64\n",
      " 18  V18     182276 non-null  float64\n",
      " 19  V19     182276 non-null  float64\n",
      " 20  V20     182276 non-null  float64\n",
      " 21  V21     182276 non-null  float64\n",
      " 22  V22     182276 non-null  float64\n",
      " 23  V23     182276 non-null  float64\n",
      " 24  V24     182276 non-null  float64\n",
      " 25  V25     182276 non-null  float64\n",
      " 26  V26     182276 non-null  float64\n",
      " 27  V27     182276 non-null  float64\n",
      " 28  V28     182276 non-null  float64\n",
      " 29  Amount  182276 non-null  float64\n",
      " 30  Class   182276 non-null  int64  \n",
      "dtypes: float64(30), int64(1)\n",
      "memory usage: 44.5 MB\n"
     ]
    }
   ],
   "source": [
    "train_df.info()"
   ]
  },
  {
   "cell_type": "code",
   "execution_count": 14,
   "id": "51d3217a",
   "metadata": {
    "execution": {
     "iopub.execute_input": "2022-04-30T02:33:58.747702Z",
     "iopub.status.busy": "2022-04-30T02:33:58.746957Z",
     "iopub.status.idle": "2022-04-30T02:33:59.190360Z",
     "shell.execute_reply": "2022-04-30T02:33:59.189711Z",
     "shell.execute_reply.started": "2022-04-29T09:04:38.130041Z"
    },
    "papermill": {
     "duration": 0.532342,
     "end_time": "2022-04-30T02:33:59.190501",
     "exception": false,
     "start_time": "2022-04-30T02:33:58.658159",
     "status": "completed"
    },
    "tags": []
   },
   "outputs": [
    {
     "data": {
      "text/html": [
       "<div>\n",
       "<style scoped>\n",
       "    .dataframe tbody tr th:only-of-type {\n",
       "        vertical-align: middle;\n",
       "    }\n",
       "\n",
       "    .dataframe tbody tr th {\n",
       "        vertical-align: top;\n",
       "    }\n",
       "\n",
       "    .dataframe thead th {\n",
       "        text-align: right;\n",
       "    }\n",
       "</style>\n",
       "<table border=\"1\" class=\"dataframe\">\n",
       "  <thead>\n",
       "    <tr style=\"text-align: right;\">\n",
       "      <th></th>\n",
       "      <th>count</th>\n",
       "      <th>mean</th>\n",
       "      <th>std</th>\n",
       "      <th>min</th>\n",
       "      <th>25%</th>\n",
       "      <th>50%</th>\n",
       "      <th>75%</th>\n",
       "      <th>max</th>\n",
       "    </tr>\n",
       "  </thead>\n",
       "  <tbody>\n",
       "    <tr>\n",
       "      <th>Time</th>\n",
       "      <td>284807.0</td>\n",
       "      <td>9.481386e+04</td>\n",
       "      <td>47488.145955</td>\n",
       "      <td>0.000000</td>\n",
       "      <td>54201.500000</td>\n",
       "      <td>84692.000000</td>\n",
       "      <td>139320.500000</td>\n",
       "      <td>172792.000000</td>\n",
       "    </tr>\n",
       "    <tr>\n",
       "      <th>V1</th>\n",
       "      <td>284807.0</td>\n",
       "      <td>3.918649e-15</td>\n",
       "      <td>1.958696</td>\n",
       "      <td>-56.407510</td>\n",
       "      <td>-0.920373</td>\n",
       "      <td>0.018109</td>\n",
       "      <td>1.315642</td>\n",
       "      <td>2.454930</td>\n",
       "    </tr>\n",
       "    <tr>\n",
       "      <th>V2</th>\n",
       "      <td>284807.0</td>\n",
       "      <td>5.682686e-16</td>\n",
       "      <td>1.651309</td>\n",
       "      <td>-72.715728</td>\n",
       "      <td>-0.598550</td>\n",
       "      <td>0.065486</td>\n",
       "      <td>0.803724</td>\n",
       "      <td>22.057729</td>\n",
       "    </tr>\n",
       "    <tr>\n",
       "      <th>V3</th>\n",
       "      <td>284807.0</td>\n",
       "      <td>-8.761736e-15</td>\n",
       "      <td>1.516255</td>\n",
       "      <td>-48.325589</td>\n",
       "      <td>-0.890365</td>\n",
       "      <td>0.179846</td>\n",
       "      <td>1.027196</td>\n",
       "      <td>9.382558</td>\n",
       "    </tr>\n",
       "    <tr>\n",
       "      <th>V4</th>\n",
       "      <td>284807.0</td>\n",
       "      <td>2.811118e-15</td>\n",
       "      <td>1.415869</td>\n",
       "      <td>-5.683171</td>\n",
       "      <td>-0.848640</td>\n",
       "      <td>-0.019847</td>\n",
       "      <td>0.743341</td>\n",
       "      <td>16.875344</td>\n",
       "    </tr>\n",
       "    <tr>\n",
       "      <th>V5</th>\n",
       "      <td>284807.0</td>\n",
       "      <td>-1.552103e-15</td>\n",
       "      <td>1.380247</td>\n",
       "      <td>-113.743307</td>\n",
       "      <td>-0.691597</td>\n",
       "      <td>-0.054336</td>\n",
       "      <td>0.611926</td>\n",
       "      <td>34.801666</td>\n",
       "    </tr>\n",
       "    <tr>\n",
       "      <th>V6</th>\n",
       "      <td>284807.0</td>\n",
       "      <td>2.040130e-15</td>\n",
       "      <td>1.332271</td>\n",
       "      <td>-26.160506</td>\n",
       "      <td>-0.768296</td>\n",
       "      <td>-0.274187</td>\n",
       "      <td>0.398565</td>\n",
       "      <td>73.301626</td>\n",
       "    </tr>\n",
       "    <tr>\n",
       "      <th>V7</th>\n",
       "      <td>284807.0</td>\n",
       "      <td>-1.698953e-15</td>\n",
       "      <td>1.237094</td>\n",
       "      <td>-43.557242</td>\n",
       "      <td>-0.554076</td>\n",
       "      <td>0.040103</td>\n",
       "      <td>0.570436</td>\n",
       "      <td>120.589494</td>\n",
       "    </tr>\n",
       "    <tr>\n",
       "      <th>V8</th>\n",
       "      <td>284807.0</td>\n",
       "      <td>-1.893285e-16</td>\n",
       "      <td>1.194353</td>\n",
       "      <td>-73.216718</td>\n",
       "      <td>-0.208630</td>\n",
       "      <td>0.022358</td>\n",
       "      <td>0.327346</td>\n",
       "      <td>20.007208</td>\n",
       "    </tr>\n",
       "    <tr>\n",
       "      <th>V9</th>\n",
       "      <td>284807.0</td>\n",
       "      <td>-3.147640e-15</td>\n",
       "      <td>1.098632</td>\n",
       "      <td>-13.434066</td>\n",
       "      <td>-0.643098</td>\n",
       "      <td>-0.051429</td>\n",
       "      <td>0.597139</td>\n",
       "      <td>15.594995</td>\n",
       "    </tr>\n",
       "    <tr>\n",
       "      <th>V10</th>\n",
       "      <td>284807.0</td>\n",
       "      <td>1.772925e-15</td>\n",
       "      <td>1.088850</td>\n",
       "      <td>-24.588262</td>\n",
       "      <td>-0.535426</td>\n",
       "      <td>-0.092917</td>\n",
       "      <td>0.453923</td>\n",
       "      <td>23.745136</td>\n",
       "    </tr>\n",
       "    <tr>\n",
       "      <th>V11</th>\n",
       "      <td>284807.0</td>\n",
       "      <td>9.289524e-16</td>\n",
       "      <td>1.020713</td>\n",
       "      <td>-4.797473</td>\n",
       "      <td>-0.762494</td>\n",
       "      <td>-0.032757</td>\n",
       "      <td>0.739593</td>\n",
       "      <td>12.018913</td>\n",
       "    </tr>\n",
       "    <tr>\n",
       "      <th>V12</th>\n",
       "      <td>284807.0</td>\n",
       "      <td>-1.803266e-15</td>\n",
       "      <td>0.999201</td>\n",
       "      <td>-18.683715</td>\n",
       "      <td>-0.405571</td>\n",
       "      <td>0.140033</td>\n",
       "      <td>0.618238</td>\n",
       "      <td>7.848392</td>\n",
       "    </tr>\n",
       "    <tr>\n",
       "      <th>V13</th>\n",
       "      <td>284807.0</td>\n",
       "      <td>1.674888e-15</td>\n",
       "      <td>0.995274</td>\n",
       "      <td>-5.791881</td>\n",
       "      <td>-0.648539</td>\n",
       "      <td>-0.013568</td>\n",
       "      <td>0.662505</td>\n",
       "      <td>7.126883</td>\n",
       "    </tr>\n",
       "    <tr>\n",
       "      <th>V14</th>\n",
       "      <td>284807.0</td>\n",
       "      <td>1.475621e-15</td>\n",
       "      <td>0.958596</td>\n",
       "      <td>-19.214325</td>\n",
       "      <td>-0.425574</td>\n",
       "      <td>0.050601</td>\n",
       "      <td>0.493150</td>\n",
       "      <td>10.526766</td>\n",
       "    </tr>\n",
       "    <tr>\n",
       "      <th>V15</th>\n",
       "      <td>284807.0</td>\n",
       "      <td>3.501098e-15</td>\n",
       "      <td>0.915316</td>\n",
       "      <td>-4.498945</td>\n",
       "      <td>-0.582884</td>\n",
       "      <td>0.048072</td>\n",
       "      <td>0.648821</td>\n",
       "      <td>8.877742</td>\n",
       "    </tr>\n",
       "    <tr>\n",
       "      <th>V16</th>\n",
       "      <td>284807.0</td>\n",
       "      <td>1.392460e-15</td>\n",
       "      <td>0.876253</td>\n",
       "      <td>-14.129855</td>\n",
       "      <td>-0.468037</td>\n",
       "      <td>0.066413</td>\n",
       "      <td>0.523296</td>\n",
       "      <td>17.315112</td>\n",
       "    </tr>\n",
       "    <tr>\n",
       "      <th>V17</th>\n",
       "      <td>284807.0</td>\n",
       "      <td>-7.466538e-16</td>\n",
       "      <td>0.849337</td>\n",
       "      <td>-25.162799</td>\n",
       "      <td>-0.483748</td>\n",
       "      <td>-0.065676</td>\n",
       "      <td>0.399675</td>\n",
       "      <td>9.253526</td>\n",
       "    </tr>\n",
       "    <tr>\n",
       "      <th>V18</th>\n",
       "      <td>284807.0</td>\n",
       "      <td>4.258754e-16</td>\n",
       "      <td>0.838176</td>\n",
       "      <td>-9.498746</td>\n",
       "      <td>-0.498850</td>\n",
       "      <td>-0.003636</td>\n",
       "      <td>0.500807</td>\n",
       "      <td>5.041069</td>\n",
       "    </tr>\n",
       "    <tr>\n",
       "      <th>V19</th>\n",
       "      <td>284807.0</td>\n",
       "      <td>9.019919e-16</td>\n",
       "      <td>0.814041</td>\n",
       "      <td>-7.213527</td>\n",
       "      <td>-0.456299</td>\n",
       "      <td>0.003735</td>\n",
       "      <td>0.458949</td>\n",
       "      <td>5.591971</td>\n",
       "    </tr>\n",
       "    <tr>\n",
       "      <th>V20</th>\n",
       "      <td>284807.0</td>\n",
       "      <td>5.126845e-16</td>\n",
       "      <td>0.770925</td>\n",
       "      <td>-54.497720</td>\n",
       "      <td>-0.211721</td>\n",
       "      <td>-0.062481</td>\n",
       "      <td>0.133041</td>\n",
       "      <td>39.420904</td>\n",
       "    </tr>\n",
       "    <tr>\n",
       "      <th>V21</th>\n",
       "      <td>284807.0</td>\n",
       "      <td>1.473120e-16</td>\n",
       "      <td>0.734524</td>\n",
       "      <td>-34.830382</td>\n",
       "      <td>-0.228395</td>\n",
       "      <td>-0.029450</td>\n",
       "      <td>0.186377</td>\n",
       "      <td>27.202839</td>\n",
       "    </tr>\n",
       "    <tr>\n",
       "      <th>V22</th>\n",
       "      <td>284807.0</td>\n",
       "      <td>8.042109e-16</td>\n",
       "      <td>0.725702</td>\n",
       "      <td>-10.933144</td>\n",
       "      <td>-0.542350</td>\n",
       "      <td>0.006782</td>\n",
       "      <td>0.528554</td>\n",
       "      <td>10.503090</td>\n",
       "    </tr>\n",
       "    <tr>\n",
       "      <th>V23</th>\n",
       "      <td>284807.0</td>\n",
       "      <td>5.282512e-16</td>\n",
       "      <td>0.624460</td>\n",
       "      <td>-44.807735</td>\n",
       "      <td>-0.161846</td>\n",
       "      <td>-0.011193</td>\n",
       "      <td>0.147642</td>\n",
       "      <td>22.528412</td>\n",
       "    </tr>\n",
       "    <tr>\n",
       "      <th>V24</th>\n",
       "      <td>284807.0</td>\n",
       "      <td>4.456271e-15</td>\n",
       "      <td>0.605647</td>\n",
       "      <td>-2.836627</td>\n",
       "      <td>-0.354586</td>\n",
       "      <td>0.040976</td>\n",
       "      <td>0.439527</td>\n",
       "      <td>4.584549</td>\n",
       "    </tr>\n",
       "    <tr>\n",
       "      <th>V25</th>\n",
       "      <td>284807.0</td>\n",
       "      <td>1.426896e-15</td>\n",
       "      <td>0.521278</td>\n",
       "      <td>-10.295397</td>\n",
       "      <td>-0.317145</td>\n",
       "      <td>0.016594</td>\n",
       "      <td>0.350716</td>\n",
       "      <td>7.519589</td>\n",
       "    </tr>\n",
       "    <tr>\n",
       "      <th>V26</th>\n",
       "      <td>284807.0</td>\n",
       "      <td>1.701640e-15</td>\n",
       "      <td>0.482227</td>\n",
       "      <td>-2.604551</td>\n",
       "      <td>-0.326984</td>\n",
       "      <td>-0.052139</td>\n",
       "      <td>0.240952</td>\n",
       "      <td>3.517346</td>\n",
       "    </tr>\n",
       "    <tr>\n",
       "      <th>V27</th>\n",
       "      <td>284807.0</td>\n",
       "      <td>-3.662252e-16</td>\n",
       "      <td>0.403632</td>\n",
       "      <td>-22.565679</td>\n",
       "      <td>-0.070840</td>\n",
       "      <td>0.001342</td>\n",
       "      <td>0.091045</td>\n",
       "      <td>31.612198</td>\n",
       "    </tr>\n",
       "    <tr>\n",
       "      <th>V28</th>\n",
       "      <td>284807.0</td>\n",
       "      <td>-1.217809e-16</td>\n",
       "      <td>0.330083</td>\n",
       "      <td>-15.430084</td>\n",
       "      <td>-0.052960</td>\n",
       "      <td>0.011244</td>\n",
       "      <td>0.078280</td>\n",
       "      <td>33.847808</td>\n",
       "    </tr>\n",
       "    <tr>\n",
       "      <th>Amount</th>\n",
       "      <td>284807.0</td>\n",
       "      <td>8.834962e+01</td>\n",
       "      <td>250.120109</td>\n",
       "      <td>0.000000</td>\n",
       "      <td>5.600000</td>\n",
       "      <td>22.000000</td>\n",
       "      <td>77.165000</td>\n",
       "      <td>25691.160000</td>\n",
       "    </tr>\n",
       "    <tr>\n",
       "      <th>Class</th>\n",
       "      <td>284807.0</td>\n",
       "      <td>1.727486e-03</td>\n",
       "      <td>0.041527</td>\n",
       "      <td>0.000000</td>\n",
       "      <td>0.000000</td>\n",
       "      <td>0.000000</td>\n",
       "      <td>0.000000</td>\n",
       "      <td>1.000000</td>\n",
       "    </tr>\n",
       "  </tbody>\n",
       "</table>\n",
       "</div>"
      ],
      "text/plain": [
       "           count          mean           std         min           25%  \\\n",
       "Time    284807.0  9.481386e+04  47488.145955    0.000000  54201.500000   \n",
       "V1      284807.0  3.918649e-15      1.958696  -56.407510     -0.920373   \n",
       "V2      284807.0  5.682686e-16      1.651309  -72.715728     -0.598550   \n",
       "V3      284807.0 -8.761736e-15      1.516255  -48.325589     -0.890365   \n",
       "V4      284807.0  2.811118e-15      1.415869   -5.683171     -0.848640   \n",
       "V5      284807.0 -1.552103e-15      1.380247 -113.743307     -0.691597   \n",
       "V6      284807.0  2.040130e-15      1.332271  -26.160506     -0.768296   \n",
       "V7      284807.0 -1.698953e-15      1.237094  -43.557242     -0.554076   \n",
       "V8      284807.0 -1.893285e-16      1.194353  -73.216718     -0.208630   \n",
       "V9      284807.0 -3.147640e-15      1.098632  -13.434066     -0.643098   \n",
       "V10     284807.0  1.772925e-15      1.088850  -24.588262     -0.535426   \n",
       "V11     284807.0  9.289524e-16      1.020713   -4.797473     -0.762494   \n",
       "V12     284807.0 -1.803266e-15      0.999201  -18.683715     -0.405571   \n",
       "V13     284807.0  1.674888e-15      0.995274   -5.791881     -0.648539   \n",
       "V14     284807.0  1.475621e-15      0.958596  -19.214325     -0.425574   \n",
       "V15     284807.0  3.501098e-15      0.915316   -4.498945     -0.582884   \n",
       "V16     284807.0  1.392460e-15      0.876253  -14.129855     -0.468037   \n",
       "V17     284807.0 -7.466538e-16      0.849337  -25.162799     -0.483748   \n",
       "V18     284807.0  4.258754e-16      0.838176   -9.498746     -0.498850   \n",
       "V19     284807.0  9.019919e-16      0.814041   -7.213527     -0.456299   \n",
       "V20     284807.0  5.126845e-16      0.770925  -54.497720     -0.211721   \n",
       "V21     284807.0  1.473120e-16      0.734524  -34.830382     -0.228395   \n",
       "V22     284807.0  8.042109e-16      0.725702  -10.933144     -0.542350   \n",
       "V23     284807.0  5.282512e-16      0.624460  -44.807735     -0.161846   \n",
       "V24     284807.0  4.456271e-15      0.605647   -2.836627     -0.354586   \n",
       "V25     284807.0  1.426896e-15      0.521278  -10.295397     -0.317145   \n",
       "V26     284807.0  1.701640e-15      0.482227   -2.604551     -0.326984   \n",
       "V27     284807.0 -3.662252e-16      0.403632  -22.565679     -0.070840   \n",
       "V28     284807.0 -1.217809e-16      0.330083  -15.430084     -0.052960   \n",
       "Amount  284807.0  8.834962e+01    250.120109    0.000000      5.600000   \n",
       "Class   284807.0  1.727486e-03      0.041527    0.000000      0.000000   \n",
       "\n",
       "                 50%            75%            max  \n",
       "Time    84692.000000  139320.500000  172792.000000  \n",
       "V1          0.018109       1.315642       2.454930  \n",
       "V2          0.065486       0.803724      22.057729  \n",
       "V3          0.179846       1.027196       9.382558  \n",
       "V4         -0.019847       0.743341      16.875344  \n",
       "V5         -0.054336       0.611926      34.801666  \n",
       "V6         -0.274187       0.398565      73.301626  \n",
       "V7          0.040103       0.570436     120.589494  \n",
       "V8          0.022358       0.327346      20.007208  \n",
       "V9         -0.051429       0.597139      15.594995  \n",
       "V10        -0.092917       0.453923      23.745136  \n",
       "V11        -0.032757       0.739593      12.018913  \n",
       "V12         0.140033       0.618238       7.848392  \n",
       "V13        -0.013568       0.662505       7.126883  \n",
       "V14         0.050601       0.493150      10.526766  \n",
       "V15         0.048072       0.648821       8.877742  \n",
       "V16         0.066413       0.523296      17.315112  \n",
       "V17        -0.065676       0.399675       9.253526  \n",
       "V18        -0.003636       0.500807       5.041069  \n",
       "V19         0.003735       0.458949       5.591971  \n",
       "V20        -0.062481       0.133041      39.420904  \n",
       "V21        -0.029450       0.186377      27.202839  \n",
       "V22         0.006782       0.528554      10.503090  \n",
       "V23        -0.011193       0.147642      22.528412  \n",
       "V24         0.040976       0.439527       4.584549  \n",
       "V25         0.016594       0.350716       7.519589  \n",
       "V26        -0.052139       0.240952       3.517346  \n",
       "V27         0.001342       0.091045      31.612198  \n",
       "V28         0.011244       0.078280      33.847808  \n",
       "Amount     22.000000      77.165000   25691.160000  \n",
       "Class       0.000000       0.000000       1.000000  "
      ]
     },
     "execution_count": 14,
     "metadata": {},
     "output_type": "execute_result"
    }
   ],
   "source": [
    "df.describe().T"
   ]
  },
  {
   "cell_type": "markdown",
   "id": "3718ccf9",
   "metadata": {
    "papermill": {
     "duration": 0.08608,
     "end_time": "2022-04-30T02:33:59.362886",
     "exception": false,
     "start_time": "2022-04-30T02:33:59.276806",
     "status": "completed"
    },
    "tags": []
   },
   "source": [
    "As stated from the dataset author, the feature in the dataset is obtained from PCA. The only features that not obtained from PCA are 'Amount' and 'Time'. Standard scaler is required to apply on these two features. It is to avoid the model to have a false sense of feature 'Amount' and 'Time' is more significant than the rest of features when model being trained."
   ]
  },
  {
   "cell_type": "code",
   "execution_count": 15,
   "id": "3415e34e",
   "metadata": {
    "execution": {
     "iopub.execute_input": "2022-04-30T02:33:59.547138Z",
     "iopub.status.busy": "2022-04-30T02:33:59.544070Z",
     "iopub.status.idle": "2022-04-30T02:33:59.550232Z",
     "shell.execute_reply": "2022-04-30T02:33:59.550789Z",
     "shell.execute_reply.started": "2022-04-29T09:04:38.555531Z"
    },
    "papermill": {
     "duration": 0.100642,
     "end_time": "2022-04-30T02:33:59.550983",
     "exception": false,
     "start_time": "2022-04-30T02:33:59.450341",
     "status": "completed"
    },
    "tags": []
   },
   "outputs": [
    {
     "data": {
      "text/plain": [
       "0    99.816761\n",
       "1     0.183239\n",
       "Name: Class, dtype: float64"
      ]
     },
     "execution_count": 15,
     "metadata": {},
     "output_type": "execute_result"
    }
   ],
   "source": [
    "label_weight_perc = train_df['Class'].value_counts(normalize=True) * 100\n",
    "\n",
    "label_weight_perc"
   ]
  },
  {
   "cell_type": "markdown",
   "id": "9c089bb9",
   "metadata": {
    "papermill": {
     "duration": 0.087065,
     "end_time": "2022-04-30T02:33:59.726330",
     "exception": false,
     "start_time": "2022-04-30T02:33:59.639265",
     "status": "completed"
    },
    "tags": []
   },
   "source": [
    "Another interesting fact is that the dataset label is extremely imbalanced. 99.83% of the instances in the dataset is not fraud while only 0.17% of the instances are fraud. This will lead the model training extremely difficult and appropriate metrics to measure the model is required."
   ]
  },
  {
   "cell_type": "code",
   "execution_count": 16,
   "id": "a560f007",
   "metadata": {
    "execution": {
     "iopub.execute_input": "2022-04-30T02:33:59.904966Z",
     "iopub.status.busy": "2022-04-30T02:33:59.904203Z",
     "iopub.status.idle": "2022-04-30T02:34:00.423561Z",
     "shell.execute_reply": "2022-04-30T02:34:00.422922Z",
     "shell.execute_reply.started": "2022-04-29T09:04:38.56652Z"
    },
    "papermill": {
     "duration": 0.609933,
     "end_time": "2022-04-30T02:34:00.423723",
     "exception": false,
     "start_time": "2022-04-30T02:33:59.813790",
     "status": "completed"
    },
    "tags": []
   },
   "outputs": [
    {
     "data": {
      "text/plain": [
       "V17      -0.362884\n",
       "V14      -0.313362\n",
       "V12      -0.269756\n",
       "V10      -0.238518\n",
       "V16      -0.219037\n",
       "V3       -0.215121\n",
       "V7       -0.214055\n",
       "V18      -0.128889\n",
       "V1       -0.111857\n",
       "V5       -0.109178\n",
       "V9       -0.101438\n",
       "V6       -0.044186\n",
       "Time     -0.013098\n",
       "V24      -0.007756\n",
       "V15      -0.005866\n",
       "V23      -0.003444\n",
       "V13      -0.001646\n",
       "V25      -0.000684\n",
       "V22       0.000467\n",
       "V26       0.000546\n",
       "Amount    0.004786\n",
       "V28       0.009031\n",
       "V8        0.015440\n",
       "V20       0.017704\n",
       "V27       0.021062\n",
       "V19       0.038386\n",
       "V21       0.052034\n",
       "V2        0.100242\n",
       "V4        0.137693\n",
       "V11       0.165494\n",
       "Class     1.000000\n",
       "Name: Class, dtype: float64"
      ]
     },
     "execution_count": 16,
     "metadata": {},
     "output_type": "execute_result"
    }
   ],
   "source": [
    "train_df.corr()['Class'].sort_values()"
   ]
  },
  {
   "cell_type": "markdown",
   "id": "95402ac8",
   "metadata": {
    "papermill": {
     "duration": 0.086796,
     "end_time": "2022-04-30T02:34:00.599068",
     "exception": false,
     "start_time": "2022-04-30T02:34:00.512272",
     "status": "completed"
    },
    "tags": []
   },
   "source": [
    "## 6.2 Detect for Outliers"
   ]
  },
  {
   "cell_type": "code",
   "execution_count": 17,
   "id": "e3bc0476",
   "metadata": {
    "execution": {
     "iopub.execute_input": "2022-04-30T02:34:00.779160Z",
     "iopub.status.busy": "2022-04-30T02:34:00.778405Z",
     "iopub.status.idle": "2022-04-30T02:34:01.088650Z",
     "shell.execute_reply": "2022-04-30T02:34:01.089271Z",
     "shell.execute_reply.started": "2022-04-29T09:04:39.099254Z"
    },
    "papermill": {
     "duration": 0.403183,
     "end_time": "2022-04-30T02:34:01.089453",
     "exception": false,
     "start_time": "2022-04-30T02:34:00.686270",
     "status": "completed"
    },
    "tags": []
   },
   "outputs": [
    {
     "data": {
      "image/png": "[encoded data removed]",
      "text/plain": [
       "<Figure size 900x600 with 1 Axes>"
      ]
     },
     "metadata": {},
     "output_type": "display_data"
    }
   ],
   "source": [
    "sns.boxplot(data=train_df, y='Amount')\n",
    "\n",
    "plt.show()"
   ]
  },
  {
   "cell_type": "markdown",
   "id": "179bcdc7",
   "metadata": {
    "papermill": {
     "duration": 0.089327,
     "end_time": "2022-04-30T02:34:01.267944",
     "exception": false,
     "start_time": "2022-04-30T02:34:01.178617",
     "status": "completed"
    },
    "tags": []
   },
   "source": [
    "From above graph, we can see the box plot for the feature 'Amount' contains outlier"
   ]
  },
  {
   "cell_type": "code",
   "execution_count": 18,
   "id": "e404c9b7",
   "metadata": {
    "execution": {
     "iopub.execute_input": "2022-04-30T02:34:01.448575Z",
     "iopub.status.busy": "2022-04-30T02:34:01.447825Z",
     "iopub.status.idle": "2022-04-30T02:34:01.458067Z",
     "shell.execute_reply": "2022-04-30T02:34:01.458653Z",
     "shell.execute_reply.started": "2022-04-29T09:04:39.413479Z"
    },
    "papermill": {
     "duration": 0.102376,
     "end_time": "2022-04-30T02:34:01.458841",
     "exception": false,
     "start_time": "2022-04-30T02:34:01.356465",
     "status": "completed"
    },
    "tags": []
   },
   "outputs": [],
   "source": [
    "feature_outlier = dict()\n",
    "\n",
    "class Outlier:\n",
    "    def __init__(self, q1, q3):\n",
    "        self.q1 = q1\n",
    "        self.q3 = q3\n",
    "        self.iqr = q3 - q1\n",
    "    \n",
    "    def get_outlier_boundary(self):\n",
    "        lower_fence = self.q1 - 1.5 * self.iqr\n",
    "        upper_fence = self.q3 + 1.5 * self.iqr\n",
    "        \n",
    "        return lower_fence, upper_fence\n",
    "\n",
    "\n",
    "def filter_outlier(df, cols=[]):\n",
    "    if 'is_outlier' not in df.columns:\n",
    "        df['is_outlier'] = (False) * len(df)\n",
    "        \n",
    "    for col in cols:\n",
    "        if col in feature_outlier.keys():\n",
    "            outlier = feature_outlier[col]\n",
    "        else:\n",
    "            q1 = df[col].quantile(0.25)\n",
    "            q3 = df[col].quantile(0.75)\n",
    "            \n",
    "            outlier = Outlier(q1, q3)\n",
    "            feature_outlier[col] = outlier\n",
    "             \n",
    "        lower_fence, upper_fence = outlier.get_outlier_boundary()\n",
    "        \n",
    "        outlier = (df[col] < lower_fence) | (df[col] > upper_fence)\n",
    "        \n",
    "        df['is_outlier'] = outlier | df['is_outlier']\n",
    "        \n",
    "    df = df[~df['is_outlier']]\n",
    "    df = df.drop(['is_outlier'], axis=1)\n",
    "             \n",
    "    return df"
   ]
  },
  {
   "cell_type": "code",
   "execution_count": 19,
   "id": "2f8b5e07",
   "metadata": {
    "execution": {
     "iopub.execute_input": "2022-04-30T02:34:01.640417Z",
     "iopub.status.busy": "2022-04-30T02:34:01.639706Z",
     "iopub.status.idle": "2022-04-30T02:34:01.690010Z",
     "shell.execute_reply": "2022-04-30T02:34:01.690642Z",
     "shell.execute_reply.started": "2022-04-29T09:04:39.424144Z"
    },
    "papermill": {
     "duration": 0.142278,
     "end_time": "2022-04-30T02:34:01.690852",
     "exception": false,
     "start_time": "2022-04-30T02:34:01.548574",
     "status": "completed"
    },
    "tags": []
   },
   "outputs": [],
   "source": [
    "train_df = filter_outlier(train_df, cols=['Amount'])"
   ]
  },
  {
   "cell_type": "markdown",
   "id": "043749cc",
   "metadata": {
    "execution": {
     "iopub.execute_input": "2022-04-08T10:37:16.929523Z",
     "iopub.status.busy": "2022-04-08T10:37:16.92918Z",
     "iopub.status.idle": "2022-04-08T10:37:16.933658Z",
     "shell.execute_reply": "2022-04-08T10:37:16.93275Z",
     "shell.execute_reply.started": "2022-04-08T10:37:16.929487Z"
    },
    "papermill": {
     "duration": 0.089027,
     "end_time": "2022-04-30T02:34:01.869837",
     "exception": false,
     "start_time": "2022-04-30T02:34:01.780810",
     "status": "completed"
    },
    "tags": []
   },
   "source": [
    "## 6.3 Data Cleaning"
   ]
  },
  {
   "cell_type": "code",
   "execution_count": 20,
   "id": "e5a55431",
   "metadata": {
    "execution": {
     "iopub.execute_input": "2022-04-30T02:34:02.071159Z",
     "iopub.status.busy": "2022-04-30T02:34:02.070434Z",
     "iopub.status.idle": "2022-04-30T02:34:02.089058Z",
     "shell.execute_reply": "2022-04-30T02:34:02.089627Z",
     "shell.execute_reply.started": "2022-04-29T09:04:39.484935Z"
    },
    "papermill": {
     "duration": 0.128909,
     "end_time": "2022-04-30T02:34:02.089806",
     "exception": false,
     "start_time": "2022-04-30T02:34:01.960897",
     "status": "completed"
    },
    "tags": []
   },
   "outputs": [
    {
     "data": {
      "text/plain": [
       "Time      0\n",
       "V1        0\n",
       "V2        0\n",
       "V3        0\n",
       "V4        0\n",
       "V5        0\n",
       "V6        0\n",
       "V7        0\n",
       "V8        0\n",
       "V9        0\n",
       "V10       0\n",
       "V11       0\n",
       "V12       0\n",
       "V13       0\n",
       "V14       0\n",
       "V15       0\n",
       "V16       0\n",
       "V17       0\n",
       "V18       0\n",
       "V19       0\n",
       "V20       0\n",
       "V21       0\n",
       "V22       0\n",
       "V23       0\n",
       "V24       0\n",
       "V25       0\n",
       "V26       0\n",
       "V27       0\n",
       "V28       0\n",
       "Amount    0\n",
       "Class     0\n",
       "dtype: int64"
      ]
     },
     "execution_count": 20,
     "metadata": {},
     "output_type": "execute_result"
    }
   ],
   "source": [
    "train_df.isnull().sum()"
   ]
  },
  {
   "cell_type": "markdown",
   "id": "0f62edad",
   "metadata": {
    "papermill": {
     "duration": 0.089647,
     "end_time": "2022-04-30T02:34:02.269059",
     "exception": false,
     "start_time": "2022-04-30T02:34:02.179412",
     "status": "completed"
    },
    "tags": []
   },
   "source": [
    "Data cleaning is not required as the dataset has been cleaned by the dataset author."
   ]
  },
  {
   "cell_type": "markdown",
   "id": "7084b3b4",
   "metadata": {
    "papermill": {
     "duration": 0.089372,
     "end_time": "2022-04-30T02:34:02.448973",
     "exception": false,
     "start_time": "2022-04-30T02:34:02.359601",
     "status": "completed"
    },
    "tags": []
   },
   "source": [
    "## 6.4 Feature Scaling"
   ]
  },
  {
   "cell_type": "markdown",
   "id": "5eaec0d6",
   "metadata": {
    "papermill": {
     "duration": 0.089665,
     "end_time": "2022-04-30T02:34:02.628208",
     "exception": false,
     "start_time": "2022-04-30T02:34:02.538543",
     "status": "completed"
    },
    "tags": []
   },
   "source": [
    "Applying standardisation to the feature 'Amount' and 'Time'"
   ]
  },
  {
   "cell_type": "code",
   "execution_count": 21,
   "id": "ecb147c1",
   "metadata": {
    "execution": {
     "iopub.execute_input": "2022-04-30T02:34:02.814721Z",
     "iopub.status.busy": "2022-04-30T02:34:02.813923Z",
     "iopub.status.idle": "2022-04-30T02:34:02.815322Z",
     "shell.execute_reply": "2022-04-30T02:34:02.815943Z",
     "shell.execute_reply.started": "2022-04-29T09:04:39.504619Z"
    },
    "papermill": {
     "duration": 0.097007,
     "end_time": "2022-04-30T02:34:02.816137",
     "exception": false,
     "start_time": "2022-04-30T02:34:02.719130",
     "status": "completed"
    },
    "tags": []
   },
   "outputs": [],
   "source": [
    "std_feat = ['Amount', 'Time']\n",
    "std_pipeline = Pipeline([\n",
    "    ('std_scaler', StandardScaler())\n",
    "])"
   ]
  },
  {
   "cell_type": "markdown",
   "id": "c7a16061",
   "metadata": {
    "papermill": {
     "duration": 0.091362,
     "end_time": "2022-04-30T02:34:02.998651",
     "exception": false,
     "start_time": "2022-04-30T02:34:02.907289",
     "status": "completed"
    },
    "tags": []
   },
   "source": [
    "## 6.5 Full Transformation"
   ]
  },
  {
   "cell_type": "code",
   "execution_count": 22,
   "id": "973bb48d",
   "metadata": {
    "execution": {
     "iopub.execute_input": "2022-04-30T02:34:03.204065Z",
     "iopub.status.busy": "2022-04-30T02:34:03.203388Z",
     "iopub.status.idle": "2022-04-30T02:34:03.208182Z",
     "shell.execute_reply": "2022-04-30T02:34:03.208765Z",
     "shell.execute_reply.started": "2022-04-29T09:04:39.509498Z"
    },
    "papermill": {
     "duration": 0.110577,
     "end_time": "2022-04-30T02:34:03.208940",
     "exception": false,
     "start_time": "2022-04-30T02:34:03.098363",
     "status": "completed"
    },
    "tags": []
   },
   "outputs": [],
   "source": [
    "full_pipeline = ColumnTransformer([\n",
    "    ('std_feat', std_pipeline, std_feat)\n",
    "], remainder='passthrough')"
   ]
  },
  {
   "cell_type": "code",
   "execution_count": 23,
   "id": "77e12f60",
   "metadata": {
    "execution": {
     "iopub.execute_input": "2022-04-30T02:34:03.407666Z",
     "iopub.status.busy": "2022-04-30T02:34:03.406919Z",
     "iopub.status.idle": "2022-04-30T02:34:03.467506Z",
     "shell.execute_reply": "2022-04-30T02:34:03.468008Z",
     "shell.execute_reply.started": "2022-04-29T09:04:39.524287Z"
    },
    "papermill": {
     "duration": 0.162953,
     "end_time": "2022-04-30T02:34:03.468228",
     "exception": false,
     "start_time": "2022-04-30T02:34:03.305275",
     "status": "completed"
    },
    "tags": []
   },
   "outputs": [],
   "source": [
    "X_train = train_df.drop(['Class'], axis=1)\n",
    "y_train = train_df['Class']\n",
    "\n",
    "X_train = full_pipeline.fit_transform(X_train)"
   ]
  },
  {
   "cell_type": "code",
   "execution_count": 24,
   "id": "be30e713",
   "metadata": {
    "execution": {
     "iopub.execute_input": "2022-04-30T02:34:03.666084Z",
     "iopub.status.busy": "2022-04-30T02:34:03.664893Z",
     "iopub.status.idle": "2022-04-30T02:34:03.679040Z",
     "shell.execute_reply": "2022-04-30T02:34:03.678346Z",
     "shell.execute_reply.started": "2022-04-29T09:04:39.599258Z"
    },
    "papermill": {
     "duration": 0.120165,
     "end_time": "2022-04-30T02:34:03.679215",
     "exception": false,
     "start_time": "2022-04-30T02:34:03.559050",
     "status": "completed"
    },
    "tags": []
   },
   "outputs": [],
   "source": [
    "X_val = val_df.drop(['Class'], axis=1)\n",
    "y_val = val_df['Class']\n",
    "\n",
    "X_val = full_pipeline.transform(X_val)"
   ]
  },
  {
   "cell_type": "code",
   "execution_count": 25,
   "id": "9f66f95c",
   "metadata": {
    "execution": {
     "iopub.execute_input": "2022-04-30T02:34:03.888282Z",
     "iopub.status.busy": "2022-04-30T02:34:03.875333Z",
     "iopub.status.idle": "2022-04-30T02:34:03.905984Z",
     "shell.execute_reply": "2022-04-30T02:34:03.905209Z",
     "shell.execute_reply.started": "2022-04-29T09:04:39.62404Z"
    },
    "papermill": {
     "duration": 0.133754,
     "end_time": "2022-04-30T02:34:03.906165",
     "exception": false,
     "start_time": "2022-04-30T02:34:03.772411",
     "status": "completed"
    },
    "tags": []
   },
   "outputs": [],
   "source": [
    "X_test = test_df.drop(['Class'], axis=1)\n",
    "y_test = test_df['Class']\n",
    "\n",
    "X_test = full_pipeline.transform(X_test)"
   ]
  },
  {
   "cell_type": "markdown",
   "id": "f9e45968",
   "metadata": {
    "execution": {
     "iopub.execute_input": "2022-04-08T10:39:31.377446Z",
     "iopub.status.busy": "2022-04-08T10:39:31.377133Z",
     "iopub.status.idle": "2022-04-08T10:39:31.381394Z",
     "shell.execute_reply": "2022-04-08T10:39:31.380545Z",
     "shell.execute_reply.started": "2022-04-08T10:39:31.377415Z"
    },
    "papermill": {
     "duration": 0.091567,
     "end_time": "2022-04-30T02:34:04.092134",
     "exception": false,
     "start_time": "2022-04-30T02:34:04.000567",
     "status": "completed"
    },
    "tags": []
   },
   "source": [
    "# 7.0 Model Evaluation Metrics"
   ]
  },
  {
   "cell_type": "markdown",
   "id": "f957089d",
   "metadata": {
    "papermill": {
     "duration": 0.089429,
     "end_time": "2022-04-30T02:34:04.270896",
     "exception": false,
     "start_time": "2022-04-30T02:34:04.181467",
     "status": "completed"
    },
    "tags": []
   },
   "source": [
    "Since the dataset label is extremely imbalanced, only 0.18% of instances in the dataset is fraud. Selecting an appropriate evaluation metrics is crucial as standard metrics work well on balanced dataset. \n",
    "\n",
    "For example, using the accuracy as metrics for this dataset. The model can just predict all the instances in the dataset as non-fraud and accuracy of the model still be 99.82%. As 99.82% of the instances in the dataset is non-fraud.\n",
    "\n",
    "Hence, we need to select 'recall' and 'f1-score' as the metrics to evaluate the model."
   ]
  },
  {
   "cell_type": "markdown",
   "id": "f577c9d1",
   "metadata": {
    "papermill": {
     "duration": 0.089179,
     "end_time": "2022-04-30T02:34:04.449412",
     "exception": false,
     "start_time": "2022-04-30T02:34:04.360233",
     "status": "completed"
    },
    "tags": []
   },
   "source": [
    "$$Recall = \\frac{True~Positive}{True~Positive + False~Negative}$$"
   ]
  },
  {
   "cell_type": "markdown",
   "id": "30a6650b",
   "metadata": {
    "papermill": {
     "duration": 0.089226,
     "end_time": "2022-04-30T02:34:04.627989",
     "exception": false,
     "start_time": "2022-04-30T02:34:04.538763",
     "status": "completed"
    },
    "tags": []
   },
   "source": [
    "$$F1~Score = \\frac{2 \\times Precision \\times Recall}{Precision + Recall}$$"
   ]
  },
  {
   "cell_type": "code",
   "execution_count": 26,
   "id": "d9798b2e",
   "metadata": {
    "execution": {
     "iopub.execute_input": "2022-04-30T02:34:04.811070Z",
     "iopub.status.busy": "2022-04-30T02:34:04.810372Z",
     "iopub.status.idle": "2022-04-30T02:34:04.817033Z",
     "shell.execute_reply": "2022-04-30T02:34:04.817616Z",
     "shell.execute_reply.started": "2022-04-29T09:04:39.651923Z"
    },
    "papermill": {
     "duration": 0.10012,
     "end_time": "2022-04-30T02:34:04.817804",
     "exception": false,
     "start_time": "2022-04-30T02:34:04.717684",
     "status": "completed"
    },
    "tags": []
   },
   "outputs": [],
   "source": [
    "model_eval = {\n",
    "    'model': [],\n",
    "    'recall': [],\n",
    "    'f1_score': []\n",
    "}\n",
    "\n",
    "def add_model_eval(model, recall, f1_score):\n",
    "    model_eval['model'].append(model)\n",
    "    model_eval['recall'].append(f'{recall: .2f}')\n",
    "    model_eval['f1_score'].append(f'{f1_score: .2f}')\n",
    "    \n",
    "def view_models_eval(sort=False):\n",
    "    eval_df = pd.DataFrame(model_eval)\n",
    "    \n",
    "    if sort:\n",
    "        eval_df = eval_df.sort_values(by=['recall', 'f1_score'], ascending=[False, False])\n",
    "    \n",
    "    display(eval_df.style.hide_index())"
   ]
  },
  {
   "cell_type": "markdown",
   "id": "62295c59",
   "metadata": {
    "papermill": {
     "duration": 0.090417,
     "end_time": "2022-04-30T02:34:04.998616",
     "exception": false,
     "start_time": "2022-04-30T02:34:04.908199",
     "status": "completed"
    },
    "tags": []
   },
   "source": [
    "# 8.0 Machine Learning Model"
   ]
  },
  {
   "cell_type": "markdown",
   "id": "a1e727d6",
   "metadata": {
    "papermill": {
     "duration": 0.089067,
     "end_time": "2022-04-30T02:34:05.178889",
     "exception": false,
     "start_time": "2022-04-30T02:34:05.089822",
     "status": "completed"
    },
    "tags": []
   },
   "source": [
    "## 8.1 Benchmark Model - Logistic Regression"
   ]
  },
  {
   "cell_type": "markdown",
   "id": "f8f0f980",
   "metadata": {
    "papermill": {
     "duration": 0.089706,
     "end_time": "2022-04-30T02:34:05.358275",
     "exception": false,
     "start_time": "2022-04-30T02:34:05.268569",
     "status": "completed"
    },
    "tags": []
   },
   "source": [
    "The benchmark model for classify credit card instance is fraud or non-fraud will be logistic regression. A logistic regression is the most common model for binary classification."
   ]
  },
  {
   "cell_type": "code",
   "execution_count": 27,
   "id": "8704dbee",
   "metadata": {
    "execution": {
     "iopub.execute_input": "2022-04-30T02:34:05.542199Z",
     "iopub.status.busy": "2022-04-30T02:34:05.541240Z",
     "iopub.status.idle": "2022-04-30T02:34:07.563902Z",
     "shell.execute_reply": "2022-04-30T02:34:07.563005Z",
     "shell.execute_reply.started": "2022-04-29T09:04:39.659617Z"
    },
    "papermill": {
     "duration": 2.117091,
     "end_time": "2022-04-30T02:34:07.564146",
     "exception": false,
     "start_time": "2022-04-30T02:34:05.447055",
     "status": "completed"
    },
    "tags": []
   },
   "outputs": [
    {
     "name": "stderr",
     "output_type": "stream",
     "text": [
      "[Parallel(n_jobs=1)]: Using backend SequentialBackend with 1 concurrent workers.\n",
      " This problem is unconstrained.\n"
     ]
    },
    {
     "name": "stdout",
     "output_type": "stream",
     "text": [
      "RUNNING THE L-BFGS-B CODE\n",
      "\n",
      "           * * *\n",
      "\n",
      "Machine precision = 2.220D-16\n",
      " N =           31     M =           10\n",
      "\n",
      "At X0         0 variables are exactly at the bounds\n",
      "\n",
      "At iterate    0    f=  1.12286D+05    |proj g|=  8.07180D+04\n",
      "\n",
      "At iterate   50    f=  6.18153D+02    |proj g|=  4.81710D-01\n",
      "\n",
      "           * * *\n",
      "\n",
      "Tit   = total number of iterations\n",
      "Tnf   = total number of function evaluations\n",
      "Tnint = total number of segments explored during Cauchy searches\n",
      "Skip  = number of BFGS updates skipped\n",
      "Nact  = number of active bounds at final generalized Cauchy point\n",
      "Projg = norm of the final projected gradient\n",
      "F     = final function value\n",
      "\n",
      "           * * *\n",
      "\n",
      "   N    Tit     Tnf  Tnint  Skip  Nact     Projg        F\n",
      "   31     76     85      1     0     0   3.591D-02   6.181D+02\n",
      "  F =   618.14402077199816     \n",
      "\n",
      "CONVERGENCE: REL_REDUCTION_OF_F_<=_FACTR*EPSMCH             \n"
     ]
    },
    {
     "name": "stderr",
     "output_type": "stream",
     "text": [
      "[Parallel(n_jobs=1)]: Done   1 out of   1 | elapsed:    2.0s finished\n"
     ]
    },
    {
     "data": {
      "text/plain": [
       "LogisticRegression(random_state=42, verbose=1)"
      ]
     },
     "execution_count": 27,
     "metadata": {},
     "output_type": "execute_result"
    }
   ],
   "source": [
    "log_reg = LogisticRegression(random_state=42, verbose=1)\n",
    "log_reg.fit(X_train, y_train)"
   ]
  },
  {
   "cell_type": "code",
   "execution_count": 28,
   "id": "a06d72dd",
   "metadata": {
    "execution": {
     "iopub.execute_input": "2022-04-30T02:34:07.804809Z",
     "iopub.status.busy": "2022-04-30T02:34:07.803679Z",
     "iopub.status.idle": "2022-04-30T02:34:07.866513Z",
     "shell.execute_reply": "2022-04-30T02:34:07.867496Z",
     "shell.execute_reply.started": "2022-04-29T09:04:41.822587Z"
    },
    "papermill": {
     "duration": 0.16401,
     "end_time": "2022-04-30T02:34:07.867798",
     "exception": false,
     "start_time": "2022-04-30T02:34:07.703788",
     "status": "completed"
    },
    "tags": []
   },
   "outputs": [],
   "source": [
    "y_pred = log_reg.predict(X_val)\n",
    "\n",
    "add_model_eval('logistic regression', recall_score(y_val, y_pred), f1_score(y_val, y_pred))"
   ]
  },
  {
   "cell_type": "code",
   "execution_count": 29,
   "id": "c64a9851",
   "metadata": {
    "execution": {
     "iopub.execute_input": "2022-04-30T02:34:08.105060Z",
     "iopub.status.busy": "2022-04-30T02:34:08.102989Z",
     "iopub.status.idle": "2022-04-30T02:34:08.175330Z",
     "shell.execute_reply": "2022-04-30T02:34:08.174765Z",
     "shell.execute_reply.started": "2022-04-29T09:04:41.88143Z"
    },
    "papermill": {
     "duration": 0.168113,
     "end_time": "2022-04-30T02:34:08.175485",
     "exception": false,
     "start_time": "2022-04-30T02:34:08.007372",
     "status": "completed"
    },
    "tags": []
   },
   "outputs": [
    {
     "data": {
      "text/html": [
       "<style type=\"text/css\">\n",
       "</style>\n",
       "<table id=\"T_aec7a_\">\n",
       "  <thead>\n",
       "    <tr>\n",
       "      <th class=\"col_heading level0 col0\" >model</th>\n",
       "      <th class=\"col_heading level0 col1\" >recall</th>\n",
       "      <th class=\"col_heading level0 col2\" >f1_score</th>\n",
       "    </tr>\n",
       "  </thead>\n",
       "  <tbody>\n",
       "    <tr>\n",
       "      <td id=\"T_aec7a_row0_col0\" class=\"data row0 col0\" >logistic regression</td>\n",
       "      <td id=\"T_aec7a_row0_col1\" class=\"data row0 col1\" > 0.51</td>\n",
       "      <td id=\"T_aec7a_row0_col2\" class=\"data row0 col2\" > 0.63</td>\n",
       "    </tr>\n",
       "  </tbody>\n",
       "</table>\n"
      ],
      "text/plain": [
       "<pandas.io.formats.style.Styler at 0x7f364106cdd0>"
      ]
     },
     "metadata": {},
     "output_type": "display_data"
    }
   ],
   "source": [
    "view_models_eval()"
   ]
  },
  {
   "cell_type": "markdown",
   "id": "a5c23941",
   "metadata": {
    "papermill": {
     "duration": 0.093112,
     "end_time": "2022-04-30T02:34:08.362679",
     "exception": false,
     "start_time": "2022-04-30T02:34:08.269567",
     "status": "completed"
    },
    "tags": []
   },
   "source": [
    "Based on logistic regression, the recall and f1_score are 0.51 and 0.63 respectively. With a recall of 0.51, the model able to detect about half of the fraud instances correctly. There still room to improve the metric score. Let try other model with default parameter first and compare to logistic regression before fine-tune the logistic regression."
   ]
  },
  {
   "cell_type": "markdown",
   "id": "aa11df2e",
   "metadata": {
    "papermill": {
     "duration": 0.091863,
     "end_time": "2022-04-30T02:34:08.546916",
     "exception": false,
     "start_time": "2022-04-30T02:34:08.455053",
     "status": "completed"
    },
    "tags": []
   },
   "source": [
    "## 8.2 Other Models"
   ]
  },
  {
   "cell_type": "markdown",
   "id": "976328e7",
   "metadata": {
    "papermill": {
     "duration": 0.09195,
     "end_time": "2022-04-30T02:34:08.730907",
     "exception": false,
     "start_time": "2022-04-30T02:34:08.638957",
     "status": "completed"
    },
    "tags": []
   },
   "source": [
    "Below the list of model will be trained to classify the credit card dataset as fraud or non-fraud:\n",
    "- Stochastic Gradient Descent (SGD) Classifier\n",
    "- Random Forest Classifier\n",
    "- Support Vector Machine Classifier\n",
    "- Naive Bayes"
   ]
  },
  {
   "cell_type": "markdown",
   "id": "44f07deb",
   "metadata": {
    "papermill": {
     "duration": 0.092738,
     "end_time": "2022-04-30T02:34:08.916524",
     "exception": false,
     "start_time": "2022-04-30T02:34:08.823786",
     "status": "completed"
    },
    "tags": []
   },
   "source": [
    "### 8.2.1 Stochastic Gradient Descent (SGD) Classifier"
   ]
  },
  {
   "cell_type": "code",
   "execution_count": 30,
   "id": "bfbaaef5",
   "metadata": {
    "execution": {
     "iopub.execute_input": "2022-04-30T02:34:09.110835Z",
     "iopub.status.busy": "2022-04-30T02:34:09.110149Z",
     "iopub.status.idle": "2022-04-30T02:34:09.688241Z",
     "shell.execute_reply": "2022-04-30T02:34:09.688745Z",
     "shell.execute_reply.started": "2022-04-29T09:04:41.99257Z"
    },
    "papermill": {
     "duration": 0.679417,
     "end_time": "2022-04-30T02:34:09.688918",
     "exception": false,
     "start_time": "2022-04-30T02:34:09.009501",
     "status": "completed"
    },
    "tags": []
   },
   "outputs": [
    {
     "name": "stdout",
     "output_type": "stream",
     "text": [
      "-- Epoch 1\n",
      "Norm: 20.21, NNZs: 30, Bias: -205.779552, T: 161994, Avg. loss: 0.186151\n",
      "Total training time: 0.04 seconds.\n",
      "-- Epoch 2\n",
      "Norm: 20.22, NNZs: 30, Bias: -201.759114, T: 323988, Avg. loss: 0.090558\n",
      "Total training time: 0.07 seconds.\n",
      "-- Epoch 3\n",
      "Norm: 18.23, NNZs: 30, Bias: -199.595128, T: 485982, Avg. loss: 0.084583\n",
      "Total training time: 0.11 seconds.\n",
      "-- Epoch 4\n",
      "Norm: 18.94, NNZs: 30, Bias: -197.861440, T: 647976, Avg. loss: 0.085741\n",
      "Total training time: 0.15 seconds.\n",
      "-- Epoch 5\n",
      "Norm: 18.85, NNZs: 30, Bias: -196.565582, T: 809970, Avg. loss: 0.083475\n",
      "Total training time: 0.18 seconds.\n",
      "-- Epoch 6\n",
      "Norm: 18.92, NNZs: 30, Bias: -195.497796, T: 971964, Avg. loss: 0.082176\n",
      "Total training time: 0.22 seconds.\n",
      "-- Epoch 7\n",
      "Norm: 18.51, NNZs: 30, Bias: -194.637519, T: 1133958, Avg. loss: 0.080905\n",
      "Total training time: 0.26 seconds.\n",
      "-- Epoch 8\n",
      "Norm: 18.67, NNZs: 30, Bias: -193.845960, T: 1295952, Avg. loss: 0.081004\n",
      "Total training time: 0.29 seconds.\n",
      "-- Epoch 9\n",
      "Norm: 18.65, NNZs: 30, Bias: -193.169375, T: 1457946, Avg. loss: 0.078881\n",
      "Total training time: 0.33 seconds.\n",
      "-- Epoch 10\n",
      "Norm: 18.90, NNZs: 30, Bias: -192.534059, T: 1619940, Avg. loss: 0.079411\n",
      "Total training time: 0.37 seconds.\n",
      "-- Epoch 11\n",
      "Norm: 18.63, NNZs: 30, Bias: -192.003974, T: 1781934, Avg. loss: 0.079296\n",
      "Total training time: 0.41 seconds.\n",
      "-- Epoch 12\n",
      "Norm: 18.60, NNZs: 30, Bias: -191.498509, T: 1943928, Avg. loss: 0.079111\n",
      "Total training time: 0.44 seconds.\n",
      "-- Epoch 13\n",
      "Norm: 18.42, NNZs: 30, Bias: -191.048473, T: 2105922, Avg. loss: 0.078938\n",
      "Total training time: 0.48 seconds.\n",
      "-- Epoch 14\n",
      "Norm: 18.46, NNZs: 30, Bias: -190.613666, T: 2267916, Avg. loss: 0.078636\n",
      "Total training time: 0.52 seconds.\n",
      "Convergence after 14 epochs took 0.52 seconds\n"
     ]
    },
    {
     "data": {
      "text/plain": [
       "SGDClassifier(random_state=42, verbose=1)"
      ]
     },
     "execution_count": 30,
     "metadata": {},
     "output_type": "execute_result"
    }
   ],
   "source": [
    "sgd_clf = SGDClassifier(random_state=42, verbose=1)\n",
    "sgd_clf.fit(X_train, y_train)"
   ]
  },
  {
   "cell_type": "code",
   "execution_count": 31,
   "id": "24415349",
   "metadata": {
    "execution": {
     "iopub.execute_input": "2022-04-30T02:34:09.899273Z",
     "iopub.status.busy": "2022-04-30T02:34:09.897932Z",
     "iopub.status.idle": "2022-04-30T02:34:09.951310Z",
     "shell.execute_reply": "2022-04-30T02:34:09.952251Z",
     "shell.execute_reply.started": "2022-04-29T09:04:42.536937Z"
    },
    "papermill": {
     "duration": 0.155876,
     "end_time": "2022-04-30T02:34:09.952551",
     "exception": false,
     "start_time": "2022-04-30T02:34:09.796675",
     "status": "completed"
    },
    "tags": []
   },
   "outputs": [],
   "source": [
    "y_pred = sgd_clf.predict(X_val)\n",
    "\n",
    "add_model_eval('sgd classifier', recall_score(y_val, y_pred), f1_score(y_val, y_pred))"
   ]
  },
  {
   "cell_type": "code",
   "execution_count": 32,
   "id": "fcb1b785",
   "metadata": {
    "execution": {
     "iopub.execute_input": "2022-04-30T02:34:10.179215Z",
     "iopub.status.busy": "2022-04-30T02:34:10.178161Z",
     "iopub.status.idle": "2022-04-30T02:34:10.183842Z",
     "shell.execute_reply": "2022-04-30T02:34:10.184305Z",
     "shell.execute_reply.started": "2022-04-29T09:04:42.597965Z"
    },
    "papermill": {
     "duration": 0.105213,
     "end_time": "2022-04-30T02:34:10.184492",
     "exception": false,
     "start_time": "2022-04-30T02:34:10.079279",
     "status": "completed"
    },
    "tags": []
   },
   "outputs": [
    {
     "data": {
      "text/html": [
       "<style type=\"text/css\">\n",
       "</style>\n",
       "<table id=\"T_45a64_\">\n",
       "  <thead>\n",
       "    <tr>\n",
       "      <th class=\"col_heading level0 col0\" >model</th>\n",
       "      <th class=\"col_heading level0 col1\" >recall</th>\n",
       "      <th class=\"col_heading level0 col2\" >f1_score</th>\n",
       "    </tr>\n",
       "  </thead>\n",
       "  <tbody>\n",
       "    <tr>\n",
       "      <td id=\"T_45a64_row0_col0\" class=\"data row0 col0\" >logistic regression</td>\n",
       "      <td id=\"T_45a64_row0_col1\" class=\"data row0 col1\" > 0.51</td>\n",
       "      <td id=\"T_45a64_row0_col2\" class=\"data row0 col2\" > 0.63</td>\n",
       "    </tr>\n",
       "    <tr>\n",
       "      <td id=\"T_45a64_row1_col0\" class=\"data row1 col0\" >sgd classifier</td>\n",
       "      <td id=\"T_45a64_row1_col1\" class=\"data row1 col1\" > 0.47</td>\n",
       "      <td id=\"T_45a64_row1_col2\" class=\"data row1 col2\" > 0.60</td>\n",
       "    </tr>\n",
       "  </tbody>\n",
       "</table>\n"
      ],
      "text/plain": [
       "<pandas.io.formats.style.Styler at 0x7f363cce0e90>"
      ]
     },
     "metadata": {},
     "output_type": "display_data"
    }
   ],
   "source": [
    "view_models_eval()"
   ]
  },
  {
   "cell_type": "markdown",
   "id": "08e428d0",
   "metadata": {
    "papermill": {
     "duration": 0.093899,
     "end_time": "2022-04-30T02:34:10.373441",
     "exception": false,
     "start_time": "2022-04-30T02:34:10.279542",
     "status": "completed"
    },
    "tags": []
   },
   "source": [
    "### 8.2.2 Random Forest Classifier"
   ]
  },
  {
   "cell_type": "code",
   "execution_count": 33,
   "id": "18af3ab0",
   "metadata": {
    "execution": {
     "iopub.execute_input": "2022-04-30T02:34:10.567926Z",
     "iopub.status.busy": "2022-04-30T02:34:10.567024Z",
     "iopub.status.idle": "2022-04-30T02:35:00.263022Z",
     "shell.execute_reply": "2022-04-30T02:35:00.262462Z",
     "shell.execute_reply.started": "2022-04-29T09:04:42.611588Z"
    },
    "papermill": {
     "duration": 49.795258,
     "end_time": "2022-04-30T02:35:00.263182",
     "exception": false,
     "start_time": "2022-04-30T02:34:10.467924",
     "status": "completed"
    },
    "scrolled": true,
    "tags": []
   },
   "outputs": [
    {
     "name": "stderr",
     "output_type": "stream",
     "text": [
      "[Parallel(n_jobs=4)]: Using backend ThreadingBackend with 4 concurrent workers.\n"
     ]
    },
    {
     "name": "stdout",
     "output_type": "stream",
     "text": [
      "building tree 1 of 100\n",
      "building tree 2 of 100\n",
      "building tree 3 of 100\n",
      "building tree 4 of 100\n",
      "building tree 5 of 100\n",
      "building tree 6 of 100\n",
      "building tree 7 of 100\n",
      "building tree 8 of 100\n",
      "building tree 9 of 100\n",
      "building tree 10 of 100\n",
      "building tree 11 of 100\n",
      "building tree 12 of 100\n",
      "building tree 13 of 100\n",
      "building tree 14 of 100\n",
      "building tree 15 of 100\n",
      "building tree 16 of 100\n",
      "building tree 17 of 100\n",
      "building tree 18 of 100\n",
      "building tree 19 of 100\n",
      "building tree 20 of 100\n",
      "building tree 21 of 100\n",
      "building tree 22 of 100\n",
      "building tree 23 of 100\n",
      "building tree 24 of 100\n",
      "building tree 25 of 100\n",
      "building tree 26 of 100\n",
      "building tree 27 of 100\n",
      "building tree 28 of 100\n",
      "building tree 29 of 100\n",
      "building tree 30 of 100\n",
      "building tree 31 of 100\n",
      "building tree 32 of 100\n",
      "building tree 33 of 100\n",
      "building tree 34 of 100\n",
      "building tree 35 of 100\n",
      "building tree 36 of 100\n"
     ]
    },
    {
     "name": "stderr",
     "output_type": "stream",
     "text": [
      "[Parallel(n_jobs=4)]: Done  33 tasks      | elapsed:   16.7s\n"
     ]
    },
    {
     "name": "stdout",
     "output_type": "stream",
     "text": [
      "building tree 37 of 100\n",
      "building tree 38 of 100\n",
      "building tree 39 of 100\n",
      "building tree 40 of 100\n",
      "building tree 41 of 100\n",
      "building tree 42 of 100\n",
      "building tree 43 of 100\n",
      "building tree 44 of 100\n",
      "building tree 45 of 100\n",
      "building tree 46 of 100\n",
      "building tree 47 of 100\n",
      "building tree 48 of 100\n",
      "building tree 49 of 100\n",
      "building tree 50 of 100\n",
      "building tree 51 of 100\n",
      "building tree 52 of 100\n",
      "building tree 53 of 100\n",
      "building tree 54 of 100\n",
      "building tree 55 of 100\n",
      "building tree 56 of 100\n",
      "building tree 57 of 100\n",
      "building tree 58 of 100\n",
      "building tree 59 of 100\n",
      "building tree 60 of 100\n",
      "building tree 61 of 100\n",
      "building tree 62 of 100\n",
      "building tree 63 of 100\n",
      "building tree 64 of 100\n",
      "building tree 65 of 100\n",
      "building tree 66 of 100\n",
      "building tree 67 of 100\n",
      "building tree 68 of 100\n",
      "building tree 69 of 100\n",
      "building tree 70 of 100\n",
      "building tree 71 of 100\n",
      "building tree 72 of 100\n",
      "building tree 73 of 100\n",
      "building tree 74 of 100\n",
      "building tree 75 of 100\n",
      "building tree 76 of 100\n",
      "building tree 77 of 100\n",
      "building tree 78 of 100\n",
      "building tree 79 of 100\n",
      "building tree 80 of 100\n",
      "building tree 81 of 100\n",
      "building tree 82 of 100\n",
      "building tree 83 of 100\n",
      "building tree 84 of 100\n",
      "building tree 85 of 100\n",
      "building tree 86 of 100\n",
      "building tree 87 of 100\n",
      "building tree 88 of 100\n",
      "building tree 89 of 100\n",
      "building tree 90 of 100\n",
      "building tree 91 of 100\n",
      "building tree 92 of 100\n",
      "building tree 93 of 100\n",
      "building tree 94 of 100\n",
      "building tree 95 of 100\n",
      "building tree 96 of 100\n",
      "building tree 97 of 100\n",
      "building tree 98 of 100\n",
      "building tree 99 of 100\n",
      "building tree 100 of 100\n"
     ]
    },
    {
     "name": "stderr",
     "output_type": "stream",
     "text": [
      "[Parallel(n_jobs=4)]: Done 100 out of 100 | elapsed:   49.6s finished\n"
     ]
    },
    {
     "data": {
      "text/plain": [
       "RandomForestClassifier(n_jobs=4, random_state=42, verbose=2)"
      ]
     },
     "execution_count": 33,
     "metadata": {},
     "output_type": "execute_result"
    }
   ],
   "source": [
    "forest_clf = RandomForestClassifier(random_state=42, verbose=2, n_jobs=n_thread)\n",
    "forest_clf.fit(X_train, y_train)"
   ]
  },
  {
   "cell_type": "code",
   "execution_count": 34,
   "id": "d737c6bb",
   "metadata": {
    "execution": {
     "iopub.execute_input": "2022-04-30T02:35:00.511732Z",
     "iopub.status.busy": "2022-04-30T02:35:00.510526Z",
     "iopub.status.idle": "2022-04-30T02:35:00.745459Z",
     "shell.execute_reply": "2022-04-30T02:35:00.744870Z",
     "shell.execute_reply.started": "2022-04-29T09:05:32.616827Z"
    },
    "papermill": {
     "duration": 0.360989,
     "end_time": "2022-04-30T02:35:00.745614",
     "exception": false,
     "start_time": "2022-04-30T02:35:00.384625",
     "status": "completed"
    },
    "tags": []
   },
   "outputs": [
    {
     "name": "stderr",
     "output_type": "stream",
     "text": [
      "[Parallel(n_jobs=4)]: Using backend ThreadingBackend with 4 concurrent workers.\n",
      "[Parallel(n_jobs=4)]: Done  33 tasks      | elapsed:    0.1s\n",
      "[Parallel(n_jobs=4)]: Done 100 out of 100 | elapsed:    0.2s finished\n"
     ]
    }
   ],
   "source": [
    "y_pred = forest_clf.predict(X_val)\n",
    "\n",
    "add_model_eval('random forest classifier', recall_score(y_val, y_pred), f1_score(y_val, y_pred))"
   ]
  },
  {
   "cell_type": "code",
   "execution_count": 35,
   "id": "f29d4026",
   "metadata": {
    "execution": {
     "iopub.execute_input": "2022-04-30T02:35:01.000916Z",
     "iopub.status.busy": "2022-04-30T02:35:00.995729Z",
     "iopub.status.idle": "2022-04-30T02:35:01.004691Z",
     "shell.execute_reply": "2022-04-30T02:35:01.004023Z",
     "shell.execute_reply.started": "2022-04-29T09:05:32.853704Z"
    },
    "papermill": {
     "duration": 0.134224,
     "end_time": "2022-04-30T02:35:01.004835",
     "exception": false,
     "start_time": "2022-04-30T02:35:00.870611",
     "status": "completed"
    },
    "tags": []
   },
   "outputs": [
    {
     "data": {
      "text/html": [
       "<style type=\"text/css\">\n",
       "</style>\n",
       "<table id=\"T_5c7e1_\">\n",
       "  <thead>\n",
       "    <tr>\n",
       "      <th class=\"col_heading level0 col0\" >model</th>\n",
       "      <th class=\"col_heading level0 col1\" >recall</th>\n",
       "      <th class=\"col_heading level0 col2\" >f1_score</th>\n",
       "    </tr>\n",
       "  </thead>\n",
       "  <tbody>\n",
       "    <tr>\n",
       "      <td id=\"T_5c7e1_row0_col0\" class=\"data row0 col0\" >logistic regression</td>\n",
       "      <td id=\"T_5c7e1_row0_col1\" class=\"data row0 col1\" > 0.51</td>\n",
       "      <td id=\"T_5c7e1_row0_col2\" class=\"data row0 col2\" > 0.63</td>\n",
       "    </tr>\n",
       "    <tr>\n",
       "      <td id=\"T_5c7e1_row1_col0\" class=\"data row1 col0\" >sgd classifier</td>\n",
       "      <td id=\"T_5c7e1_row1_col1\" class=\"data row1 col1\" > 0.47</td>\n",
       "      <td id=\"T_5c7e1_row1_col2\" class=\"data row1 col2\" > 0.60</td>\n",
       "    </tr>\n",
       "    <tr>\n",
       "      <td id=\"T_5c7e1_row2_col0\" class=\"data row2 col0\" >random forest classifier</td>\n",
       "      <td id=\"T_5c7e1_row2_col1\" class=\"data row2 col1\" > 0.78</td>\n",
       "      <td id=\"T_5c7e1_row2_col2\" class=\"data row2 col2\" > 0.86</td>\n",
       "    </tr>\n",
       "  </tbody>\n",
       "</table>\n"
      ],
      "text/plain": [
       "<pandas.io.formats.style.Styler at 0x7f363cd3e750>"
      ]
     },
     "metadata": {},
     "output_type": "display_data"
    }
   ],
   "source": [
    "view_models_eval()"
   ]
  },
  {
   "cell_type": "markdown",
   "id": "f8936718",
   "metadata": {
    "papermill": {
     "duration": 0.122812,
     "end_time": "2022-04-30T02:35:01.254803",
     "exception": false,
     "start_time": "2022-04-30T02:35:01.131991",
     "status": "completed"
    },
    "tags": []
   },
   "source": [
    "### 8.2.3 Support Vector Machine Classifier"
   ]
  },
  {
   "cell_type": "code",
   "execution_count": 36,
   "id": "a83dfc51",
   "metadata": {
    "execution": {
     "iopub.execute_input": "2022-04-30T02:35:01.505086Z",
     "iopub.status.busy": "2022-04-30T02:35:01.504401Z",
     "iopub.status.idle": "2022-04-30T02:36:31.093015Z",
     "shell.execute_reply": "2022-04-30T02:36:31.092415Z",
     "shell.execute_reply.started": "2022-04-29T09:05:32.863729Z"
    },
    "papermill": {
     "duration": 89.715496,
     "end_time": "2022-04-30T02:36:31.093180",
     "exception": false,
     "start_time": "2022-04-30T02:35:01.377684",
     "status": "completed"
    },
    "tags": []
   },
   "outputs": [
    {
     "name": "stdout",
     "output_type": "stream",
     "text": [
      "[LibSVM]..\n",
      "Warning: using -h 0 may be faster\n",
      "*..*\n",
      "optimization finished, #iter = 4462\n",
      "obj = -224.694419, rho = -0.728710\n",
      "nSV = 1937, nBSV = 138\n",
      "Total nSV = 1937\n"
     ]
    },
    {
     "data": {
      "text/plain": [
       "SVC(random_state=42, verbose=2)"
      ]
     },
     "execution_count": 36,
     "metadata": {},
     "output_type": "execute_result"
    }
   ],
   "source": [
    "svm_clf = SVC(random_state=42, verbose=2)\n",
    "svm_clf.fit(X_train, y_train)"
   ]
  },
  {
   "cell_type": "code",
   "execution_count": 37,
   "id": "b900e5db",
   "metadata": {
    "execution": {
     "iopub.execute_input": "2022-04-30T02:36:31.346586Z",
     "iopub.status.busy": "2022-04-30T02:36:31.345886Z",
     "iopub.status.idle": "2022-04-30T02:36:38.586388Z",
     "shell.execute_reply": "2022-04-30T02:36:38.585305Z",
     "shell.execute_reply.started": "2022-04-29T09:07:02.579819Z"
    },
    "papermill": {
     "duration": 7.368522,
     "end_time": "2022-04-30T02:36:38.586550",
     "exception": false,
     "start_time": "2022-04-30T02:36:31.218028",
     "status": "completed"
    },
    "tags": []
   },
   "outputs": [],
   "source": [
    "y_pred = svm_clf.predict(X_val)\n",
    "\n",
    "add_model_eval('support vector machine classifier', recall_score(y_val, y_pred), f1_score(y_val, y_pred))"
   ]
  },
  {
   "cell_type": "code",
   "execution_count": 38,
   "id": "c7c7fd40",
   "metadata": {
    "execution": {
     "iopub.execute_input": "2022-04-30T02:36:38.841432Z",
     "iopub.status.busy": "2022-04-30T02:36:38.840683Z",
     "iopub.status.idle": "2022-04-30T02:36:38.847726Z",
     "shell.execute_reply": "2022-04-30T02:36:38.848221Z",
     "shell.execute_reply.started": "2022-04-29T09:07:09.821918Z"
    },
    "papermill": {
     "duration": 0.135472,
     "end_time": "2022-04-30T02:36:38.848408",
     "exception": false,
     "start_time": "2022-04-30T02:36:38.712936",
     "status": "completed"
    },
    "tags": []
   },
   "outputs": [
    {
     "data": {
      "text/html": [
       "<style type=\"text/css\">\n",
       "</style>\n",
       "<table id=\"T_95f4a_\">\n",
       "  <thead>\n",
       "    <tr>\n",
       "      <th class=\"col_heading level0 col0\" >model</th>\n",
       "      <th class=\"col_heading level0 col1\" >recall</th>\n",
       "      <th class=\"col_heading level0 col2\" >f1_score</th>\n",
       "    </tr>\n",
       "  </thead>\n",
       "  <tbody>\n",
       "    <tr>\n",
       "      <td id=\"T_95f4a_row0_col0\" class=\"data row0 col0\" >logistic regression</td>\n",
       "      <td id=\"T_95f4a_row0_col1\" class=\"data row0 col1\" > 0.51</td>\n",
       "      <td id=\"T_95f4a_row0_col2\" class=\"data row0 col2\" > 0.63</td>\n",
       "    </tr>\n",
       "    <tr>\n",
       "      <td id=\"T_95f4a_row1_col0\" class=\"data row1 col0\" >sgd classifier</td>\n",
       "      <td id=\"T_95f4a_row1_col1\" class=\"data row1 col1\" > 0.47</td>\n",
       "      <td id=\"T_95f4a_row1_col2\" class=\"data row1 col2\" > 0.60</td>\n",
       "    </tr>\n",
       "    <tr>\n",
       "      <td id=\"T_95f4a_row2_col0\" class=\"data row2 col0\" >random forest classifier</td>\n",
       "      <td id=\"T_95f4a_row2_col1\" class=\"data row2 col1\" > 0.78</td>\n",
       "      <td id=\"T_95f4a_row2_col2\" class=\"data row2 col2\" > 0.86</td>\n",
       "    </tr>\n",
       "    <tr>\n",
       "      <td id=\"T_95f4a_row3_col0\" class=\"data row3 col0\" >support vector machine classifier</td>\n",
       "      <td id=\"T_95f4a_row3_col1\" class=\"data row3 col1\" > 0.60</td>\n",
       "      <td id=\"T_95f4a_row3_col2\" class=\"data row3 col2\" > 0.73</td>\n",
       "    </tr>\n",
       "  </tbody>\n",
       "</table>\n"
      ],
      "text/plain": [
       "<pandas.io.formats.style.Styler at 0x7f363ccd84d0>"
      ]
     },
     "metadata": {},
     "output_type": "display_data"
    }
   ],
   "source": [
    "view_models_eval()"
   ]
  },
  {
   "cell_type": "markdown",
   "id": "2cecd50a",
   "metadata": {
    "papermill": {
     "duration": 0.130878,
     "end_time": "2022-04-30T02:36:39.108065",
     "exception": false,
     "start_time": "2022-04-30T02:36:38.977187",
     "status": "completed"
    },
    "tags": []
   },
   "source": [
    "### 8.2.4 Naive Bayes"
   ]
  },
  {
   "cell_type": "code",
   "execution_count": 39,
   "id": "6e326393",
   "metadata": {
    "execution": {
     "iopub.execute_input": "2022-04-30T02:36:39.367212Z",
     "iopub.status.busy": "2022-04-30T02:36:39.366481Z",
     "iopub.status.idle": "2022-04-30T02:36:39.461266Z",
     "shell.execute_reply": "2022-04-30T02:36:39.461772Z",
     "shell.execute_reply.started": "2022-04-29T09:07:09.832798Z"
    },
    "papermill": {
     "duration": 0.225403,
     "end_time": "2022-04-30T02:36:39.461965",
     "exception": false,
     "start_time": "2022-04-30T02:36:39.236562",
     "status": "completed"
    },
    "tags": []
   },
   "outputs": [
    {
     "data": {
      "text/plain": [
       "GaussianNB()"
      ]
     },
     "execution_count": 39,
     "metadata": {},
     "output_type": "execute_result"
    }
   ],
   "source": [
    "nb = GaussianNB()\n",
    "nb.fit(X_train, y_train)"
   ]
  },
  {
   "cell_type": "code",
   "execution_count": 40,
   "id": "93a9ad3d",
   "metadata": {
    "execution": {
     "iopub.execute_input": "2022-04-30T02:36:39.719879Z",
     "iopub.status.busy": "2022-04-30T02:36:39.719261Z",
     "iopub.status.idle": "2022-04-30T02:36:47.127403Z",
     "shell.execute_reply": "2022-04-30T02:36:47.126654Z",
     "shell.execute_reply.started": "2022-04-29T09:07:09.93568Z"
    },
    "papermill": {
     "duration": 7.538108,
     "end_time": "2022-04-30T02:36:47.127568",
     "exception": false,
     "start_time": "2022-04-30T02:36:39.589460",
     "status": "completed"
    },
    "tags": []
   },
   "outputs": [],
   "source": [
    "y_pred = svm_clf.predict(X_val)\n",
    "\n",
    "add_model_eval('naive bayes', recall_score(y_val, y_pred), f1_score(y_val, y_pred))"
   ]
  },
  {
   "cell_type": "code",
   "execution_count": 41,
   "id": "8e819329",
   "metadata": {
    "execution": {
     "iopub.execute_input": "2022-04-30T02:36:47.393500Z",
     "iopub.status.busy": "2022-04-30T02:36:47.392534Z",
     "iopub.status.idle": "2022-04-30T02:36:47.396245Z",
     "shell.execute_reply": "2022-04-30T02:36:47.396746Z",
     "shell.execute_reply.started": "2022-04-29T09:07:17.333989Z"
    },
    "papermill": {
     "duration": 0.139613,
     "end_time": "2022-04-30T02:36:47.396919",
     "exception": false,
     "start_time": "2022-04-30T02:36:47.257306",
     "status": "completed"
    },
    "tags": []
   },
   "outputs": [
    {
     "data": {
      "text/html": [
       "<style type=\"text/css\">\n",
       "</style>\n",
       "<table id=\"T_ed5d3_\">\n",
       "  <thead>\n",
       "    <tr>\n",
       "      <th class=\"col_heading level0 col0\" >model</th>\n",
       "      <th class=\"col_heading level0 col1\" >recall</th>\n",
       "      <th class=\"col_heading level0 col2\" >f1_score</th>\n",
       "    </tr>\n",
       "  </thead>\n",
       "  <tbody>\n",
       "    <tr>\n",
       "      <td id=\"T_ed5d3_row0_col0\" class=\"data row0 col0\" >logistic regression</td>\n",
       "      <td id=\"T_ed5d3_row0_col1\" class=\"data row0 col1\" > 0.51</td>\n",
       "      <td id=\"T_ed5d3_row0_col2\" class=\"data row0 col2\" > 0.63</td>\n",
       "    </tr>\n",
       "    <tr>\n",
       "      <td id=\"T_ed5d3_row1_col0\" class=\"data row1 col0\" >sgd classifier</td>\n",
       "      <td id=\"T_ed5d3_row1_col1\" class=\"data row1 col1\" > 0.47</td>\n",
       "      <td id=\"T_ed5d3_row1_col2\" class=\"data row1 col2\" > 0.60</td>\n",
       "    </tr>\n",
       "    <tr>\n",
       "      <td id=\"T_ed5d3_row2_col0\" class=\"data row2 col0\" >random forest classifier</td>\n",
       "      <td id=\"T_ed5d3_row2_col1\" class=\"data row2 col1\" > 0.78</td>\n",
       "      <td id=\"T_ed5d3_row2_col2\" class=\"data row2 col2\" > 0.86</td>\n",
       "    </tr>\n",
       "    <tr>\n",
       "      <td id=\"T_ed5d3_row3_col0\" class=\"data row3 col0\" >support vector machine classifier</td>\n",
       "      <td id=\"T_ed5d3_row3_col1\" class=\"data row3 col1\" > 0.60</td>\n",
       "      <td id=\"T_ed5d3_row3_col2\" class=\"data row3 col2\" > 0.73</td>\n",
       "    </tr>\n",
       "    <tr>\n",
       "      <td id=\"T_ed5d3_row4_col0\" class=\"data row4 col0\" >naive bayes</td>\n",
       "      <td id=\"T_ed5d3_row4_col1\" class=\"data row4 col1\" > 0.60</td>\n",
       "      <td id=\"T_ed5d3_row4_col2\" class=\"data row4 col2\" > 0.73</td>\n",
       "    </tr>\n",
       "  </tbody>\n",
       "</table>\n"
      ],
      "text/plain": [
       "<pandas.io.formats.style.Styler at 0x7f363ccf1450>"
      ]
     },
     "metadata": {},
     "output_type": "display_data"
    }
   ],
   "source": [
    "view_models_eval()"
   ]
  },
  {
   "cell_type": "markdown",
   "id": "676e771f",
   "metadata": {
    "papermill": {
     "duration": 0.126954,
     "end_time": "2022-04-30T02:36:47.651730",
     "exception": false,
     "start_time": "2022-04-30T02:36:47.524776",
     "status": "completed"
    },
    "tags": []
   },
   "source": [
    "## 8.3 Model Selection"
   ]
  },
  {
   "cell_type": "code",
   "execution_count": 42,
   "id": "4117fd29",
   "metadata": {
    "execution": {
     "iopub.execute_input": "2022-04-30T02:36:47.918766Z",
     "iopub.status.busy": "2022-04-30T02:36:47.917806Z",
     "iopub.status.idle": "2022-04-30T02:36:47.925125Z",
     "shell.execute_reply": "2022-04-30T02:36:47.924444Z",
     "shell.execute_reply.started": "2022-04-29T09:07:17.344433Z"
    },
    "papermill": {
     "duration": 0.146071,
     "end_time": "2022-04-30T02:36:47.925275",
     "exception": false,
     "start_time": "2022-04-30T02:36:47.779204",
     "status": "completed"
    },
    "tags": []
   },
   "outputs": [
    {
     "data": {
      "text/html": [
       "<style type=\"text/css\">\n",
       "</style>\n",
       "<table id=\"T_def92_\">\n",
       "  <thead>\n",
       "    <tr>\n",
       "      <th class=\"col_heading level0 col0\" >model</th>\n",
       "      <th class=\"col_heading level0 col1\" >recall</th>\n",
       "      <th class=\"col_heading level0 col2\" >f1_score</th>\n",
       "    </tr>\n",
       "  </thead>\n",
       "  <tbody>\n",
       "    <tr>\n",
       "      <td id=\"T_def92_row0_col0\" class=\"data row0 col0\" >random forest classifier</td>\n",
       "      <td id=\"T_def92_row0_col1\" class=\"data row0 col1\" > 0.78</td>\n",
       "      <td id=\"T_def92_row0_col2\" class=\"data row0 col2\" > 0.86</td>\n",
       "    </tr>\n",
       "    <tr>\n",
       "      <td id=\"T_def92_row1_col0\" class=\"data row1 col0\" >support vector machine classifier</td>\n",
       "      <td id=\"T_def92_row1_col1\" class=\"data row1 col1\" > 0.60</td>\n",
       "      <td id=\"T_def92_row1_col2\" class=\"data row1 col2\" > 0.73</td>\n",
       "    </tr>\n",
       "    <tr>\n",
       "      <td id=\"T_def92_row2_col0\" class=\"data row2 col0\" >naive bayes</td>\n",
       "      <td id=\"T_def92_row2_col1\" class=\"data row2 col1\" > 0.60</td>\n",
       "      <td id=\"T_def92_row2_col2\" class=\"data row2 col2\" > 0.73</td>\n",
       "    </tr>\n",
       "    <tr>\n",
       "      <td id=\"T_def92_row3_col0\" class=\"data row3 col0\" >logistic regression</td>\n",
       "      <td id=\"T_def92_row3_col1\" class=\"data row3 col1\" > 0.51</td>\n",
       "      <td id=\"T_def92_row3_col2\" class=\"data row3 col2\" > 0.63</td>\n",
       "    </tr>\n",
       "    <tr>\n",
       "      <td id=\"T_def92_row4_col0\" class=\"data row4 col0\" >sgd classifier</td>\n",
       "      <td id=\"T_def92_row4_col1\" class=\"data row4 col1\" > 0.47</td>\n",
       "      <td id=\"T_def92_row4_col2\" class=\"data row4 col2\" > 0.60</td>\n",
       "    </tr>\n",
       "  </tbody>\n",
       "</table>\n"
      ],
      "text/plain": [
       "<pandas.io.formats.style.Styler at 0x7f363cdf4690>"
      ]
     },
     "metadata": {},
     "output_type": "display_data"
    }
   ],
   "source": [
    "view_models_eval(sort=True)"
   ]
  },
  {
   "cell_type": "markdown",
   "id": "1f72d87a",
   "metadata": {
    "papermill": {
     "duration": 0.128705,
     "end_time": "2022-04-30T02:36:48.207880",
     "exception": false,
     "start_time": "2022-04-30T02:36:48.079175",
     "status": "completed"
    },
    "tags": []
   },
   "source": [
    "From the above table, we can know that random forest classifier model has the highest recall and f1_score by using default parameter. Thus, we will use random forest classifier to predict fraud and non-fraud for the dataset."
   ]
  },
  {
   "cell_type": "markdown",
   "id": "cbf0d3ff",
   "metadata": {
    "papermill": {
     "duration": 0.12693,
     "end_time": "2022-04-30T02:36:48.462389",
     "exception": false,
     "start_time": "2022-04-30T02:36:48.335459",
     "status": "completed"
    },
    "tags": []
   },
   "source": [
    "## 8.4 Fine-Tuning Model"
   ]
  },
  {
   "cell_type": "markdown",
   "id": "df266a13",
   "metadata": {
    "papermill": {
     "duration": 0.129522,
     "end_time": "2022-04-30T02:36:48.719228",
     "exception": false,
     "start_time": "2022-04-30T02:36:48.589706",
     "status": "completed"
    },
    "tags": []
   },
   "source": [
    "Now, let try to fine-tune the parameter of the random forest classifier."
   ]
  },
  {
   "cell_type": "code",
   "execution_count": 43,
   "id": "f12778a0",
   "metadata": {
    "execution": {
     "iopub.execute_input": "2022-04-30T02:36:48.977976Z",
     "iopub.status.busy": "2022-04-30T02:36:48.977306Z",
     "iopub.status.idle": "2022-04-30T03:06:05.548986Z",
     "shell.execute_reply": "2022-04-30T03:06:05.549531Z",
     "shell.execute_reply.started": "2022-04-29T09:07:17.361714Z"
    },
    "papermill": {
     "duration": 1756.702989,
     "end_time": "2022-04-30T03:06:05.549709",
     "exception": false,
     "start_time": "2022-04-30T02:36:48.846720",
     "status": "completed"
    },
    "scrolled": true,
    "tags": []
   },
   "outputs": [
    {
     "name": "stdout",
     "output_type": "stream",
     "text": [
      "Fitting 2 folds for each of 10 candidates, totalling 20 fits\n",
      "[CV] END bootstrap=True, max_features=auto, min_samples_leaf=2, min_samples_split=2, n_estimators=500; total time= 1.6min\n",
      "[CV] END bootstrap=True, max_features=auto, min_samples_leaf=2, min_samples_split=2, n_estimators=500; total time= 1.6min\n",
      "[CV] END bootstrap=True, max_features=auto, min_samples_leaf=4, min_samples_split=10, n_estimators=300; total time=  57.1s\n",
      "[CV] END bootstrap=True, max_features=auto, min_samples_leaf=4, min_samples_split=10, n_estimators=300; total time=  59.1s\n",
      "[CV] END bootstrap=False, max_features=sqrt, min_samples_leaf=2, min_samples_split=2, n_estimators=400; total time= 2.2min\n",
      "[CV] END bootstrap=False, max_features=sqrt, min_samples_leaf=2, min_samples_split=2, n_estimators=400; total time= 2.2min\n",
      "[CV] END bootstrap=True, max_features=sqrt, min_samples_leaf=4, min_samples_split=2, n_estimators=400; total time= 1.3min\n",
      "[CV] END bootstrap=True, max_features=sqrt, min_samples_leaf=4, min_samples_split=2, n_estimators=400; total time= 1.3min\n",
      "[CV] END bootstrap=False, max_features=sqrt, min_samples_leaf=1, min_samples_split=10, n_estimators=100; total time=  34.4s\n",
      "[CV] END bootstrap=False, max_features=sqrt, min_samples_leaf=1, min_samples_split=10, n_estimators=100; total time=  34.4s\n",
      "[CV] END bootstrap=True, max_features=auto, min_samples_leaf=2, min_samples_split=2, n_estimators=100; total time=  19.2s\n",
      "[CV] END bootstrap=True, max_features=auto, min_samples_leaf=2, min_samples_split=2, n_estimators=100; total time=  19.9s\n",
      "[CV] END bootstrap=True, max_features=auto, min_samples_leaf=2, min_samples_split=5, n_estimators=500; total time= 1.6min\n",
      "[CV] END bootstrap=True, max_features=auto, min_samples_leaf=2, min_samples_split=5, n_estimators=500; total time= 1.7min\n",
      "[CV] END bootstrap=True, max_features=sqrt, min_samples_leaf=2, min_samples_split=5, n_estimators=400; total time= 1.3min\n",
      "[CV] END bootstrap=True, max_features=sqrt, min_samples_leaf=2, min_samples_split=5, n_estimators=400; total time= 1.3min\n",
      "[CV] END bootstrap=False, max_features=auto, min_samples_leaf=2, min_samples_split=5, n_estimators=400; total time= 2.2min\n",
      "[CV] END bootstrap=False, max_features=auto, min_samples_leaf=2, min_samples_split=5, n_estimators=400; total time= 2.2min\n",
      "[CV] END bootstrap=False, max_features=auto, min_samples_leaf=2, min_samples_split=10, n_estimators=400; total time= 2.2min\n",
      "[CV] END bootstrap=False, max_features=auto, min_samples_leaf=2, min_samples_split=10, n_estimators=400; total time= 2.2min\n"
     ]
    },
    {
     "data": {
      "text/plain": [
       "RandomizedSearchCV(cv=2,\n",
       "                   estimator=RandomForestClassifier(n_jobs=4, random_state=42),\n",
       "                   param_distributions={'bootstrap': [True, False],\n",
       "                                        'max_features': ['auto', 'sqrt'],\n",
       "                                        'min_samples_leaf': [1, 2, 4],\n",
       "                                        'min_samples_split': [2, 5, 10],\n",
       "                                        'n_estimators': [100, 200, 300, 400,\n",
       "                                                         500]},\n",
       "                   random_state=42, scoring='recall', verbose=2)"
      ]
     },
     "execution_count": 43,
     "metadata": {},
     "output_type": "execute_result"
    }
   ],
   "source": [
    "# clf = classifier\n",
    "# ft = fine-tune\n",
    "forest_clf_ft = RandomForestClassifier(random_state=42, n_jobs=n_thread)\n",
    "\n",
    "param_grid = {\n",
    "    'bootstrap': [True, False],\n",
    "    'max_features': ['auto', 'sqrt'],\n",
    "    'min_samples_leaf': [1, 2, 4],\n",
    "    'min_samples_split': [2, 5, 10],\n",
    "    'n_estimators': [100, 200, 300, 400, 500]\n",
    "}\n",
    "\n",
    "random_search = RandomizedSearchCV(forest_clf_ft, \n",
    "                                   param_grid, \n",
    "                                   random_state=42,\n",
    "                                   cv=2,\n",
    "                                   n_iter=10, \n",
    "                                   scoring='recall',\n",
    "                                   verbose=2)\n",
    "\n",
    "random_search.fit(X_train, y_train)"
   ]
  },
  {
   "cell_type": "code",
   "execution_count": 44,
   "id": "376c850d",
   "metadata": {
    "execution": {
     "iopub.execute_input": "2022-04-30T03:06:05.824409Z",
     "iopub.status.busy": "2022-04-30T03:06:05.823360Z",
     "iopub.status.idle": "2022-04-30T03:06:05.829909Z",
     "shell.execute_reply": "2022-04-30T03:06:05.830467Z",
     "shell.execute_reply.started": "2022-04-29T09:36:36.48614Z"
    },
    "papermill": {
     "duration": 0.145804,
     "end_time": "2022-04-30T03:06:05.830650",
     "exception": false,
     "start_time": "2022-04-30T03:06:05.684846",
     "status": "completed"
    },
    "tags": []
   },
   "outputs": [
    {
     "data": {
      "text/plain": [
       "{'n_estimators': 100,\n",
       " 'min_samples_split': 2,\n",
       " 'min_samples_leaf': 2,\n",
       " 'max_features': 'auto',\n",
       " 'bootstrap': True}"
      ]
     },
     "execution_count": 44,
     "metadata": {},
     "output_type": "execute_result"
    }
   ],
   "source": [
    "forest_clf_best_params = random_search.best_params_\n",
    "\n",
    "forest_clf_best_params"
   ]
  },
  {
   "cell_type": "code",
   "execution_count": 45,
   "id": "b9818710",
   "metadata": {
    "execution": {
     "iopub.execute_input": "2022-04-30T03:06:06.108425Z",
     "iopub.status.busy": "2022-04-30T03:06:06.107789Z",
     "iopub.status.idle": "2022-04-30T03:06:06.343192Z",
     "shell.execute_reply": "2022-04-30T03:06:06.342187Z",
     "shell.execute_reply.started": "2022-04-29T09:36:36.493355Z"
    },
    "papermill": {
     "duration": 0.375393,
     "end_time": "2022-04-30T03:06:06.343362",
     "exception": false,
     "start_time": "2022-04-30T03:06:05.967969",
     "status": "completed"
    },
    "tags": []
   },
   "outputs": [],
   "source": [
    "y_pred = random_search.predict(X_val)\n",
    "\n",
    "add_model_eval('random forest classifier with fine-tune', recall_score(y_val, y_pred), f1_score(y_val, y_pred))"
   ]
  },
  {
   "cell_type": "code",
   "execution_count": 46,
   "id": "f3bdec20",
   "metadata": {
    "execution": {
     "iopub.execute_input": "2022-04-30T03:06:06.694538Z",
     "iopub.status.busy": "2022-04-30T03:06:06.693804Z",
     "iopub.status.idle": "2022-04-30T03:06:06.703469Z",
     "shell.execute_reply": "2022-04-30T03:06:06.702758Z",
     "shell.execute_reply.started": "2022-04-29T09:36:36.740156Z"
    },
    "papermill": {
     "duration": 0.151319,
     "end_time": "2022-04-30T03:06:06.703624",
     "exception": false,
     "start_time": "2022-04-30T03:06:06.552305",
     "status": "completed"
    },
    "tags": []
   },
   "outputs": [
    {
     "data": {
      "text/html": [
       "<style type=\"text/css\">\n",
       "</style>\n",
       "<table id=\"T_c1560_\">\n",
       "  <thead>\n",
       "    <tr>\n",
       "      <th class=\"col_heading level0 col0\" >model</th>\n",
       "      <th class=\"col_heading level0 col1\" >recall</th>\n",
       "      <th class=\"col_heading level0 col2\" >f1_score</th>\n",
       "    </tr>\n",
       "  </thead>\n",
       "  <tbody>\n",
       "    <tr>\n",
       "      <td id=\"T_c1560_row0_col0\" class=\"data row0 col0\" >logistic regression</td>\n",
       "      <td id=\"T_c1560_row0_col1\" class=\"data row0 col1\" > 0.51</td>\n",
       "      <td id=\"T_c1560_row0_col2\" class=\"data row0 col2\" > 0.63</td>\n",
       "    </tr>\n",
       "    <tr>\n",
       "      <td id=\"T_c1560_row1_col0\" class=\"data row1 col0\" >sgd classifier</td>\n",
       "      <td id=\"T_c1560_row1_col1\" class=\"data row1 col1\" > 0.47</td>\n",
       "      <td id=\"T_c1560_row1_col2\" class=\"data row1 col2\" > 0.60</td>\n",
       "    </tr>\n",
       "    <tr>\n",
       "      <td id=\"T_c1560_row2_col0\" class=\"data row2 col0\" >random forest classifier</td>\n",
       "      <td id=\"T_c1560_row2_col1\" class=\"data row2 col1\" > 0.78</td>\n",
       "      <td id=\"T_c1560_row2_col2\" class=\"data row2 col2\" > 0.86</td>\n",
       "    </tr>\n",
       "    <tr>\n",
       "      <td id=\"T_c1560_row3_col0\" class=\"data row3 col0\" >support vector machine classifier</td>\n",
       "      <td id=\"T_c1560_row3_col1\" class=\"data row3 col1\" > 0.60</td>\n",
       "      <td id=\"T_c1560_row3_col2\" class=\"data row3 col2\" > 0.73</td>\n",
       "    </tr>\n",
       "    <tr>\n",
       "      <td id=\"T_c1560_row4_col0\" class=\"data row4 col0\" >naive bayes</td>\n",
       "      <td id=\"T_c1560_row4_col1\" class=\"data row4 col1\" > 0.60</td>\n",
       "      <td id=\"T_c1560_row4_col2\" class=\"data row4 col2\" > 0.73</td>\n",
       "    </tr>\n",
       "    <tr>\n",
       "      <td id=\"T_c1560_row5_col0\" class=\"data row5 col0\" >random forest classifier with fine-tune</td>\n",
       "      <td id=\"T_c1560_row5_col1\" class=\"data row5 col1\" > 0.80</td>\n",
       "      <td id=\"T_c1560_row5_col2\" class=\"data row5 col2\" > 0.86</td>\n",
       "    </tr>\n",
       "  </tbody>\n",
       "</table>\n"
      ],
      "text/plain": [
       "<pandas.io.formats.style.Styler at 0x7f365d974750>"
      ]
     },
     "metadata": {},
     "output_type": "display_data"
    }
   ],
   "source": [
    "view_models_eval()"
   ]
  },
  {
   "cell_type": "markdown",
   "id": "9e43b7c3",
   "metadata": {
    "papermill": {
     "duration": 0.161887,
     "end_time": "2022-04-30T03:06:07.027478",
     "exception": false,
     "start_time": "2022-04-30T03:06:06.865591",
     "status": "completed"
    },
    "tags": []
   },
   "source": [
    "After fine-tune the random forest classifier, the model has a slightly increase on recall than default parameter."
   ]
  },
  {
   "cell_type": "markdown",
   "id": "df9e78ce",
   "metadata": {
    "papermill": {
     "duration": 0.136211,
     "end_time": "2022-04-30T03:06:07.300348",
     "exception": false,
     "start_time": "2022-04-30T03:06:07.164137",
     "status": "completed"
    },
    "tags": []
   },
   "source": [
    "## 8.5 Resample on Dataset"
   ]
  },
  {
   "cell_type": "markdown",
   "id": "57b060e3",
   "metadata": {
    "papermill": {
     "duration": 0.135554,
     "end_time": "2022-04-30T03:06:07.572116",
     "exception": false,
     "start_time": "2022-04-30T03:06:07.436562",
     "status": "completed"
    },
    "tags": []
   },
   "source": [
    "Besides, getting the optimum parameter for the random forest classifier model. We also can leverage the resampling technique on the dataset to make the label balance.\n",
    "\n",
    "First, use the SMOTE to oversample of the minority class Next, use random undersampling to reduce the number of instances of majority class. In the end, the ratio of non-fraud and fraud will be $1 : 1$"
   ]
  },
  {
   "cell_type": "code",
   "execution_count": 47,
   "id": "b4ec6ee0",
   "metadata": {
    "execution": {
     "iopub.execute_input": "2022-04-30T03:06:07.848796Z",
     "iopub.status.busy": "2022-04-30T03:06:07.847774Z",
     "iopub.status.idle": "2022-04-30T03:06:07.857246Z",
     "shell.execute_reply": "2022-04-30T03:06:07.857805Z",
     "shell.execute_reply.started": "2022-04-29T09:36:36.752113Z"
    },
    "papermill": {
     "duration": 0.149458,
     "end_time": "2022-04-30T03:06:07.857972",
     "exception": false,
     "start_time": "2022-04-30T03:06:07.708514",
     "status": "completed"
    },
    "tags": []
   },
   "outputs": [
    {
     "data": {
      "text/plain": [
       "0    0.998278\n",
       "1    0.001722\n",
       "Name: Class, dtype: float64"
      ]
     },
     "execution_count": 47,
     "metadata": {},
     "output_type": "execute_result"
    }
   ],
   "source": [
    "pd.Series(y_train).value_counts(normalize=True)"
   ]
  },
  {
   "cell_type": "markdown",
   "id": "1a0bf3fd",
   "metadata": {
    "papermill": {
     "duration": 0.138769,
     "end_time": "2022-04-30T03:06:08.133147",
     "exception": false,
     "start_time": "2022-04-30T03:06:07.994378",
     "status": "completed"
    },
    "tags": []
   },
   "source": [
    "Before resample, the ratio of non-fraud to fraud is $99 : 1$"
   ]
  },
  {
   "cell_type": "code",
   "execution_count": 48,
   "id": "025483a0",
   "metadata": {
    "execution": {
     "iopub.execute_input": "2022-04-30T03:06:08.412643Z",
     "iopub.status.busy": "2022-04-30T03:06:08.411645Z",
     "iopub.status.idle": "2022-04-30T03:06:08.416537Z",
     "shell.execute_reply": "2022-04-30T03:06:08.417026Z",
     "shell.execute_reply.started": "2022-04-29T09:36:36.769921Z"
    },
    "papermill": {
     "duration": 0.146364,
     "end_time": "2022-04-30T03:06:08.417216",
     "exception": false,
     "start_time": "2022-04-30T03:06:08.270852",
     "status": "completed"
    },
    "tags": []
   },
   "outputs": [],
   "source": [
    "oversampling = SMOTE(random_state=42)\n",
    "undersampling = RandomUnderSampler(random_state=42)\n",
    "steps = [('o', oversampling), ('u', undersampling)]\n",
    "pipeline = Pipeline(steps=steps)"
   ]
  },
  {
   "cell_type": "code",
   "execution_count": 49,
   "id": "38eee0fb",
   "metadata": {
    "execution": {
     "iopub.execute_input": "2022-04-30T03:06:08.695381Z",
     "iopub.status.busy": "2022-04-30T03:06:08.694415Z",
     "iopub.status.idle": "2022-04-30T03:06:08.988171Z",
     "shell.execute_reply": "2022-04-30T03:06:08.987416Z",
     "shell.execute_reply.started": "2022-04-29T09:36:36.783145Z"
    },
    "papermill": {
     "duration": 0.434095,
     "end_time": "2022-04-30T03:06:08.988320",
     "exception": false,
     "start_time": "2022-04-30T03:06:08.554225",
     "status": "completed"
    },
    "tags": []
   },
   "outputs": [],
   "source": [
    "X_train_resampled, y_train_resampled = pipeline.fit_resample(X_train, y_train)"
   ]
  },
  {
   "cell_type": "code",
   "execution_count": 50,
   "id": "8a7ee9c7",
   "metadata": {
    "execution": {
     "iopub.execute_input": "2022-04-30T03:06:09.275444Z",
     "iopub.status.busy": "2022-04-30T03:06:09.274539Z",
     "iopub.status.idle": "2022-04-30T03:06:09.277874Z",
     "shell.execute_reply": "2022-04-30T03:06:09.278371Z",
     "shell.execute_reply.started": "2022-04-29T09:36:37.095872Z"
    },
    "papermill": {
     "duration": 0.15035,
     "end_time": "2022-04-30T03:06:09.278547",
     "exception": false,
     "start_time": "2022-04-30T03:06:09.128197",
     "status": "completed"
    },
    "tags": []
   },
   "outputs": [
    {
     "data": {
      "text/plain": [
       "0    0.5\n",
       "1    0.5\n",
       "Name: Class, dtype: float64"
      ]
     },
     "execution_count": 50,
     "metadata": {},
     "output_type": "execute_result"
    }
   ],
   "source": [
    "pd.Series(y_train_resampled).value_counts(normalize=True)"
   ]
  },
  {
   "cell_type": "markdown",
   "id": "d7b0746a",
   "metadata": {
    "papermill": {
     "duration": 0.137865,
     "end_time": "2022-04-30T03:06:09.557190",
     "exception": false,
     "start_time": "2022-04-30T03:06:09.419325",
     "status": "completed"
    },
    "tags": []
   },
   "source": [
    "After resample, the ratio of non-fraud to fraud is $1 : 1$"
   ]
  },
  {
   "cell_type": "code",
   "execution_count": 51,
   "id": "ab47e696",
   "metadata": {
    "execution": {
     "iopub.execute_input": "2022-04-30T03:06:09.837672Z",
     "iopub.status.busy": "2022-04-30T03:06:09.836683Z",
     "iopub.status.idle": "2022-04-30T03:07:43.806286Z",
     "shell.execute_reply": "2022-04-30T03:07:43.805435Z",
     "shell.execute_reply.started": "2022-04-29T09:36:37.106606Z"
    },
    "papermill": {
     "duration": 94.11121,
     "end_time": "2022-04-30T03:07:43.806497",
     "exception": false,
     "start_time": "2022-04-30T03:06:09.695287",
     "status": "completed"
    },
    "tags": []
   },
   "outputs": [
    {
     "name": "stderr",
     "output_type": "stream",
     "text": [
      "[Parallel(n_jobs=4)]: Using backend ThreadingBackend with 4 concurrent workers.\n"
     ]
    },
    {
     "name": "stdout",
     "output_type": "stream",
     "text": [
      "building tree 1 of 100\n",
      "building tree 2 of 100building tree 3 of 100\n",
      "\n",
      "building tree 4 of 100\n",
      "building tree 5 of 100\n",
      "building tree 6 of 100\n",
      "building tree 7 of 100\n",
      "building tree 8 of 100\n",
      "building tree 9 of 100\n",
      "building tree 10 of 100\n",
      "building tree 11 of 100\n",
      "building tree 12 of 100\n",
      "building tree 13 of 100\n",
      "building tree 14 of 100\n",
      "building tree 15 of 100\n",
      "building tree 16 of 100\n",
      "building tree 17 of 100\n",
      "building tree 18 of 100\n",
      "building tree 19 of 100\n",
      "building tree 20 of 100\n",
      "building tree 21 of 100\n",
      "building tree 22 of 100\n",
      "building tree 23 of 100\n",
      "building tree 24 of 100\n",
      "building tree 25 of 100\n",
      "building tree 26 of 100\n",
      "building tree 27 of 100\n",
      "building tree 28 of 100\n",
      "building tree 29 of 100\n",
      "building tree 30 of 100\n",
      "building tree 31 of 100\n",
      "building tree 32 of 100\n",
      "building tree 33 of 100\n",
      "building tree 34 of 100\n",
      "building tree 35 of 100\n",
      "building tree 36 of 100\n",
      "building tree 37 of 100"
     ]
    },
    {
     "name": "stderr",
     "output_type": "stream",
     "text": [
      "[Parallel(n_jobs=4)]: Done  33 tasks      | elapsed:   31.5s\n"
     ]
    },
    {
     "name": "stdout",
     "output_type": "stream",
     "text": [
      "\n",
      "building tree 38 of 100\n",
      "building tree 39 of 100\n",
      "building tree 40 of 100\n",
      "building tree 41 of 100\n",
      "building tree 42 of 100\n",
      "building tree 43 of 100\n",
      "building tree 44 of 100\n",
      "building tree 45 of 100\n",
      "building tree 46 of 100\n",
      "building tree 47 of 100\n",
      "building tree 48 of 100\n",
      "building tree 49 of 100\n",
      "building tree 50 of 100\n",
      "building tree 51 of 100\n",
      "building tree 52 of 100\n",
      "building tree 53 of 100\n",
      "building tree 54 of 100\n",
      "building tree 55 of 100\n",
      "building tree 56 of 100\n",
      "building tree 57 of 100\n",
      "building tree 58 of 100\n",
      "building tree 59 of 100building tree 60 of 100\n",
      "\n",
      "building tree 61 of 100\n",
      "building tree 62 of 100\n",
      "building tree 63 of 100\n",
      "building tree 64 of 100\n",
      "building tree 65 of 100\n",
      "building tree 66 of 100\n",
      "building tree 67 of 100\n",
      "building tree 68 of 100\n",
      "building tree 69 of 100\n",
      "building tree 70 of 100\n",
      "building tree 71 of 100\n",
      "building tree 72 of 100\n",
      "building tree 73 of 100\n",
      "building tree 74 of 100\n",
      "building tree 75 of 100\n",
      "building tree 76 of 100\n",
      "building tree 77 of 100\n",
      "building tree 78 of 100\n",
      "building tree 79 of 100\n",
      "building tree 80 of 100\n",
      "building tree 81 of 100\n",
      "building tree 82 of 100\n",
      "building tree 83 of 100\n",
      "building tree 84 of 100\n",
      "building tree 85 of 100\n",
      "building tree 86 of 100\n",
      "building tree 87 of 100\n",
      "building tree 88 of 100\n",
      "building tree 89 of 100\n",
      "building tree 90 of 100\n",
      "building tree 91 of 100\n",
      "building tree 92 of 100\n",
      "building tree 93 of 100\n",
      "building tree 94 of 100\n",
      "building tree 95 of 100\n",
      "building tree 96 of 100\n",
      "building tree 97 of 100\n",
      "building tree 98 of 100\n",
      "building tree 99 of 100\n",
      "building tree 100 of 100\n"
     ]
    },
    {
     "name": "stderr",
     "output_type": "stream",
     "text": [
      "[Parallel(n_jobs=4)]: Done 100 out of 100 | elapsed:  1.6min finished\n"
     ]
    },
    {
     "data": {
      "text/plain": [
       "RandomForestClassifier(min_samples_leaf=2, n_jobs=4, random_state=42, verbose=2)"
      ]
     },
     "execution_count": 51,
     "metadata": {},
     "output_type": "execute_result"
    }
   ],
   "source": [
    "# clf = classifier\n",
    "# ft = fine-tune\n",
    "# rs = resample\n",
    "forest_clf_ft_rs = RandomForestClassifier(**forest_clf_best_params,\n",
    "                                       random_state=42, \n",
    "                                       verbose=2, \n",
    "                                       n_jobs=n_thread)\n",
    "\n",
    "forest_clf_ft_rs.fit(X_train_resampled, y_train_resampled)"
   ]
  },
  {
   "cell_type": "code",
   "execution_count": 52,
   "id": "26ae82d6",
   "metadata": {
    "execution": {
     "iopub.execute_input": "2022-04-30T03:07:44.161193Z",
     "iopub.status.busy": "2022-04-30T03:07:44.160529Z",
     "iopub.status.idle": "2022-04-30T03:07:44.490958Z",
     "shell.execute_reply": "2022-04-30T03:07:44.491506Z",
     "shell.execute_reply.started": "2022-04-29T09:38:10.809055Z"
    },
    "papermill": {
     "duration": 0.510548,
     "end_time": "2022-04-30T03:07:44.491686",
     "exception": false,
     "start_time": "2022-04-30T03:07:43.981138",
     "status": "completed"
    },
    "tags": []
   },
   "outputs": [
    {
     "name": "stderr",
     "output_type": "stream",
     "text": [
      "[Parallel(n_jobs=4)]: Using backend ThreadingBackend with 4 concurrent workers.\n",
      "[Parallel(n_jobs=4)]: Done  33 tasks      | elapsed:    0.1s\n",
      "[Parallel(n_jobs=4)]: Done 100 out of 100 | elapsed:    0.2s finished\n"
     ]
    }
   ],
   "source": [
    "y_pred = forest_clf_ft_rs.predict(X_val)\n",
    "\n",
    "add_model_eval('random forest classifier with fine-tune and resample', recall_score(y_val, y_pred), f1_score(y_val, y_pred))"
   ]
  },
  {
   "cell_type": "code",
   "execution_count": 53,
   "id": "e593f5d1",
   "metadata": {
    "execution": {
     "iopub.execute_input": "2022-04-30T03:07:44.839729Z",
     "iopub.status.busy": "2022-04-30T03:07:44.839058Z",
     "iopub.status.idle": "2022-04-30T03:07:44.846470Z",
     "shell.execute_reply": "2022-04-30T03:07:44.845890Z",
     "shell.execute_reply.started": "2022-04-29T09:38:11.149568Z"
    },
    "papermill": {
     "duration": 0.183535,
     "end_time": "2022-04-30T03:07:44.846619",
     "exception": false,
     "start_time": "2022-04-30T03:07:44.663084",
     "status": "completed"
    },
    "tags": []
   },
   "outputs": [
    {
     "data": {
      "text/html": [
       "<style type=\"text/css\">\n",
       "</style>\n",
       "<table id=\"T_db3fc_\">\n",
       "  <thead>\n",
       "    <tr>\n",
       "      <th class=\"col_heading level0 col0\" >model</th>\n",
       "      <th class=\"col_heading level0 col1\" >recall</th>\n",
       "      <th class=\"col_heading level0 col2\" >f1_score</th>\n",
       "    </tr>\n",
       "  </thead>\n",
       "  <tbody>\n",
       "    <tr>\n",
       "      <td id=\"T_db3fc_row0_col0\" class=\"data row0 col0\" >logistic regression</td>\n",
       "      <td id=\"T_db3fc_row0_col1\" class=\"data row0 col1\" > 0.51</td>\n",
       "      <td id=\"T_db3fc_row0_col2\" class=\"data row0 col2\" > 0.63</td>\n",
       "    </tr>\n",
       "    <tr>\n",
       "      <td id=\"T_db3fc_row1_col0\" class=\"data row1 col0\" >sgd classifier</td>\n",
       "      <td id=\"T_db3fc_row1_col1\" class=\"data row1 col1\" > 0.47</td>\n",
       "      <td id=\"T_db3fc_row1_col2\" class=\"data row1 col2\" > 0.60</td>\n",
       "    </tr>\n",
       "    <tr>\n",
       "      <td id=\"T_db3fc_row2_col0\" class=\"data row2 col0\" >random forest classifier</td>\n",
       "      <td id=\"T_db3fc_row2_col1\" class=\"data row2 col1\" > 0.78</td>\n",
       "      <td id=\"T_db3fc_row2_col2\" class=\"data row2 col2\" > 0.86</td>\n",
       "    </tr>\n",
       "    <tr>\n",
       "      <td id=\"T_db3fc_row3_col0\" class=\"data row3 col0\" >support vector machine classifier</td>\n",
       "      <td id=\"T_db3fc_row3_col1\" class=\"data row3 col1\" > 0.60</td>\n",
       "      <td id=\"T_db3fc_row3_col2\" class=\"data row3 col2\" > 0.73</td>\n",
       "    </tr>\n",
       "    <tr>\n",
       "      <td id=\"T_db3fc_row4_col0\" class=\"data row4 col0\" >naive bayes</td>\n",
       "      <td id=\"T_db3fc_row4_col1\" class=\"data row4 col1\" > 0.60</td>\n",
       "      <td id=\"T_db3fc_row4_col2\" class=\"data row4 col2\" > 0.73</td>\n",
       "    </tr>\n",
       "    <tr>\n",
       "      <td id=\"T_db3fc_row5_col0\" class=\"data row5 col0\" >random forest classifier with fine-tune</td>\n",
       "      <td id=\"T_db3fc_row5_col1\" class=\"data row5 col1\" > 0.80</td>\n",
       "      <td id=\"T_db3fc_row5_col2\" class=\"data row5 col2\" > 0.86</td>\n",
       "    </tr>\n",
       "    <tr>\n",
       "      <td id=\"T_db3fc_row6_col0\" class=\"data row6 col0\" >random forest classifier with fine-tune and resample</td>\n",
       "      <td id=\"T_db3fc_row6_col1\" class=\"data row6 col1\" > 0.82</td>\n",
       "      <td id=\"T_db3fc_row6_col2\" class=\"data row6 col2\" > 0.85</td>\n",
       "    </tr>\n",
       "  </tbody>\n",
       "</table>\n"
      ],
      "text/plain": [
       "<pandas.io.formats.style.Styler at 0x7f365d974cd0>"
      ]
     },
     "metadata": {},
     "output_type": "display_data"
    }
   ],
   "source": [
    "view_models_eval()"
   ]
  },
  {
   "cell_type": "markdown",
   "id": "f502d4e7",
   "metadata": {
    "papermill": {
     "duration": 0.171593,
     "end_time": "2022-04-30T03:07:45.193035",
     "exception": false,
     "start_time": "2022-04-30T03:07:45.021442",
     "status": "completed"
    },
    "tags": []
   },
   "source": [
    "With the resampling technique apply to the train dataset, the model has recall score has improved from 0.80 to 0.82 while f1 decrease slightly to 0.85. Despite that, it is worth the trade."
   ]
  },
  {
   "cell_type": "markdown",
   "id": "cbb33a64",
   "metadata": {
    "papermill": {
     "duration": 0.171202,
     "end_time": "2022-04-30T03:07:45.543306",
     "exception": false,
     "start_time": "2022-04-30T03:07:45.372104",
     "status": "completed"
    },
    "tags": []
   },
   "source": [
    "## 8.6 Initialise Class Weight on Model"
   ]
  },
  {
   "cell_type": "markdown",
   "id": "7a33b91d",
   "metadata": {
    "papermill": {
     "duration": 0.171006,
     "end_time": "2022-04-30T03:07:45.885522",
     "exception": false,
     "start_time": "2022-04-30T03:07:45.714516",
     "status": "completed"
    },
    "tags": []
   },
   "source": [
    "Lastly, let try to specify the class weight on the model to see whether any improvement will be made or not on the original train dataset (i.e. not the dataset been resampled)"
   ]
  },
  {
   "cell_type": "code",
   "execution_count": 54,
   "id": "54429b3f",
   "metadata": {
    "execution": {
     "iopub.execute_input": "2022-04-30T03:07:46.233342Z",
     "iopub.status.busy": "2022-04-30T03:07:46.232656Z",
     "iopub.status.idle": "2022-04-30T03:08:15.936953Z",
     "shell.execute_reply": "2022-04-30T03:08:15.937486Z",
     "shell.execute_reply.started": "2022-04-29T09:38:11.161293Z"
    },
    "papermill": {
     "duration": 29.881705,
     "end_time": "2022-04-30T03:08:15.937677",
     "exception": false,
     "start_time": "2022-04-30T03:07:46.055972",
     "status": "completed"
    },
    "tags": []
   },
   "outputs": [
    {
     "name": "stderr",
     "output_type": "stream",
     "text": [
      "[Parallel(n_jobs=4)]: Using backend ThreadingBackend with 4 concurrent workers.\n"
     ]
    },
    {
     "name": "stdout",
     "output_type": "stream",
     "text": [
      "building tree 1 of 100\n",
      "building tree 2 of 100\n",
      "building tree 3 of 100\n",
      "building tree 4 of 100\n",
      "building tree 5 of 100\n",
      "building tree 6 of 100\n",
      "building tree 7 of 100\n",
      "building tree 8 of 100\n",
      "building tree 9 of 100\n",
      "building tree 10 of 100\n",
      "building tree 11 of 100\n",
      "building tree 12 of 100\n",
      "building tree 13 of 100\n",
      "building tree 14 of 100\n",
      "building tree 15 of 100\n",
      "building tree 16 of 100\n",
      "building tree 17 of 100\n",
      "building tree 18 of 100\n",
      "building tree 19 of 100\n",
      "building tree 20 of 100\n",
      "building tree 21 of 100\n",
      "building tree 22 of 100\n",
      "building tree 23 of 100\n",
      "building tree 24 of 100\n",
      "building tree 25 of 100\n",
      "building tree 26 of 100\n",
      "building tree 27 of 100\n",
      "building tree 28 of 100\n",
      "building tree 29 of 100\n",
      "building tree 30 of 100\n",
      "building tree 31 of 100\n",
      "building tree 32 of 100\n",
      "building tree 33 of 100\n",
      "building tree 34 of 100\n",
      "building tree 35 of 100\n",
      "building tree 36 of 100\n"
     ]
    },
    {
     "name": "stderr",
     "output_type": "stream",
     "text": [
      "[Parallel(n_jobs=4)]: Done  33 tasks      | elapsed:    9.7s\n"
     ]
    },
    {
     "name": "stdout",
     "output_type": "stream",
     "text": [
      "building tree 37 of 100\n",
      "building tree 38 of 100\n",
      "building tree 39 of 100\n",
      "building tree 40 of 100\n",
      "building tree 41 of 100\n",
      "building tree 42 of 100\n",
      "building tree 43 of 100\n",
      "building tree 44 of 100\n",
      "building tree 45 of 100\n",
      "building tree 46 of 100\n",
      "building tree 47 of 100\n",
      "building tree 48 of 100\n",
      "building tree 49 of 100\n",
      "building tree 50 of 100\n",
      "building tree 51 of 100\n",
      "building tree 52 of 100\n",
      "building tree 53 of 100\n",
      "building tree 54 of 100\n",
      "building tree 55 of 100\n",
      "building tree 56 of 100\n",
      "building tree 57 of 100\n",
      "building tree 58 of 100\n",
      "building tree 59 of 100\n",
      "building tree 60 of 100\n",
      "building tree 61 of 100\n",
      "building tree 62 of 100\n",
      "building tree 63 of 100\n",
      "building tree 64 of 100\n",
      "building tree 65 of 100\n",
      "building tree 66 of 100\n",
      "building tree 67 of 100\n",
      "building tree 68 of 100\n",
      "building tree 69 of 100\n",
      "building tree 70 of 100\n",
      "building tree 71 of 100\n",
      "building tree 72 of 100\n",
      "building tree 73 of 100\n",
      "building tree 74 of 100\n",
      "building tree 75 of 100\n",
      "building tree 76 of 100\n",
      "building tree 77 of 100\n",
      "building tree 78 of 100\n",
      "building tree 79 of 100\n",
      "building tree 80 of 100\n",
      "building tree 81 of 100\n",
      "building tree 82 of 100\n",
      "building tree 83 of 100\n",
      "building tree 84 of 100\n",
      "building tree 85 of 100\n",
      "building tree 86 of 100\n",
      "building tree 87 of 100\n",
      "building tree 88 of 100\n",
      "building tree 89 of 100\n",
      "building tree 90 of 100\n",
      "building tree 91 of 100\n",
      "building tree 92 of 100\n",
      "building tree 93 of 100\n",
      "building tree 94 of 100\n",
      "building tree 95 of 100\n",
      "building tree 96 of 100\n",
      "building tree 97 of 100\n",
      "building tree 98 of 100\n",
      "building tree 99 of 100\n",
      "building tree 100 of 100\n"
     ]
    },
    {
     "name": "stderr",
     "output_type": "stream",
     "text": [
      "[Parallel(n_jobs=4)]: Done 100 out of 100 | elapsed:   29.5s finished\n"
     ]
    },
    {
     "data": {
      "text/plain": [
       "RandomForestClassifier(class_weight='balanced', min_samples_leaf=2, n_jobs=4,\n",
       "                       random_state=42, verbose=2)"
      ]
     },
     "execution_count": 54,
     "metadata": {},
     "output_type": "execute_result"
    }
   ],
   "source": [
    "# clf = classifier\n",
    "# ft = fine-tune\n",
    "# cw = class weight\n",
    "forest_clf_ft_cw = RandomForestClassifier(**forest_clf_best_params,\n",
    "                                       class_weight='balanced',\n",
    "                                       random_state=42, \n",
    "                                       verbose=2, \n",
    "                                       n_jobs=n_thread)\n",
    "\n",
    "forest_clf_ft_cw.fit(X_train, y_train)"
   ]
  },
  {
   "cell_type": "code",
   "execution_count": 55,
   "id": "23dbe399",
   "metadata": {
    "execution": {
     "iopub.execute_input": "2022-04-30T03:08:16.341112Z",
     "iopub.status.busy": "2022-04-30T03:08:16.340391Z",
     "iopub.status.idle": "2022-04-30T03:08:16.574896Z",
     "shell.execute_reply": "2022-04-30T03:08:16.574328Z",
     "shell.execute_reply.started": "2022-04-29T09:38:40.514373Z"
    },
    "papermill": {
     "duration": 0.438071,
     "end_time": "2022-04-30T03:08:16.575052",
     "exception": false,
     "start_time": "2022-04-30T03:08:16.136981",
     "status": "completed"
    },
    "tags": []
   },
   "outputs": [
    {
     "name": "stderr",
     "output_type": "stream",
     "text": [
      "[Parallel(n_jobs=4)]: Using backend ThreadingBackend with 4 concurrent workers.\n",
      "[Parallel(n_jobs=4)]: Done  33 tasks      | elapsed:    0.1s\n",
      "[Parallel(n_jobs=4)]: Done 100 out of 100 | elapsed:    0.2s finished\n"
     ]
    }
   ],
   "source": [
    "y_pred = forest_clf_ft_cw.predict(X_val)\n",
    "\n",
    "add_model_eval('random forest classifier with fine-tune and class weight', recall_score(y_val, y_pred), f1_score(y_val, y_pred))"
   ]
  },
  {
   "cell_type": "code",
   "execution_count": 56,
   "id": "a05aed39",
   "metadata": {
    "execution": {
     "iopub.execute_input": "2022-04-30T03:08:17.003551Z",
     "iopub.status.busy": "2022-04-30T03:08:17.002836Z",
     "iopub.status.idle": "2022-04-30T03:08:17.007212Z",
     "shell.execute_reply": "2022-04-30T03:08:17.007726Z",
     "shell.execute_reply.started": "2022-04-29T09:38:40.750377Z"
    },
    "papermill": {
     "duration": 0.236271,
     "end_time": "2022-04-30T03:08:17.007907",
     "exception": false,
     "start_time": "2022-04-30T03:08:16.771636",
     "status": "completed"
    },
    "tags": []
   },
   "outputs": [
    {
     "data": {
      "text/html": [
       "<style type=\"text/css\">\n",
       "</style>\n",
       "<table id=\"T_2b71c_\">\n",
       "  <thead>\n",
       "    <tr>\n",
       "      <th class=\"col_heading level0 col0\" >model</th>\n",
       "      <th class=\"col_heading level0 col1\" >recall</th>\n",
       "      <th class=\"col_heading level0 col2\" >f1_score</th>\n",
       "    </tr>\n",
       "  </thead>\n",
       "  <tbody>\n",
       "    <tr>\n",
       "      <td id=\"T_2b71c_row0_col0\" class=\"data row0 col0\" >logistic regression</td>\n",
       "      <td id=\"T_2b71c_row0_col1\" class=\"data row0 col1\" > 0.51</td>\n",
       "      <td id=\"T_2b71c_row0_col2\" class=\"data row0 col2\" > 0.63</td>\n",
       "    </tr>\n",
       "    <tr>\n",
       "      <td id=\"T_2b71c_row1_col0\" class=\"data row1 col0\" >sgd classifier</td>\n",
       "      <td id=\"T_2b71c_row1_col1\" class=\"data row1 col1\" > 0.47</td>\n",
       "      <td id=\"T_2b71c_row1_col2\" class=\"data row1 col2\" > 0.60</td>\n",
       "    </tr>\n",
       "    <tr>\n",
       "      <td id=\"T_2b71c_row2_col0\" class=\"data row2 col0\" >random forest classifier</td>\n",
       "      <td id=\"T_2b71c_row2_col1\" class=\"data row2 col1\" > 0.78</td>\n",
       "      <td id=\"T_2b71c_row2_col2\" class=\"data row2 col2\" > 0.86</td>\n",
       "    </tr>\n",
       "    <tr>\n",
       "      <td id=\"T_2b71c_row3_col0\" class=\"data row3 col0\" >support vector machine classifier</td>\n",
       "      <td id=\"T_2b71c_row3_col1\" class=\"data row3 col1\" > 0.60</td>\n",
       "      <td id=\"T_2b71c_row3_col2\" class=\"data row3 col2\" > 0.73</td>\n",
       "    </tr>\n",
       "    <tr>\n",
       "      <td id=\"T_2b71c_row4_col0\" class=\"data row4 col0\" >naive bayes</td>\n",
       "      <td id=\"T_2b71c_row4_col1\" class=\"data row4 col1\" > 0.60</td>\n",
       "      <td id=\"T_2b71c_row4_col2\" class=\"data row4 col2\" > 0.73</td>\n",
       "    </tr>\n",
       "    <tr>\n",
       "      <td id=\"T_2b71c_row5_col0\" class=\"data row5 col0\" >random forest classifier with fine-tune</td>\n",
       "      <td id=\"T_2b71c_row5_col1\" class=\"data row5 col1\" > 0.80</td>\n",
       "      <td id=\"T_2b71c_row5_col2\" class=\"data row5 col2\" > 0.86</td>\n",
       "    </tr>\n",
       "    <tr>\n",
       "      <td id=\"T_2b71c_row6_col0\" class=\"data row6 col0\" >random forest classifier with fine-tune and resample</td>\n",
       "      <td id=\"T_2b71c_row6_col1\" class=\"data row6 col1\" > 0.82</td>\n",
       "      <td id=\"T_2b71c_row6_col2\" class=\"data row6 col2\" > 0.85</td>\n",
       "    </tr>\n",
       "    <tr>\n",
       "      <td id=\"T_2b71c_row7_col0\" class=\"data row7 col0\" >random forest classifier with fine-tune and class weight</td>\n",
       "      <td id=\"T_2b71c_row7_col1\" class=\"data row7 col1\" > 0.78</td>\n",
       "      <td id=\"T_2b71c_row7_col2\" class=\"data row7 col2\" > 0.84</td>\n",
       "    </tr>\n",
       "  </tbody>\n",
       "</table>\n"
      ],
      "text/plain": [
       "<pandas.io.formats.style.Styler at 0x7f365d969410>"
      ]
     },
     "metadata": {},
     "output_type": "display_data"
    }
   ],
   "source": [
    "view_models_eval()"
   ]
  },
  {
   "cell_type": "markdown",
   "id": "58565935",
   "metadata": {
    "papermill": {
     "duration": 0.197021,
     "end_time": "2022-04-30T03:08:17.405502",
     "exception": false,
     "start_time": "2022-04-30T03:08:17.208481",
     "status": "completed"
    },
    "tags": []
   },
   "source": [
    "Despite having set the class weight on the random forest classifier model, the model recall and f1 score been decreased"
   ]
  },
  {
   "cell_type": "markdown",
   "id": "af83d2fd",
   "metadata": {
    "execution": {
     "iopub.execute_input": "2022-04-08T10:40:49.387914Z",
     "iopub.status.busy": "2022-04-08T10:40:49.387563Z",
     "iopub.status.idle": "2022-04-08T10:40:49.391987Z",
     "shell.execute_reply": "2022-04-08T10:40:49.391034Z",
     "shell.execute_reply.started": "2022-04-08T10:40:49.387877Z"
    },
    "papermill": {
     "duration": 0.19592,
     "end_time": "2022-04-30T03:08:17.801294",
     "exception": false,
     "start_time": "2022-04-30T03:08:17.605374",
     "status": "completed"
    },
    "tags": []
   },
   "source": [
    "# 9.0 Conclusion"
   ]
  },
  {
   "cell_type": "code",
   "execution_count": 57,
   "id": "727702e8",
   "metadata": {
    "execution": {
     "iopub.execute_input": "2022-04-30T03:08:18.207014Z",
     "iopub.status.busy": "2022-04-30T03:08:18.203506Z",
     "iopub.status.idle": "2022-04-30T03:08:18.211006Z",
     "shell.execute_reply": "2022-04-30T03:08:18.210435Z",
     "shell.execute_reply.started": "2022-04-29T09:38:40.760493Z"
    },
    "papermill": {
     "duration": 0.213272,
     "end_time": "2022-04-30T03:08:18.211166",
     "exception": false,
     "start_time": "2022-04-30T03:08:17.997894",
     "status": "completed"
    },
    "tags": []
   },
   "outputs": [
    {
     "data": {
      "text/html": [
       "<style type=\"text/css\">\n",
       "</style>\n",
       "<table id=\"T_a26d8_\">\n",
       "  <thead>\n",
       "    <tr>\n",
       "      <th class=\"col_heading level0 col0\" >model</th>\n",
       "      <th class=\"col_heading level0 col1\" >recall</th>\n",
       "      <th class=\"col_heading level0 col2\" >f1_score</th>\n",
       "    </tr>\n",
       "  </thead>\n",
       "  <tbody>\n",
       "    <tr>\n",
       "      <td id=\"T_a26d8_row0_col0\" class=\"data row0 col0\" >random forest classifier with fine-tune and resample</td>\n",
       "      <td id=\"T_a26d8_row0_col1\" class=\"data row0 col1\" > 0.82</td>\n",
       "      <td id=\"T_a26d8_row0_col2\" class=\"data row0 col2\" > 0.85</td>\n",
       "    </tr>\n",
       "    <tr>\n",
       "      <td id=\"T_a26d8_row1_col0\" class=\"data row1 col0\" >random forest classifier with fine-tune</td>\n",
       "      <td id=\"T_a26d8_row1_col1\" class=\"data row1 col1\" > 0.80</td>\n",
       "      <td id=\"T_a26d8_row1_col2\" class=\"data row1 col2\" > 0.86</td>\n",
       "    </tr>\n",
       "    <tr>\n",
       "      <td id=\"T_a26d8_row2_col0\" class=\"data row2 col0\" >random forest classifier</td>\n",
       "      <td id=\"T_a26d8_row2_col1\" class=\"data row2 col1\" > 0.78</td>\n",
       "      <td id=\"T_a26d8_row2_col2\" class=\"data row2 col2\" > 0.86</td>\n",
       "    </tr>\n",
       "    <tr>\n",
       "      <td id=\"T_a26d8_row3_col0\" class=\"data row3 col0\" >random forest classifier with fine-tune and class weight</td>\n",
       "      <td id=\"T_a26d8_row3_col1\" class=\"data row3 col1\" > 0.78</td>\n",
       "      <td id=\"T_a26d8_row3_col2\" class=\"data row3 col2\" > 0.84</td>\n",
       "    </tr>\n",
       "    <tr>\n",
       "      <td id=\"T_a26d8_row4_col0\" class=\"data row4 col0\" >support vector machine classifier</td>\n",
       "      <td id=\"T_a26d8_row4_col1\" class=\"data row4 col1\" > 0.60</td>\n",
       "      <td id=\"T_a26d8_row4_col2\" class=\"data row4 col2\" > 0.73</td>\n",
       "    </tr>\n",
       "    <tr>\n",
       "      <td id=\"T_a26d8_row5_col0\" class=\"data row5 col0\" >naive bayes</td>\n",
       "      <td id=\"T_a26d8_row5_col1\" class=\"data row5 col1\" > 0.60</td>\n",
       "      <td id=\"T_a26d8_row5_col2\" class=\"data row5 col2\" > 0.73</td>\n",
       "    </tr>\n",
       "    <tr>\n",
       "      <td id=\"T_a26d8_row6_col0\" class=\"data row6 col0\" >logistic regression</td>\n",
       "      <td id=\"T_a26d8_row6_col1\" class=\"data row6 col1\" > 0.51</td>\n",
       "      <td id=\"T_a26d8_row6_col2\" class=\"data row6 col2\" > 0.63</td>\n",
       "    </tr>\n",
       "    <tr>\n",
       "      <td id=\"T_a26d8_row7_col0\" class=\"data row7 col0\" >sgd classifier</td>\n",
       "      <td id=\"T_a26d8_row7_col1\" class=\"data row7 col1\" > 0.47</td>\n",
       "      <td id=\"T_a26d8_row7_col2\" class=\"data row7 col2\" > 0.60</td>\n",
       "    </tr>\n",
       "  </tbody>\n",
       "</table>\n"
      ],
      "text/plain": [
       "<pandas.io.formats.style.Styler at 0x7f365d98d1d0>"
      ]
     },
     "metadata": {},
     "output_type": "display_data"
    }
   ],
   "source": [
    "view_models_eval(sort=True)"
   ]
  },
  {
   "cell_type": "markdown",
   "id": "708aad02",
   "metadata": {
    "papermill": {
     "duration": 0.198005,
     "end_time": "2022-04-30T03:08:18.606690",
     "exception": false,
     "start_time": "2022-04-30T03:08:18.408685",
     "status": "completed"
    },
    "tags": []
   },
   "source": [
    "After trying searching and tweaking different models, the model that score the highest for both recall and f1 score on the validation set will be random forest classifier with fine-tune and resample."
   ]
  },
  {
   "cell_type": "code",
   "execution_count": 58,
   "id": "4a071056",
   "metadata": {
    "execution": {
     "iopub.execute_input": "2022-04-30T03:08:19.005700Z",
     "iopub.status.busy": "2022-04-30T03:08:19.004992Z",
     "iopub.status.idle": "2022-04-30T03:08:19.346937Z",
     "shell.execute_reply": "2022-04-30T03:08:19.347449Z",
     "shell.execute_reply.started": "2022-04-29T09:38:40.779414Z"
    },
    "papermill": {
     "duration": 0.543343,
     "end_time": "2022-04-30T03:08:19.347620",
     "exception": false,
     "start_time": "2022-04-30T03:08:18.804277",
     "status": "completed"
    },
    "tags": []
   },
   "outputs": [
    {
     "name": "stderr",
     "output_type": "stream",
     "text": [
      "[Parallel(n_jobs=4)]: Using backend ThreadingBackend with 4 concurrent workers.\n",
      "[Parallel(n_jobs=4)]: Done  33 tasks      | elapsed:    0.1s\n",
      "[Parallel(n_jobs=4)]: Done 100 out of 100 | elapsed:    0.3s finished\n"
     ]
    },
    {
     "data": {
      "text/plain": [
       "(0.9387755102040817, 0.9435897435897437)"
      ]
     },
     "execution_count": 58,
     "metadata": {},
     "output_type": "execute_result"
    }
   ],
   "source": [
    "y_pred = forest_clf_ft_rs.predict(X_test)\n",
    "\n",
    "recall_score(y_test, y_pred), f1_score(y_test, y_pred)"
   ]
  },
  {
   "cell_type": "markdown",
   "id": "4dafc496",
   "metadata": {
    "papermill": {
     "duration": 0.197763,
     "end_time": "2022-04-30T03:08:19.743316",
     "exception": false,
     "start_time": "2022-04-30T03:08:19.545553",
     "status": "completed"
    },
    "tags": []
   },
   "source": [
    "The model score 0.94 and 0.94 for recall and f1 score respectively on the test dataset. "
   ]
  }
 ],
 "metadata": {
  "kernelspec": {
   "display_name": "Python 3",
   "language": "python",
   "name": "python3"
  },
  "language_info": {
   "codemirror_mode": {
    "name": "ipython",
    "version": 3
   },
   "file_extension": ".py",
   "mimetype": "text/x-python",
   "name": "python",
   "nbconvert_exporter": "python",
   "pygments_lexer": "ipython3",
   "version": "3.7.12"
  },
  "papermill": {
   "default_parameters": {},
   "duration": 2083.71728,
   "end_time": "2022-04-30T03:08:20.859106",
   "environment_variables": {},
   "exception": null,
   "input_path": "__notebook__.ipynb",
   "output_path": "__notebook__.ipynb",
   "parameters": {},
   "start_time": "2022-04-30T02:33:37.141826",
   "version": "2.3.3"
  }
 },
 "nbformat": 4,
 "nbformat_minor": 5
}
