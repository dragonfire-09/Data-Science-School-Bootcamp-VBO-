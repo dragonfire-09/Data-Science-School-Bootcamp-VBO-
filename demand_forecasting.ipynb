{
  "metadata": {
    "kernelspec": {
      "language": "python",
      "display_name": "Python 3",
      "name": "python3"
    },
    "language_info": {
      "name": "python",
      "version": "3.7.12",
      "mimetype": "text/x-python",
      "codemirror_mode": {
        "name": "ipython",
        "version": 3
      },
      "pygments_lexer": "ipython3",
      "nbconvert_exporter": "python",
      "file_extension": ".py"
    },
    "colab": {
      "name": "demand-forecasting.ipynb",
      "provenance": []
    }
  },
  "nbformat_minor": 0,
  "nbformat": 4,
  "cells": [
    {
      "cell_type": "code",
      "source": [
        "# This Python 3 environment comes with many helpful analytics libraries installed\n",
        "# It is defined by the kaggle/python Docker image: https://github.com/kaggle/docker-python\n",
        "# For example, here's several helpful packages to load\n",
        "\n",
        "import numpy as np # linear algebra\n",
        "import pandas as pd # data processing, CSV file I/O (e.g. pd.read_csv)\n",
        "\n",
        "# Input data files are available in the read-only \"../input/\" directory\n",
        "# For example, running this (by clicking run or pressing Shift+Enter) will list all files under the input directory\n",
        "\n",
        "import os\n",
        "for dirname, _, filenames in os.walk('/kaggle/input'):\n",
        "    for filename in filenames:\n",
        "        print(os.path.join(dirname, filename))\n",
        "\n",
        "# You can write up to 20GB to the current directory (/kaggle/working/) that gets preserved as output when you create a version using \"Save & Run All\" \n",
        "# You can also write temporary files to /kaggle/temp/, but they won't be saved outside of the current session"
      ],
      "metadata": {
        "_uuid": "8f2839f25d086af736a60e9eeb907d3b93b6e0e5",
        "_cell_guid": "b1076dfc-b9ad-4769-8c92-a6c4dae69d19",
        "execution": {
          "iopub.status.busy": "2022-02-16T15:21:54.920196Z",
          "iopub.execute_input": "2022-02-16T15:21:54.920558Z",
          "iopub.status.idle": "2022-02-16T15:21:54.931233Z",
          "shell.execute_reply.started": "2022-02-16T15:21:54.920522Z",
          "shell.execute_reply": "2022-02-16T15:21:54.930595Z"
        },
        "trusted": true,
        "id": "JvDb7dY0o23N"
      },
      "execution_count": null,
      "outputs": []
    },
    {
      "cell_type": "code",
      "source": [
        "import time\n",
        "import numpy as np\n",
        "import pandas as pd\n",
        "from matplotlib import pyplot as plt\n",
        "import seaborn as sns\n",
        "import lightgbm as lgb\n",
        "import warnings"
      ],
      "metadata": {
        "execution": {
          "iopub.status.busy": "2022-02-16T15:21:54.932921Z",
          "iopub.execute_input": "2022-02-16T15:21:54.933590Z",
          "iopub.status.idle": "2022-02-16T15:21:54.944812Z",
          "shell.execute_reply.started": "2022-02-16T15:21:54.933552Z",
          "shell.execute_reply": "2022-02-16T15:21:54.943906Z"
        },
        "trusted": true,
        "id": "BpSN4s8Lo23R"
      },
      "execution_count": 1,
      "outputs": []
    },
    {
      "cell_type": "code",
      "source": [
        "pd.set_option('display.max_columns', None)\n",
        "pd.set_option('display.width', 500)\n",
        "warnings.filterwarnings('ignore')"
      ],
      "metadata": {
        "execution": {
          "iopub.status.busy": "2022-02-16T15:21:54.946220Z",
          "iopub.execute_input": "2022-02-16T15:21:54.946877Z",
          "iopub.status.idle": "2022-02-16T15:21:54.956225Z",
          "shell.execute_reply.started": "2022-02-16T15:21:54.946826Z",
          "shell.execute_reply": "2022-02-16T15:21:54.955276Z"
        },
        "trusted": true,
        "id": "GdcXnEdCo23T"
      },
      "execution_count": 2,
      "outputs": []
    },
    {
      "cell_type": "code",
      "source": [
        "train = pd.read_csv('/content/sample_data/train.csv', parse_dates=['date'])\n",
        "test = pd.read_csv('/content/sample_data/test.csv', parse_dates=['date'])\n",
        "sample_sub = pd.read_csv('/content/sample_submission.csv')\n",
        "df = pd.concat([train, test], sort=False)"
      ],
      "metadata": {
        "execution": {
          "iopub.status.busy": "2022-02-16T15:21:54.957853Z",
          "iopub.execute_input": "2022-02-16T15:21:54.958310Z",
          "iopub.status.idle": "2022-02-16T15:21:55.683180Z",
          "shell.execute_reply.started": "2022-02-16T15:21:54.958266Z",
          "shell.execute_reply": "2022-02-16T15:21:55.682317Z"
        },
        "trusted": true,
        "id": "ZQ9nl2UFo23V"
      },
      "execution_count": 3,
      "outputs": []
    },
    {
      "cell_type": "code",
      "source": [
        "def check_df(dataframe, head=5):\n",
        "    print(\"##################### Shape #####################\")\n",
        "    print(dataframe.shape)\n",
        "    print(\"##################### Types #####################\")\n",
        "    print(dataframe.dtypes)\n",
        "    print(\"##################### Head #####################\")\n",
        "    print(dataframe.head(head))\n",
        "    print(\"##################### Tail #####################\")\n",
        "    print(dataframe.tail(head))\n",
        "    print(\"##################### NA #####################\")\n",
        "    print(dataframe.isnull().sum())\n",
        "    print(\"##################### Quantiles #####################\")\n",
        "    print(dataframe.quantile([0, 0.05, 0.50, 0.95, 0.99, 1]).T)"
      ],
      "metadata": {
        "execution": {
          "iopub.status.busy": "2022-02-16T15:21:55.686222Z",
          "iopub.execute_input": "2022-02-16T15:21:55.686574Z",
          "iopub.status.idle": "2022-02-16T15:21:55.693524Z",
          "shell.execute_reply.started": "2022-02-16T15:21:55.686529Z",
          "shell.execute_reply": "2022-02-16T15:21:55.692587Z"
        },
        "trusted": true,
        "id": "K-z7K33-o23X"
      },
      "execution_count": 4,
      "outputs": []
    },
    {
      "cell_type": "code",
      "source": [
        "check_df(train)"
      ],
      "metadata": {
        "execution": {
          "iopub.status.busy": "2022-02-16T15:21:55.694994Z",
          "iopub.execute_input": "2022-02-16T15:21:55.695948Z",
          "iopub.status.idle": "2022-02-16T15:21:55.777955Z",
          "shell.execute_reply.started": "2022-02-16T15:21:55.695901Z",
          "shell.execute_reply": "2022-02-16T15:21:55.777053Z"
        },
        "trusted": true,
        "colab": {
          "base_uri": "https://localhost:8080/"
        },
        "id": "KVRCocnko23Y",
        "outputId": "73ecd2b5-3e5a-46e1-9650-24a30d99aea9"
      },
      "execution_count": 5,
      "outputs": [
        {
          "output_type": "stream",
          "name": "stdout",
          "text": [
            "##################### Shape #####################\n",
            "(227618, 4)\n",
            "##################### Types #####################\n",
            "date     datetime64[ns]\n",
            "store             int64\n",
            "item              int64\n",
            "sales           float64\n",
            "dtype: object\n",
            "##################### Head #####################\n",
            "        date  store  item  sales\n",
            "0 2013-01-01      1     1   13.0\n",
            "1 2013-01-02      1     1   11.0\n",
            "2 2013-01-03      1     1   14.0\n",
            "3 2013-01-04      1     1   13.0\n",
            "4 2013-01-05      1     1   10.0\n",
            "##################### Tail #####################\n",
            "             date  store  item  sales\n",
            "227613 2016-04-04      5    13   64.0\n",
            "227614 2016-04-05      5    13   68.0\n",
            "227615 2016-04-06      5    13   65.0\n",
            "227616 2016-04-07      5    13   78.0\n",
            "227617 2016-04-08      5     1    NaN\n",
            "##################### NA #####################\n",
            "date     0\n",
            "store    0\n",
            "item     0\n",
            "sales    1\n",
            "dtype: int64\n",
            "##################### Quantiles #####################\n",
            "       0.00  0.05  0.50   0.95   0.99   1.00\n",
            "store   1.0   1.0   5.0   10.0   10.0   10.0\n",
            "item    1.0   1.0   7.0   12.0   13.0   13.0\n",
            "sales   0.0  14.0  50.0  105.0  129.0  210.0\n"
          ]
        }
      ]
    },
    {
      "cell_type": "code",
      "source": [
        "check_df(test)"
      ],
      "metadata": {
        "execution": {
          "iopub.status.busy": "2022-02-16T15:21:55.779506Z",
          "iopub.execute_input": "2022-02-16T15:21:55.779974Z",
          "iopub.status.idle": "2022-02-16T15:21:55.800947Z",
          "shell.execute_reply.started": "2022-02-16T15:21:55.779930Z",
          "shell.execute_reply": "2022-02-16T15:21:55.799940Z"
        },
        "trusted": true,
        "colab": {
          "base_uri": "https://localhost:8080/"
        },
        "id": "J_6Rd4y4o23a",
        "outputId": "7c7d41e1-0ae1-42df-c853-4ba0711588b0"
      },
      "execution_count": 6,
      "outputs": [
        {
          "output_type": "stream",
          "name": "stdout",
          "text": [
            "##################### Shape #####################\n",
            "(45000, 4)\n",
            "##################### Types #####################\n",
            "id                int64\n",
            "date     datetime64[ns]\n",
            "store             int64\n",
            "item              int64\n",
            "dtype: object\n",
            "##################### Head #####################\n",
            "   id       date  store  item\n",
            "0   0 2018-01-01      1     1\n",
            "1   1 2018-01-02      1     1\n",
            "2   2 2018-01-03      1     1\n",
            "3   3 2018-01-04      1     1\n",
            "4   4 2018-01-05      1     1\n",
            "##################### Tail #####################\n",
            "          id       date  store  item\n",
            "44995  44995 2018-03-27     10    50\n",
            "44996  44996 2018-03-28     10    50\n",
            "44997  44997 2018-03-29     10    50\n",
            "44998  44998 2018-03-30     10    50\n",
            "44999  44999 2018-03-31     10    50\n",
            "##################### NA #####################\n",
            "id       0\n",
            "date     0\n",
            "store    0\n",
            "item     0\n",
            "dtype: int64\n",
            "##################### Quantiles #####################\n",
            "       0.00     0.05     0.50      0.95      0.99     1.00\n",
            "id      0.0  2249.95  22499.5  42749.05  44549.01  44999.0\n",
            "store   1.0     1.00      5.5     10.00     10.00     10.0\n",
            "item    1.0     3.00     25.5     48.00     50.00     50.0\n"
          ]
        }
      ]
    },
    {
      "cell_type": "code",
      "source": [
        "check_df(df)"
      ],
      "metadata": {
        "execution": {
          "iopub.status.busy": "2022-02-16T15:21:55.802191Z",
          "iopub.execute_input": "2022-02-16T15:21:55.802466Z",
          "iopub.status.idle": "2022-02-16T15:21:55.893965Z",
          "shell.execute_reply.started": "2022-02-16T15:21:55.802414Z",
          "shell.execute_reply": "2022-02-16T15:21:55.893065Z"
        },
        "trusted": true,
        "colab": {
          "base_uri": "https://localhost:8080/"
        },
        "id": "-76yHjhIo23a",
        "outputId": "3db9f593-3e3f-4735-cb03-ad22de247d4f"
      },
      "execution_count": 7,
      "outputs": [
        {
          "output_type": "stream",
          "name": "stdout",
          "text": [
            "##################### Shape #####################\n",
            "(272618, 5)\n",
            "##################### Types #####################\n",
            "date     datetime64[ns]\n",
            "store             int64\n",
            "item              int64\n",
            "sales           float64\n",
            "id              float64\n",
            "dtype: object\n",
            "##################### Head #####################\n",
            "        date  store  item  sales  id\n",
            "0 2013-01-01      1     1   13.0 NaN\n",
            "1 2013-01-02      1     1   11.0 NaN\n",
            "2 2013-01-03      1     1   14.0 NaN\n",
            "3 2013-01-04      1     1   13.0 NaN\n",
            "4 2013-01-05      1     1   10.0 NaN\n",
            "##################### Tail #####################\n",
            "            date  store  item  sales       id\n",
            "44995 2018-03-27     10    50    NaN  44995.0\n",
            "44996 2018-03-28     10    50    NaN  44996.0\n",
            "44997 2018-03-29     10    50    NaN  44997.0\n",
            "44998 2018-03-30     10    50    NaN  44998.0\n",
            "44999 2018-03-31     10    50    NaN  44999.0\n",
            "##################### NA #####################\n",
            "date          0\n",
            "store         0\n",
            "item          0\n",
            "sales     45001\n",
            "id       227618\n",
            "dtype: int64\n",
            "##################### Quantiles #####################\n",
            "       0.00     0.05     0.50      0.95      0.99     1.00\n",
            "store   1.0     1.00      5.0     10.00     10.00     10.0\n",
            "item    1.0     1.00      8.0     35.00     47.00     50.0\n",
            "sales   0.0    14.00     50.0    105.00    129.00    210.0\n",
            "id      0.0  2249.95  22499.5  42749.05  44549.01  44999.0\n"
          ]
        }
      ]
    },
    {
      "cell_type": "code",
      "source": [
        "#How is the sales distribution?\n",
        "df[\"sales\"].describe([0.10, 0.30, 0.50, 0.70, 0.80, 0.90, 0.95, 0.99])"
      ],
      "metadata": {
        "execution": {
          "iopub.status.busy": "2022-02-16T15:21:55.895691Z",
          "iopub.execute_input": "2022-02-16T15:21:55.896039Z",
          "iopub.status.idle": "2022-02-16T15:21:55.943858Z",
          "shell.execute_reply.started": "2022-02-16T15:21:55.895994Z",
          "shell.execute_reply": "2022-02-16T15:21:55.942897Z"
        },
        "trusted": true,
        "colab": {
          "base_uri": "https://localhost:8080/"
        },
        "id": "EbkV_QNPo23b",
        "outputId": "f56e5407-efa9-45bd-e9db-f0d7e5b99d4c"
      },
      "execution_count": 8,
      "outputs": [
        {
          "output_type": "execute_result",
          "data": {
            "text/plain": [
              "count    227617.000000\n",
              "mean         52.645633\n",
              "std          28.717892\n",
              "min           0.000000\n",
              "10%          18.000000\n",
              "30%          33.000000\n",
              "50%          50.000000\n",
              "70%          66.000000\n",
              "80%          77.000000\n",
              "90%          92.000000\n",
              "95%         105.000000\n",
              "99%         129.000000\n",
              "max         210.000000\n",
              "Name: sales, dtype: float64"
            ]
          },
          "metadata": {},
          "execution_count": 8
        }
      ]
    },
    {
      "cell_type": "code",
      "source": [
        "# How many stores are there?\n",
        "df[[\"store\"]].nunique()"
      ],
      "metadata": {
        "execution": {
          "iopub.status.busy": "2022-02-16T15:21:55.945662Z",
          "iopub.execute_input": "2022-02-16T15:21:55.945988Z",
          "iopub.status.idle": "2022-02-16T15:21:55.967677Z",
          "shell.execute_reply.started": "2022-02-16T15:21:55.945944Z",
          "shell.execute_reply": "2022-02-16T15:21:55.966852Z"
        },
        "trusted": true,
        "colab": {
          "base_uri": "https://localhost:8080/"
        },
        "id": "A4DXxR2Co23j",
        "outputId": "8c2567bb-45be-4e91-82d5-2251cd391959"
      },
      "execution_count": 9,
      "outputs": [
        {
          "output_type": "execute_result",
          "data": {
            "text/plain": [
              "store    10\n",
              "dtype: int64"
            ]
          },
          "metadata": {},
          "execution_count": 9
        }
      ]
    },
    {
      "cell_type": "code",
      "source": [
        "# How many items are there?\n",
        "df[[\"item\"]].nunique()"
      ],
      "metadata": {
        "execution": {
          "iopub.status.busy": "2022-02-16T15:21:55.968884Z",
          "iopub.execute_input": "2022-02-16T15:21:55.969119Z",
          "iopub.status.idle": "2022-02-16T15:21:55.984738Z",
          "shell.execute_reply.started": "2022-02-16T15:21:55.969091Z",
          "shell.execute_reply": "2022-02-16T15:21:55.983820Z"
        },
        "trusted": true,
        "colab": {
          "base_uri": "https://localhost:8080/"
        },
        "id": "CYGbTI_jo23o",
        "outputId": "e58ee60b-96ff-4066-ac75-bae68d196b97"
      },
      "execution_count": 10,
      "outputs": [
        {
          "output_type": "execute_result",
          "data": {
            "text/plain": [
              "item    50\n",
              "dtype: int64"
            ]
          },
          "metadata": {},
          "execution_count": 10
        }
      ]
    },
    {
      "cell_type": "code",
      "source": [
        "# Are there an equal number of unique items in each store?\n",
        "df.groupby([\"store\"])[\"item\"].nunique()"
      ],
      "metadata": {
        "execution": {
          "iopub.status.busy": "2022-02-16T15:21:55.986039Z",
          "iopub.execute_input": "2022-02-16T15:21:55.986270Z",
          "iopub.status.idle": "2022-02-16T15:21:56.036092Z",
          "shell.execute_reply.started": "2022-02-16T15:21:55.986241Z",
          "shell.execute_reply": "2022-02-16T15:21:56.035254Z"
        },
        "trusted": true,
        "colab": {
          "base_uri": "https://localhost:8080/"
        },
        "id": "2vC9IG1Oo23p",
        "outputId": "a22ab746-39a9-4722-b30c-86046f858cee"
      },
      "execution_count": 11,
      "outputs": [
        {
          "output_type": "execute_result",
          "data": {
            "text/plain": [
              "store\n",
              "1     50\n",
              "2     50\n",
              "3     50\n",
              "4     50\n",
              "5     50\n",
              "6     50\n",
              "7     50\n",
              "8     50\n",
              "9     50\n",
              "10    50\n",
              "Name: item, dtype: int64"
            ]
          },
          "metadata": {},
          "execution_count": 11
        }
      ]
    },
    {
      "cell_type": "code",
      "source": [
        "# So, is there an equal number of sales in each store?\n",
        "df.groupby([\"store\", \"item\"]).agg({\"sales\": [\"sum\"]})"
      ],
      "metadata": {
        "execution": {
          "iopub.status.busy": "2022-02-16T15:21:56.037271Z",
          "iopub.execute_input": "2022-02-16T15:21:56.037526Z",
          "iopub.status.idle": "2022-02-16T15:21:56.102679Z",
          "shell.execute_reply.started": "2022-02-16T15:21:56.037496Z",
          "shell.execute_reply": "2022-02-16T15:21:56.101755Z"
        },
        "trusted": true,
        "colab": {
          "base_uri": "https://localhost:8080/",
          "height": 486
        },
        "id": "bA7VyNkmo23p",
        "outputId": "9cbba188-257d-43ee-cc8e-1cfd7a5ecc8d"
      },
      "execution_count": 12,
      "outputs": [
        {
          "output_type": "execute_result",
          "data": {
            "text/html": [
              "\n",
              "  <div id=\"df-2fa9b5b9-9900-446e-9859-45680e4845dc\">\n",
              "    <div class=\"colab-df-container\">\n",
              "      <div>\n",
              "<style scoped>\n",
              "    .dataframe tbody tr th:only-of-type {\n",
              "        vertical-align: middle;\n",
              "    }\n",
              "\n",
              "    .dataframe tbody tr th {\n",
              "        vertical-align: top;\n",
              "    }\n",
              "\n",
              "    .dataframe thead tr th {\n",
              "        text-align: left;\n",
              "    }\n",
              "\n",
              "    .dataframe thead tr:last-of-type th {\n",
              "        text-align: right;\n",
              "    }\n",
              "</style>\n",
              "<table border=\"1\" class=\"dataframe\">\n",
              "  <thead>\n",
              "    <tr>\n",
              "      <th></th>\n",
              "      <th></th>\n",
              "      <th>sales</th>\n",
              "    </tr>\n",
              "    <tr>\n",
              "      <th></th>\n",
              "      <th></th>\n",
              "      <th>sum</th>\n",
              "    </tr>\n",
              "    <tr>\n",
              "      <th>store</th>\n",
              "      <th>item</th>\n",
              "      <th></th>\n",
              "    </tr>\n",
              "  </thead>\n",
              "  <tbody>\n",
              "    <tr>\n",
              "      <th rowspan=\"5\" valign=\"top\">1</th>\n",
              "      <th>1</th>\n",
              "      <td>36468.0</td>\n",
              "    </tr>\n",
              "    <tr>\n",
              "      <th>2</th>\n",
              "      <td>97050.0</td>\n",
              "    </tr>\n",
              "    <tr>\n",
              "      <th>3</th>\n",
              "      <td>60638.0</td>\n",
              "    </tr>\n",
              "    <tr>\n",
              "      <th>4</th>\n",
              "      <td>36440.0</td>\n",
              "    </tr>\n",
              "    <tr>\n",
              "      <th>5</th>\n",
              "      <td>30335.0</td>\n",
              "    </tr>\n",
              "    <tr>\n",
              "      <th>...</th>\n",
              "      <th>...</th>\n",
              "      <td>...</td>\n",
              "    </tr>\n",
              "    <tr>\n",
              "      <th rowspan=\"5\" valign=\"top\">10</th>\n",
              "      <th>46</th>\n",
              "      <td>0.0</td>\n",
              "    </tr>\n",
              "    <tr>\n",
              "      <th>47</th>\n",
              "      <td>0.0</td>\n",
              "    </tr>\n",
              "    <tr>\n",
              "      <th>48</th>\n",
              "      <td>0.0</td>\n",
              "    </tr>\n",
              "    <tr>\n",
              "      <th>49</th>\n",
              "      <td>0.0</td>\n",
              "    </tr>\n",
              "    <tr>\n",
              "      <th>50</th>\n",
              "      <td>0.0</td>\n",
              "    </tr>\n",
              "  </tbody>\n",
              "</table>\n",
              "<p>500 rows × 1 columns</p>\n",
              "</div>\n",
              "      <button class=\"colab-df-convert\" onclick=\"convertToInteractive('df-2fa9b5b9-9900-446e-9859-45680e4845dc')\"\n",
              "              title=\"Convert this dataframe to an interactive table.\"\n",
              "              style=\"display:none;\">\n",
              "        \n",
              "  <svg xmlns=\"http://www.w3.org/2000/svg\" height=\"24px\"viewBox=\"0 0 24 24\"\n",
              "       width=\"24px\">\n",
              "    <path d=\"M0 0h24v24H0V0z\" fill=\"none\"/>\n",
              "    <path d=\"M18.56 5.44l.94 2.06.94-2.06 2.06-.94-2.06-.94-.94-2.06-.94 2.06-2.06.94zm-11 1L8.5 8.5l.94-2.06 2.06-.94-2.06-.94L8.5 2.5l-.94 2.06-2.06.94zm10 10l.94 2.06.94-2.06 2.06-.94-2.06-.94-.94-2.06-.94 2.06-2.06.94z\"/><path d=\"M17.41 7.96l-1.37-1.37c-.4-.4-.92-.59-1.43-.59-.52 0-1.04.2-1.43.59L10.3 9.45l-7.72 7.72c-.78.78-.78 2.05 0 2.83L4 21.41c.39.39.9.59 1.41.59.51 0 1.02-.2 1.41-.59l7.78-7.78 2.81-2.81c.8-.78.8-2.07 0-2.86zM5.41 20L4 18.59l7.72-7.72 1.47 1.35L5.41 20z\"/>\n",
              "  </svg>\n",
              "      </button>\n",
              "      \n",
              "  <style>\n",
              "    .colab-df-container {\n",
              "      display:flex;\n",
              "      flex-wrap:wrap;\n",
              "      gap: 12px;\n",
              "    }\n",
              "\n",
              "    .colab-df-convert {\n",
              "      background-color: #E8F0FE;\n",
              "      border: none;\n",
              "      border-radius: 50%;\n",
              "      cursor: pointer;\n",
              "      display: none;\n",
              "      fill: #1967D2;\n",
              "      height: 32px;\n",
              "      padding: 0 0 0 0;\n",
              "      width: 32px;\n",
              "    }\n",
              "\n",
              "    .colab-df-convert:hover {\n",
              "      background-color: #E2EBFA;\n",
              "      box-shadow: 0px 1px 2px rgba(60, 64, 67, 0.3), 0px 1px 3px 1px rgba(60, 64, 67, 0.15);\n",
              "      fill: #174EA6;\n",
              "    }\n",
              "\n",
              "    [theme=dark] .colab-df-convert {\n",
              "      background-color: #3B4455;\n",
              "      fill: #D2E3FC;\n",
              "    }\n",
              "\n",
              "    [theme=dark] .colab-df-convert:hover {\n",
              "      background-color: #434B5C;\n",
              "      box-shadow: 0px 1px 3px 1px rgba(0, 0, 0, 0.15);\n",
              "      filter: drop-shadow(0px 1px 2px rgba(0, 0, 0, 0.3));\n",
              "      fill: #FFFFFF;\n",
              "    }\n",
              "  </style>\n",
              "\n",
              "      <script>\n",
              "        const buttonEl =\n",
              "          document.querySelector('#df-2fa9b5b9-9900-446e-9859-45680e4845dc button.colab-df-convert');\n",
              "        buttonEl.style.display =\n",
              "          google.colab.kernel.accessAllowed ? 'block' : 'none';\n",
              "\n",
              "        async function convertToInteractive(key) {\n",
              "          const element = document.querySelector('#df-2fa9b5b9-9900-446e-9859-45680e4845dc');\n",
              "          const dataTable =\n",
              "            await google.colab.kernel.invokeFunction('convertToInteractive',\n",
              "                                                     [key], {});\n",
              "          if (!dataTable) return;\n",
              "\n",
              "          const docLinkHtml = 'Like what you see? Visit the ' +\n",
              "            '<a target=\"_blank\" href=https://colab.research.google.com/notebooks/data_table.ipynb>data table notebook</a>'\n",
              "            + ' to learn more about interactive tables.';\n",
              "          element.innerHTML = '';\n",
              "          dataTable['output_type'] = 'display_data';\n",
              "          await google.colab.output.renderOutput(dataTable, element);\n",
              "          const docLink = document.createElement('div');\n",
              "          docLink.innerHTML = docLinkHtml;\n",
              "          element.appendChild(docLink);\n",
              "        }\n",
              "      </script>\n",
              "    </div>\n",
              "  </div>\n",
              "  "
            ],
            "text/plain": [
              "              sales\n",
              "                sum\n",
              "store item         \n",
              "1     1     36468.0\n",
              "      2     97050.0\n",
              "      3     60638.0\n",
              "      4     36440.0\n",
              "      5     30335.0\n",
              "...             ...\n",
              "10    46        0.0\n",
              "      47        0.0\n",
              "      48        0.0\n",
              "      49        0.0\n",
              "      50        0.0\n",
              "\n",
              "[500 rows x 1 columns]"
            ]
          },
          "metadata": {},
          "execution_count": 12
        }
      ]
    },
    {
      "cell_type": "code",
      "source": [
        "# sales statistics in store-item breakdown\n",
        "df.groupby([\"store\", \"item\"]).agg({\"sales\": [\"sum\", \"mean\", \"median\", \"std\"]})"
      ],
      "metadata": {
        "execution": {
          "iopub.status.busy": "2022-02-16T15:21:56.106220Z",
          "iopub.execute_input": "2022-02-16T15:21:56.106513Z",
          "iopub.status.idle": "2022-02-16T15:21:56.217636Z",
          "shell.execute_reply.started": "2022-02-16T15:21:56.106475Z",
          "shell.execute_reply": "2022-02-16T15:21:56.216721Z"
        },
        "trusted": true,
        "colab": {
          "base_uri": "https://localhost:8080/",
          "height": 486
        },
        "id": "nK_F7sBoo23q",
        "outputId": "ba511728-6854-4865-bb04-43344624cae9"
      },
      "execution_count": 13,
      "outputs": [
        {
          "output_type": "execute_result",
          "data": {
            "text/html": [
              "\n",
              "  <div id=\"df-8c23233b-d33e-4109-bbb6-78546c2e2a05\">\n",
              "    <div class=\"colab-df-container\">\n",
              "      <div>\n",
              "<style scoped>\n",
              "    .dataframe tbody tr th:only-of-type {\n",
              "        vertical-align: middle;\n",
              "    }\n",
              "\n",
              "    .dataframe tbody tr th {\n",
              "        vertical-align: top;\n",
              "    }\n",
              "\n",
              "    .dataframe thead tr th {\n",
              "        text-align: left;\n",
              "    }\n",
              "\n",
              "    .dataframe thead tr:last-of-type th {\n",
              "        text-align: right;\n",
              "    }\n",
              "</style>\n",
              "<table border=\"1\" class=\"dataframe\">\n",
              "  <thead>\n",
              "    <tr>\n",
              "      <th></th>\n",
              "      <th></th>\n",
              "      <th colspan=\"4\" halign=\"left\">sales</th>\n",
              "    </tr>\n",
              "    <tr>\n",
              "      <th></th>\n",
              "      <th></th>\n",
              "      <th>sum</th>\n",
              "      <th>mean</th>\n",
              "      <th>median</th>\n",
              "      <th>std</th>\n",
              "    </tr>\n",
              "    <tr>\n",
              "      <th>store</th>\n",
              "      <th>item</th>\n",
              "      <th></th>\n",
              "      <th></th>\n",
              "      <th></th>\n",
              "      <th></th>\n",
              "    </tr>\n",
              "  </thead>\n",
              "  <tbody>\n",
              "    <tr>\n",
              "      <th rowspan=\"5\" valign=\"top\">1</th>\n",
              "      <th>1</th>\n",
              "      <td>36468.0</td>\n",
              "      <td>19.971522</td>\n",
              "      <td>19.0</td>\n",
              "      <td>6.741022</td>\n",
              "    </tr>\n",
              "    <tr>\n",
              "      <th>2</th>\n",
              "      <td>97050.0</td>\n",
              "      <td>53.148959</td>\n",
              "      <td>52.0</td>\n",
              "      <td>15.005779</td>\n",
              "    </tr>\n",
              "    <tr>\n",
              "      <th>3</th>\n",
              "      <td>60638.0</td>\n",
              "      <td>33.208105</td>\n",
              "      <td>33.0</td>\n",
              "      <td>10.072529</td>\n",
              "    </tr>\n",
              "    <tr>\n",
              "      <th>4</th>\n",
              "      <td>36440.0</td>\n",
              "      <td>19.956188</td>\n",
              "      <td>20.0</td>\n",
              "      <td>6.640618</td>\n",
              "    </tr>\n",
              "    <tr>\n",
              "      <th>5</th>\n",
              "      <td>30335.0</td>\n",
              "      <td>16.612815</td>\n",
              "      <td>16.0</td>\n",
              "      <td>5.672102</td>\n",
              "    </tr>\n",
              "    <tr>\n",
              "      <th>...</th>\n",
              "      <th>...</th>\n",
              "      <td>...</td>\n",
              "      <td>...</td>\n",
              "      <td>...</td>\n",
              "      <td>...</td>\n",
              "    </tr>\n",
              "    <tr>\n",
              "      <th rowspan=\"5\" valign=\"top\">10</th>\n",
              "      <th>46</th>\n",
              "      <td>0.0</td>\n",
              "      <td>NaN</td>\n",
              "      <td>NaN</td>\n",
              "      <td>NaN</td>\n",
              "    </tr>\n",
              "    <tr>\n",
              "      <th>47</th>\n",
              "      <td>0.0</td>\n",
              "      <td>NaN</td>\n",
              "      <td>NaN</td>\n",
              "      <td>NaN</td>\n",
              "    </tr>\n",
              "    <tr>\n",
              "      <th>48</th>\n",
              "      <td>0.0</td>\n",
              "      <td>NaN</td>\n",
              "      <td>NaN</td>\n",
              "      <td>NaN</td>\n",
              "    </tr>\n",
              "    <tr>\n",
              "      <th>49</th>\n",
              "      <td>0.0</td>\n",
              "      <td>NaN</td>\n",
              "      <td>NaN</td>\n",
              "      <td>NaN</td>\n",
              "    </tr>\n",
              "    <tr>\n",
              "      <th>50</th>\n",
              "      <td>0.0</td>\n",
              "      <td>NaN</td>\n",
              "      <td>NaN</td>\n",
              "      <td>NaN</td>\n",
              "    </tr>\n",
              "  </tbody>\n",
              "</table>\n",
              "<p>500 rows × 4 columns</p>\n",
              "</div>\n",
              "      <button class=\"colab-df-convert\" onclick=\"convertToInteractive('df-8c23233b-d33e-4109-bbb6-78546c2e2a05')\"\n",
              "              title=\"Convert this dataframe to an interactive table.\"\n",
              "              style=\"display:none;\">\n",
              "        \n",
              "  <svg xmlns=\"http://www.w3.org/2000/svg\" height=\"24px\"viewBox=\"0 0 24 24\"\n",
              "       width=\"24px\">\n",
              "    <path d=\"M0 0h24v24H0V0z\" fill=\"none\"/>\n",
              "    <path d=\"M18.56 5.44l.94 2.06.94-2.06 2.06-.94-2.06-.94-.94-2.06-.94 2.06-2.06.94zm-11 1L8.5 8.5l.94-2.06 2.06-.94-2.06-.94L8.5 2.5l-.94 2.06-2.06.94zm10 10l.94 2.06.94-2.06 2.06-.94-2.06-.94-.94-2.06-.94 2.06-2.06.94z\"/><path d=\"M17.41 7.96l-1.37-1.37c-.4-.4-.92-.59-1.43-.59-.52 0-1.04.2-1.43.59L10.3 9.45l-7.72 7.72c-.78.78-.78 2.05 0 2.83L4 21.41c.39.39.9.59 1.41.59.51 0 1.02-.2 1.41-.59l7.78-7.78 2.81-2.81c.8-.78.8-2.07 0-2.86zM5.41 20L4 18.59l7.72-7.72 1.47 1.35L5.41 20z\"/>\n",
              "  </svg>\n",
              "      </button>\n",
              "      \n",
              "  <style>\n",
              "    .colab-df-container {\n",
              "      display:flex;\n",
              "      flex-wrap:wrap;\n",
              "      gap: 12px;\n",
              "    }\n",
              "\n",
              "    .colab-df-convert {\n",
              "      background-color: #E8F0FE;\n",
              "      border: none;\n",
              "      border-radius: 50%;\n",
              "      cursor: pointer;\n",
              "      display: none;\n",
              "      fill: #1967D2;\n",
              "      height: 32px;\n",
              "      padding: 0 0 0 0;\n",
              "      width: 32px;\n",
              "    }\n",
              "\n",
              "    .colab-df-convert:hover {\n",
              "      background-color: #E2EBFA;\n",
              "      box-shadow: 0px 1px 2px rgba(60, 64, 67, 0.3), 0px 1px 3px 1px rgba(60, 64, 67, 0.15);\n",
              "      fill: #174EA6;\n",
              "    }\n",
              "\n",
              "    [theme=dark] .colab-df-convert {\n",
              "      background-color: #3B4455;\n",
              "      fill: #D2E3FC;\n",
              "    }\n",
              "\n",
              "    [theme=dark] .colab-df-convert:hover {\n",
              "      background-color: #434B5C;\n",
              "      box-shadow: 0px 1px 3px 1px rgba(0, 0, 0, 0.15);\n",
              "      filter: drop-shadow(0px 1px 2px rgba(0, 0, 0, 0.3));\n",
              "      fill: #FFFFFF;\n",
              "    }\n",
              "  </style>\n",
              "\n",
              "      <script>\n",
              "        const buttonEl =\n",
              "          document.querySelector('#df-8c23233b-d33e-4109-bbb6-78546c2e2a05 button.colab-df-convert');\n",
              "        buttonEl.style.display =\n",
              "          google.colab.kernel.accessAllowed ? 'block' : 'none';\n",
              "\n",
              "        async function convertToInteractive(key) {\n",
              "          const element = document.querySelector('#df-8c23233b-d33e-4109-bbb6-78546c2e2a05');\n",
              "          const dataTable =\n",
              "            await google.colab.kernel.invokeFunction('convertToInteractive',\n",
              "                                                     [key], {});\n",
              "          if (!dataTable) return;\n",
              "\n",
              "          const docLinkHtml = 'Like what you see? Visit the ' +\n",
              "            '<a target=\"_blank\" href=https://colab.research.google.com/notebooks/data_table.ipynb>data table notebook</a>'\n",
              "            + ' to learn more about interactive tables.';\n",
              "          element.innerHTML = '';\n",
              "          dataTable['output_type'] = 'display_data';\n",
              "          await google.colab.output.renderOutput(dataTable, element);\n",
              "          const docLink = document.createElement('div');\n",
              "          docLink.innerHTML = docLinkHtml;\n",
              "          element.appendChild(docLink);\n",
              "        }\n",
              "      </script>\n",
              "    </div>\n",
              "  </div>\n",
              "  "
            ],
            "text/plain": [
              "              sales                             \n",
              "                sum       mean median        std\n",
              "store item                                      \n",
              "1     1     36468.0  19.971522   19.0   6.741022\n",
              "      2     97050.0  53.148959   52.0  15.005779\n",
              "      3     60638.0  33.208105   33.0  10.072529\n",
              "      4     36440.0  19.956188   20.0   6.640618\n",
              "      5     30335.0  16.612815   16.0   5.672102\n",
              "...             ...        ...    ...        ...\n",
              "10    46        0.0        NaN    NaN        NaN\n",
              "      47        0.0        NaN    NaN        NaN\n",
              "      48        0.0        NaN    NaN        NaN\n",
              "      49        0.0        NaN    NaN        NaN\n",
              "      50        0.0        NaN    NaN        NaN\n",
              "\n",
              "[500 rows x 4 columns]"
            ]
          },
          "metadata": {},
          "execution_count": 13
        }
      ]
    },
    {
      "cell_type": "code",
      "source": [
        "def create_date_features(df):\n",
        "    df['month'] = df.date.dt.month\n",
        "    df['day_of_month'] = df.date.dt.day\n",
        "    df['day_of_year'] = df.date.dt.dayofyear\n",
        "    df['week_of_year'] = df.date.dt.weekofyear\n",
        "    df['day_of_week'] = df.date.dt.dayofweek\n",
        "    df['year'] = df.date.dt.year\n",
        "    df[\"is_wknd\"] = df.date.dt.weekday // 4\n",
        "    df['is_month_start'] = df.date.dt.is_month_start.astype(int)\n",
        "    df['is_month_end'] = df.date.dt.is_month_end.astype(int)\n",
        "    return df"
      ],
      "metadata": {
        "execution": {
          "iopub.status.busy": "2022-02-16T15:21:56.218866Z",
          "iopub.execute_input": "2022-02-16T15:21:56.219099Z",
          "iopub.status.idle": "2022-02-16T15:21:56.226544Z",
          "shell.execute_reply.started": "2022-02-16T15:21:56.219069Z",
          "shell.execute_reply": "2022-02-16T15:21:56.225715Z"
        },
        "trusted": true,
        "id": "eOlVSxCVo23q"
      },
      "execution_count": 14,
      "outputs": []
    },
    {
      "cell_type": "code",
      "source": [
        "df = create_date_features(df)"
      ],
      "metadata": {
        "execution": {
          "iopub.status.busy": "2022-02-16T15:21:56.227812Z",
          "iopub.execute_input": "2022-02-16T15:21:56.228031Z",
          "iopub.status.idle": "2022-02-16T15:21:57.312077Z",
          "shell.execute_reply.started": "2022-02-16T15:21:56.228003Z",
          "shell.execute_reply": "2022-02-16T15:21:57.311483Z"
        },
        "trusted": true,
        "id": "4S9uNpvHo23r"
      },
      "execution_count": 15,
      "outputs": []
    },
    {
      "cell_type": "code",
      "source": [
        "df.groupby([\"store\", \"item\", \"month\"]).agg({\"sales\": [\"sum\", \"mean\", \"median\", \"std\"]})"
      ],
      "metadata": {
        "execution": {
          "iopub.status.busy": "2022-02-16T15:21:57.313414Z",
          "iopub.execute_input": "2022-02-16T15:21:57.313858Z",
          "iopub.status.idle": "2022-02-16T15:21:57.448663Z",
          "shell.execute_reply.started": "2022-02-16T15:21:57.313826Z",
          "shell.execute_reply": "2022-02-16T15:21:57.448089Z"
        },
        "trusted": true,
        "colab": {
          "base_uri": "https://localhost:8080/",
          "height": 486
        },
        "id": "WrLWynFMo23r",
        "outputId": "b1488c1c-0349-4ef7-b484-bc4df8810592"
      },
      "execution_count": 16,
      "outputs": [
        {
          "output_type": "execute_result",
          "data": {
            "text/html": [
              "\n",
              "  <div id=\"df-5f838ebe-8b0a-4309-b597-cd68f8d79da6\">\n",
              "    <div class=\"colab-df-container\">\n",
              "      <div>\n",
              "<style scoped>\n",
              "    .dataframe tbody tr th:only-of-type {\n",
              "        vertical-align: middle;\n",
              "    }\n",
              "\n",
              "    .dataframe tbody tr th {\n",
              "        vertical-align: top;\n",
              "    }\n",
              "\n",
              "    .dataframe thead tr th {\n",
              "        text-align: left;\n",
              "    }\n",
              "\n",
              "    .dataframe thead tr:last-of-type th {\n",
              "        text-align: right;\n",
              "    }\n",
              "</style>\n",
              "<table border=\"1\" class=\"dataframe\">\n",
              "  <thead>\n",
              "    <tr>\n",
              "      <th></th>\n",
              "      <th></th>\n",
              "      <th></th>\n",
              "      <th colspan=\"4\" halign=\"left\">sales</th>\n",
              "    </tr>\n",
              "    <tr>\n",
              "      <th></th>\n",
              "      <th></th>\n",
              "      <th></th>\n",
              "      <th>sum</th>\n",
              "      <th>mean</th>\n",
              "      <th>median</th>\n",
              "      <th>std</th>\n",
              "    </tr>\n",
              "    <tr>\n",
              "      <th>store</th>\n",
              "      <th>item</th>\n",
              "      <th>month</th>\n",
              "      <th></th>\n",
              "      <th></th>\n",
              "      <th></th>\n",
              "      <th></th>\n",
              "    </tr>\n",
              "  </thead>\n",
              "  <tbody>\n",
              "    <tr>\n",
              "      <th rowspan=\"5\" valign=\"top\">1</th>\n",
              "      <th rowspan=\"5\" valign=\"top\">1</th>\n",
              "      <th>1</th>\n",
              "      <td>2125.0</td>\n",
              "      <td>13.709677</td>\n",
              "      <td>13.0</td>\n",
              "      <td>4.397413</td>\n",
              "    </tr>\n",
              "    <tr>\n",
              "      <th>2</th>\n",
              "      <td>2063.0</td>\n",
              "      <td>14.631206</td>\n",
              "      <td>14.0</td>\n",
              "      <td>4.668146</td>\n",
              "    </tr>\n",
              "    <tr>\n",
              "      <th>3</th>\n",
              "      <td>2728.0</td>\n",
              "      <td>17.600000</td>\n",
              "      <td>17.0</td>\n",
              "      <td>4.545013</td>\n",
              "    </tr>\n",
              "    <tr>\n",
              "      <th>4</th>\n",
              "      <td>3118.0</td>\n",
              "      <td>20.786667</td>\n",
              "      <td>20.0</td>\n",
              "      <td>4.894301</td>\n",
              "    </tr>\n",
              "    <tr>\n",
              "      <th>5</th>\n",
              "      <td>3448.0</td>\n",
              "      <td>22.245161</td>\n",
              "      <td>22.0</td>\n",
              "      <td>6.564705</td>\n",
              "    </tr>\n",
              "    <tr>\n",
              "      <th>...</th>\n",
              "      <th>...</th>\n",
              "      <th>...</th>\n",
              "      <td>...</td>\n",
              "      <td>...</td>\n",
              "      <td>...</td>\n",
              "      <td>...</td>\n",
              "    </tr>\n",
              "    <tr>\n",
              "      <th rowspan=\"5\" valign=\"top\">10</th>\n",
              "      <th rowspan=\"2\" valign=\"top\">49</th>\n",
              "      <th>2</th>\n",
              "      <td>0.0</td>\n",
              "      <td>NaN</td>\n",
              "      <td>NaN</td>\n",
              "      <td>NaN</td>\n",
              "    </tr>\n",
              "    <tr>\n",
              "      <th>3</th>\n",
              "      <td>0.0</td>\n",
              "      <td>NaN</td>\n",
              "      <td>NaN</td>\n",
              "      <td>NaN</td>\n",
              "    </tr>\n",
              "    <tr>\n",
              "      <th rowspan=\"3\" valign=\"top\">50</th>\n",
              "      <th>1</th>\n",
              "      <td>0.0</td>\n",
              "      <td>NaN</td>\n",
              "      <td>NaN</td>\n",
              "      <td>NaN</td>\n",
              "    </tr>\n",
              "    <tr>\n",
              "      <th>2</th>\n",
              "      <td>0.0</td>\n",
              "      <td>NaN</td>\n",
              "      <td>NaN</td>\n",
              "      <td>NaN</td>\n",
              "    </tr>\n",
              "    <tr>\n",
              "      <th>3</th>\n",
              "      <td>0.0</td>\n",
              "      <td>NaN</td>\n",
              "      <td>NaN</td>\n",
              "      <td>NaN</td>\n",
              "    </tr>\n",
              "  </tbody>\n",
              "</table>\n",
              "<p>2625 rows × 4 columns</p>\n",
              "</div>\n",
              "      <button class=\"colab-df-convert\" onclick=\"convertToInteractive('df-5f838ebe-8b0a-4309-b597-cd68f8d79da6')\"\n",
              "              title=\"Convert this dataframe to an interactive table.\"\n",
              "              style=\"display:none;\">\n",
              "        \n",
              "  <svg xmlns=\"http://www.w3.org/2000/svg\" height=\"24px\"viewBox=\"0 0 24 24\"\n",
              "       width=\"24px\">\n",
              "    <path d=\"M0 0h24v24H0V0z\" fill=\"none\"/>\n",
              "    <path d=\"M18.56 5.44l.94 2.06.94-2.06 2.06-.94-2.06-.94-.94-2.06-.94 2.06-2.06.94zm-11 1L8.5 8.5l.94-2.06 2.06-.94-2.06-.94L8.5 2.5l-.94 2.06-2.06.94zm10 10l.94 2.06.94-2.06 2.06-.94-2.06-.94-.94-2.06-.94 2.06-2.06.94z\"/><path d=\"M17.41 7.96l-1.37-1.37c-.4-.4-.92-.59-1.43-.59-.52 0-1.04.2-1.43.59L10.3 9.45l-7.72 7.72c-.78.78-.78 2.05 0 2.83L4 21.41c.39.39.9.59 1.41.59.51 0 1.02-.2 1.41-.59l7.78-7.78 2.81-2.81c.8-.78.8-2.07 0-2.86zM5.41 20L4 18.59l7.72-7.72 1.47 1.35L5.41 20z\"/>\n",
              "  </svg>\n",
              "      </button>\n",
              "      \n",
              "  <style>\n",
              "    .colab-df-container {\n",
              "      display:flex;\n",
              "      flex-wrap:wrap;\n",
              "      gap: 12px;\n",
              "    }\n",
              "\n",
              "    .colab-df-convert {\n",
              "      background-color: #E8F0FE;\n",
              "      border: none;\n",
              "      border-radius: 50%;\n",
              "      cursor: pointer;\n",
              "      display: none;\n",
              "      fill: #1967D2;\n",
              "      height: 32px;\n",
              "      padding: 0 0 0 0;\n",
              "      width: 32px;\n",
              "    }\n",
              "\n",
              "    .colab-df-convert:hover {\n",
              "      background-color: #E2EBFA;\n",
              "      box-shadow: 0px 1px 2px rgba(60, 64, 67, 0.3), 0px 1px 3px 1px rgba(60, 64, 67, 0.15);\n",
              "      fill: #174EA6;\n",
              "    }\n",
              "\n",
              "    [theme=dark] .colab-df-convert {\n",
              "      background-color: #3B4455;\n",
              "      fill: #D2E3FC;\n",
              "    }\n",
              "\n",
              "    [theme=dark] .colab-df-convert:hover {\n",
              "      background-color: #434B5C;\n",
              "      box-shadow: 0px 1px 3px 1px rgba(0, 0, 0, 0.15);\n",
              "      filter: drop-shadow(0px 1px 2px rgba(0, 0, 0, 0.3));\n",
              "      fill: #FFFFFF;\n",
              "    }\n",
              "  </style>\n",
              "\n",
              "      <script>\n",
              "        const buttonEl =\n",
              "          document.querySelector('#df-5f838ebe-8b0a-4309-b597-cd68f8d79da6 button.colab-df-convert');\n",
              "        buttonEl.style.display =\n",
              "          google.colab.kernel.accessAllowed ? 'block' : 'none';\n",
              "\n",
              "        async function convertToInteractive(key) {\n",
              "          const element = document.querySelector('#df-5f838ebe-8b0a-4309-b597-cd68f8d79da6');\n",
              "          const dataTable =\n",
              "            await google.colab.kernel.invokeFunction('convertToInteractive',\n",
              "                                                     [key], {});\n",
              "          if (!dataTable) return;\n",
              "\n",
              "          const docLinkHtml = 'Like what you see? Visit the ' +\n",
              "            '<a target=\"_blank\" href=https://colab.research.google.com/notebooks/data_table.ipynb>data table notebook</a>'\n",
              "            + ' to learn more about interactive tables.';\n",
              "          element.innerHTML = '';\n",
              "          dataTable['output_type'] = 'display_data';\n",
              "          await google.colab.output.renderOutput(dataTable, element);\n",
              "          const docLink = document.createElement('div');\n",
              "          docLink.innerHTML = docLinkHtml;\n",
              "          element.appendChild(docLink);\n",
              "        }\n",
              "      </script>\n",
              "    </div>\n",
              "  </div>\n",
              "  "
            ],
            "text/plain": [
              "                   sales                            \n",
              "                     sum       mean median       std\n",
              "store item month                                    \n",
              "1     1    1      2125.0  13.709677   13.0  4.397413\n",
              "           2      2063.0  14.631206   14.0  4.668146\n",
              "           3      2728.0  17.600000   17.0  4.545013\n",
              "           4      3118.0  20.786667   20.0  4.894301\n",
              "           5      3448.0  22.245161   22.0  6.564705\n",
              "...                  ...        ...    ...       ...\n",
              "10    49   2         0.0        NaN    NaN       NaN\n",
              "           3         0.0        NaN    NaN       NaN\n",
              "      50   1         0.0        NaN    NaN       NaN\n",
              "           2         0.0        NaN    NaN       NaN\n",
              "           3         0.0        NaN    NaN       NaN\n",
              "\n",
              "[2625 rows x 4 columns]"
            ]
          },
          "metadata": {},
          "execution_count": 16
        }
      ]
    },
    {
      "cell_type": "code",
      "source": [
        "# Random Noise"
      ],
      "metadata": {
        "id": "Gstxo4Pkt1zz"
      },
      "execution_count": null,
      "outputs": []
    },
    {
      "cell_type": "markdown",
      "source": [
        "# At this point, we add random noise to the variables that we will produce in the sales focus in order to prevent over-learning or to prevent bias. This will add noise prevents over-learning.\n"
      ],
      "metadata": {
        "id": "olMXQHXJvG8N"
      }
    },
    {
      "cell_type": "markdown",
      "source": [
        "# Lag/Shifted Features"
      ],
      "metadata": {
        "id": "BjT-iwadvTxE"
      }
    },
    {
      "cell_type": "code",
      "source": [
        "def random_noise(dataframe):\n",
        "    return np.random.normal(scale=1.6, size=(len(dataframe),))"
      ],
      "metadata": {
        "execution": {
          "iopub.status.busy": "2022-02-16T15:21:57.449846Z",
          "iopub.execute_input": "2022-02-16T15:21:57.450246Z",
          "iopub.status.idle": "2022-02-16T15:21:57.454492Z",
          "shell.execute_reply.started": "2022-02-16T15:21:57.450216Z",
          "shell.execute_reply": "2022-02-16T15:21:57.453633Z"
        },
        "trusted": true,
        "id": "cd1PN8bmo23r"
      },
      "execution_count": 17,
      "outputs": []
    },
    {
      "cell_type": "code",
      "source": [
        "df.sort_values(by=['store', 'item', 'date'], axis=0, inplace=True)"
      ],
      "metadata": {
        "execution": {
          "iopub.status.busy": "2022-02-16T15:21:57.455826Z",
          "iopub.execute_input": "2022-02-16T15:21:57.456294Z",
          "iopub.status.idle": "2022-02-16T15:21:57.720262Z",
          "shell.execute_reply.started": "2022-02-16T15:21:57.456239Z",
          "shell.execute_reply": "2022-02-16T15:21:57.719473Z"
        },
        "trusted": true,
        "id": "-GXzf326o23r"
      },
      "execution_count": 18,
      "outputs": []
    },
    {
      "cell_type": "code",
      "source": [
        "def lag_features(dataframe, lags):\n",
        "    for lag in lags:\n",
        "        dataframe['sales_lag_' + str(lag)] = dataframe.groupby([\"store\", \"item\"])['sales'].transform(\n",
        "            lambda x: x.shift(lag)) + random_noise(dataframe)\n",
        "    return dataframe"
      ],
      "metadata": {
        "execution": {
          "iopub.status.busy": "2022-02-16T15:21:57.721428Z",
          "iopub.execute_input": "2022-02-16T15:21:57.721728Z",
          "iopub.status.idle": "2022-02-16T15:21:57.727163Z",
          "shell.execute_reply.started": "2022-02-16T15:21:57.721697Z",
          "shell.execute_reply": "2022-02-16T15:21:57.726231Z"
        },
        "trusted": true,
        "id": "rf0tKbWAo23s"
      },
      "execution_count": 19,
      "outputs": []
    },
    {
      "cell_type": "code",
      "source": [
        "df = lag_features(df, [91, 98, 105, 112, 119, 126, 182, 364, 546, 728,31, 62, 142, 172, 202, 232, 262, 292,312,342])\n"
      ],
      "metadata": {
        "execution": {
          "iopub.status.busy": "2022-02-16T15:21:57.728295Z",
          "iopub.execute_input": "2022-02-16T15:21:57.728533Z",
          "iopub.status.idle": "2022-02-16T15:22:01.792685Z",
          "shell.execute_reply.started": "2022-02-16T15:21:57.728504Z",
          "shell.execute_reply": "2022-02-16T15:22:01.791728Z"
        },
        "trusted": true,
        "id": "DJuLPnDro23s"
      },
      "execution_count": 20,
      "outputs": []
    },
    {
      "cell_type": "markdown",
      "source": [
        "# Rolling Mean Features"
      ],
      "metadata": {
        "id": "35kzk4xbvbtR"
      }
    },
    {
      "cell_type": "markdown",
      "source": [
        "# Rolling Mean means moving average. These moving averages carry historical information. We will create them to put Level and Trend components. window represents the number of delay. The entered value takes the delay with itself and calculates the average.\n",
        "\n",
        "# At this point, the own value of the observation unit should not be taken into account when calculating the moving average,\n",
        "\n",
        "# but in this case, a feature independent of the current value can be produced that can express the trend from the past.\n"
      ],
      "metadata": {
        "id": "MWO9Y1I0viNp"
      }
    },
    {
      "cell_type": "code",
      "source": [
        "def roll_mean_features(dataframe, windows):\n",
        "    for window in windows:\n",
        "        dataframe['sales_roll_mean_' + str(window)] = dataframe.groupby([\"store\", \"item\"])['sales']. \\\n",
        "                                                          transform(\n",
        "            lambda x: x.shift(1).rolling(window=window, min_periods=10, win_type=\"triang\").mean()) + random_noise(\n",
        "            dataframe)\n",
        "    return dataframe"
      ],
      "metadata": {
        "execution": {
          "iopub.status.busy": "2022-02-16T15:22:01.793873Z",
          "iopub.execute_input": "2022-02-16T15:22:01.794112Z",
          "iopub.status.idle": "2022-02-16T15:22:01.800474Z",
          "shell.execute_reply.started": "2022-02-16T15:22:01.794083Z",
          "shell.execute_reply": "2022-02-16T15:22:01.799617Z"
        },
        "trusted": true,
        "id": "t75Uxs3fo23t"
      },
      "execution_count": 21,
      "outputs": []
    },
    {
      "cell_type": "code",
      "source": [
        "df = roll_mean_features(df, [180, 365, 546, 728, 910])\n",
        "df.head()"
      ],
      "metadata": {
        "execution": {
          "iopub.status.busy": "2022-02-16T15:22:01.801655Z",
          "iopub.execute_input": "2022-02-16T15:22:01.801905Z",
          "iopub.status.idle": "2022-02-16T15:22:04.091525Z",
          "shell.execute_reply.started": "2022-02-16T15:22:01.801876Z",
          "shell.execute_reply": "2022-02-16T15:22:04.090659Z"
        },
        "trusted": true,
        "colab": {
          "base_uri": "https://localhost:8080/",
          "height": 357
        },
        "id": "T1KTyusco23t",
        "outputId": "3323fc3c-438e-4cd9-8d3c-921d48b57637"
      },
      "execution_count": 24,
      "outputs": [
        {
          "output_type": "execute_result",
          "data": {
            "text/html": [
              "\n",
              "  <div id=\"df-e48e71de-5dd7-42f8-9cac-d0649793e7ea\">\n",
              "    <div class=\"colab-df-container\">\n",
              "      <div>\n",
              "<style scoped>\n",
              "    .dataframe tbody tr th:only-of-type {\n",
              "        vertical-align: middle;\n",
              "    }\n",
              "\n",
              "    .dataframe tbody tr th {\n",
              "        vertical-align: top;\n",
              "    }\n",
              "\n",
              "    .dataframe thead th {\n",
              "        text-align: right;\n",
              "    }\n",
              "</style>\n",
              "<table border=\"1\" class=\"dataframe\">\n",
              "  <thead>\n",
              "    <tr style=\"text-align: right;\">\n",
              "      <th></th>\n",
              "      <th>date</th>\n",
              "      <th>store</th>\n",
              "      <th>item</th>\n",
              "      <th>sales</th>\n",
              "      <th>id</th>\n",
              "      <th>month</th>\n",
              "      <th>day_of_month</th>\n",
              "      <th>day_of_year</th>\n",
              "      <th>week_of_year</th>\n",
              "      <th>day_of_week</th>\n",
              "      <th>year</th>\n",
              "      <th>is_wknd</th>\n",
              "      <th>is_month_start</th>\n",
              "      <th>is_month_end</th>\n",
              "      <th>sales_lag_91</th>\n",
              "      <th>sales_lag_98</th>\n",
              "      <th>sales_lag_105</th>\n",
              "      <th>sales_lag_112</th>\n",
              "      <th>sales_lag_119</th>\n",
              "      <th>sales_lag_126</th>\n",
              "      <th>sales_lag_182</th>\n",
              "      <th>sales_lag_364</th>\n",
              "      <th>sales_lag_546</th>\n",
              "      <th>sales_lag_728</th>\n",
              "      <th>sales_lag_31</th>\n",
              "      <th>sales_lag_62</th>\n",
              "      <th>sales_lag_142</th>\n",
              "      <th>sales_lag_172</th>\n",
              "      <th>sales_lag_202</th>\n",
              "      <th>sales_lag_232</th>\n",
              "      <th>sales_lag_262</th>\n",
              "      <th>sales_lag_292</th>\n",
              "      <th>sales_lag_312</th>\n",
              "      <th>sales_lag_342</th>\n",
              "      <th>sales_roll_mean_365</th>\n",
              "      <th>sales_roll_mean_546</th>\n",
              "      <th>sales_roll_mean_180</th>\n",
              "      <th>sales_roll_mean_728</th>\n",
              "      <th>sales_roll_mean_910</th>\n",
              "    </tr>\n",
              "  </thead>\n",
              "  <tbody>\n",
              "    <tr>\n",
              "      <th>0</th>\n",
              "      <td>2013-01-01</td>\n",
              "      <td>1</td>\n",
              "      <td>1</td>\n",
              "      <td>13.0</td>\n",
              "      <td>NaN</td>\n",
              "      <td>1</td>\n",
              "      <td>1</td>\n",
              "      <td>1</td>\n",
              "      <td>1</td>\n",
              "      <td>1</td>\n",
              "      <td>2013</td>\n",
              "      <td>0</td>\n",
              "      <td>1</td>\n",
              "      <td>0</td>\n",
              "      <td>NaN</td>\n",
              "      <td>NaN</td>\n",
              "      <td>NaN</td>\n",
              "      <td>NaN</td>\n",
              "      <td>NaN</td>\n",
              "      <td>NaN</td>\n",
              "      <td>NaN</td>\n",
              "      <td>NaN</td>\n",
              "      <td>NaN</td>\n",
              "      <td>NaN</td>\n",
              "      <td>NaN</td>\n",
              "      <td>NaN</td>\n",
              "      <td>NaN</td>\n",
              "      <td>NaN</td>\n",
              "      <td>NaN</td>\n",
              "      <td>NaN</td>\n",
              "      <td>NaN</td>\n",
              "      <td>NaN</td>\n",
              "      <td>NaN</td>\n",
              "      <td>NaN</td>\n",
              "      <td>NaN</td>\n",
              "      <td>NaN</td>\n",
              "      <td>NaN</td>\n",
              "      <td>NaN</td>\n",
              "      <td>NaN</td>\n",
              "    </tr>\n",
              "    <tr>\n",
              "      <th>1</th>\n",
              "      <td>2013-01-02</td>\n",
              "      <td>1</td>\n",
              "      <td>1</td>\n",
              "      <td>11.0</td>\n",
              "      <td>NaN</td>\n",
              "      <td>1</td>\n",
              "      <td>2</td>\n",
              "      <td>2</td>\n",
              "      <td>1</td>\n",
              "      <td>2</td>\n",
              "      <td>2013</td>\n",
              "      <td>0</td>\n",
              "      <td>0</td>\n",
              "      <td>0</td>\n",
              "      <td>NaN</td>\n",
              "      <td>NaN</td>\n",
              "      <td>NaN</td>\n",
              "      <td>NaN</td>\n",
              "      <td>NaN</td>\n",
              "      <td>NaN</td>\n",
              "      <td>NaN</td>\n",
              "      <td>NaN</td>\n",
              "      <td>NaN</td>\n",
              "      <td>NaN</td>\n",
              "      <td>NaN</td>\n",
              "      <td>NaN</td>\n",
              "      <td>NaN</td>\n",
              "      <td>NaN</td>\n",
              "      <td>NaN</td>\n",
              "      <td>NaN</td>\n",
              "      <td>NaN</td>\n",
              "      <td>NaN</td>\n",
              "      <td>NaN</td>\n",
              "      <td>NaN</td>\n",
              "      <td>NaN</td>\n",
              "      <td>NaN</td>\n",
              "      <td>NaN</td>\n",
              "      <td>NaN</td>\n",
              "      <td>NaN</td>\n",
              "    </tr>\n",
              "    <tr>\n",
              "      <th>2</th>\n",
              "      <td>2013-01-03</td>\n",
              "      <td>1</td>\n",
              "      <td>1</td>\n",
              "      <td>14.0</td>\n",
              "      <td>NaN</td>\n",
              "      <td>1</td>\n",
              "      <td>3</td>\n",
              "      <td>3</td>\n",
              "      <td>1</td>\n",
              "      <td>3</td>\n",
              "      <td>2013</td>\n",
              "      <td>0</td>\n",
              "      <td>0</td>\n",
              "      <td>0</td>\n",
              "      <td>NaN</td>\n",
              "      <td>NaN</td>\n",
              "      <td>NaN</td>\n",
              "      <td>NaN</td>\n",
              "      <td>NaN</td>\n",
              "      <td>NaN</td>\n",
              "      <td>NaN</td>\n",
              "      <td>NaN</td>\n",
              "      <td>NaN</td>\n",
              "      <td>NaN</td>\n",
              "      <td>NaN</td>\n",
              "      <td>NaN</td>\n",
              "      <td>NaN</td>\n",
              "      <td>NaN</td>\n",
              "      <td>NaN</td>\n",
              "      <td>NaN</td>\n",
              "      <td>NaN</td>\n",
              "      <td>NaN</td>\n",
              "      <td>NaN</td>\n",
              "      <td>NaN</td>\n",
              "      <td>NaN</td>\n",
              "      <td>NaN</td>\n",
              "      <td>NaN</td>\n",
              "      <td>NaN</td>\n",
              "      <td>NaN</td>\n",
              "    </tr>\n",
              "    <tr>\n",
              "      <th>3</th>\n",
              "      <td>2013-01-04</td>\n",
              "      <td>1</td>\n",
              "      <td>1</td>\n",
              "      <td>13.0</td>\n",
              "      <td>NaN</td>\n",
              "      <td>1</td>\n",
              "      <td>4</td>\n",
              "      <td>4</td>\n",
              "      <td>1</td>\n",
              "      <td>4</td>\n",
              "      <td>2013</td>\n",
              "      <td>1</td>\n",
              "      <td>0</td>\n",
              "      <td>0</td>\n",
              "      <td>NaN</td>\n",
              "      <td>NaN</td>\n",
              "      <td>NaN</td>\n",
              "      <td>NaN</td>\n",
              "      <td>NaN</td>\n",
              "      <td>NaN</td>\n",
              "      <td>NaN</td>\n",
              "      <td>NaN</td>\n",
              "      <td>NaN</td>\n",
              "      <td>NaN</td>\n",
              "      <td>NaN</td>\n",
              "      <td>NaN</td>\n",
              "      <td>NaN</td>\n",
              "      <td>NaN</td>\n",
              "      <td>NaN</td>\n",
              "      <td>NaN</td>\n",
              "      <td>NaN</td>\n",
              "      <td>NaN</td>\n",
              "      <td>NaN</td>\n",
              "      <td>NaN</td>\n",
              "      <td>NaN</td>\n",
              "      <td>NaN</td>\n",
              "      <td>NaN</td>\n",
              "      <td>NaN</td>\n",
              "      <td>NaN</td>\n",
              "    </tr>\n",
              "    <tr>\n",
              "      <th>4</th>\n",
              "      <td>2013-01-05</td>\n",
              "      <td>1</td>\n",
              "      <td>1</td>\n",
              "      <td>10.0</td>\n",
              "      <td>NaN</td>\n",
              "      <td>1</td>\n",
              "      <td>5</td>\n",
              "      <td>5</td>\n",
              "      <td>1</td>\n",
              "      <td>5</td>\n",
              "      <td>2013</td>\n",
              "      <td>1</td>\n",
              "      <td>0</td>\n",
              "      <td>0</td>\n",
              "      <td>NaN</td>\n",
              "      <td>NaN</td>\n",
              "      <td>NaN</td>\n",
              "      <td>NaN</td>\n",
              "      <td>NaN</td>\n",
              "      <td>NaN</td>\n",
              "      <td>NaN</td>\n",
              "      <td>NaN</td>\n",
              "      <td>NaN</td>\n",
              "      <td>NaN</td>\n",
              "      <td>NaN</td>\n",
              "      <td>NaN</td>\n",
              "      <td>NaN</td>\n",
              "      <td>NaN</td>\n",
              "      <td>NaN</td>\n",
              "      <td>NaN</td>\n",
              "      <td>NaN</td>\n",
              "      <td>NaN</td>\n",
              "      <td>NaN</td>\n",
              "      <td>NaN</td>\n",
              "      <td>NaN</td>\n",
              "      <td>NaN</td>\n",
              "      <td>NaN</td>\n",
              "      <td>NaN</td>\n",
              "      <td>NaN</td>\n",
              "    </tr>\n",
              "  </tbody>\n",
              "</table>\n",
              "</div>\n",
              "      <button class=\"colab-df-convert\" onclick=\"convertToInteractive('df-e48e71de-5dd7-42f8-9cac-d0649793e7ea')\"\n",
              "              title=\"Convert this dataframe to an interactive table.\"\n",
              "              style=\"display:none;\">\n",
              "        \n",
              "  <svg xmlns=\"http://www.w3.org/2000/svg\" height=\"24px\"viewBox=\"0 0 24 24\"\n",
              "       width=\"24px\">\n",
              "    <path d=\"M0 0h24v24H0V0z\" fill=\"none\"/>\n",
              "    <path d=\"M18.56 5.44l.94 2.06.94-2.06 2.06-.94-2.06-.94-.94-2.06-.94 2.06-2.06.94zm-11 1L8.5 8.5l.94-2.06 2.06-.94-2.06-.94L8.5 2.5l-.94 2.06-2.06.94zm10 10l.94 2.06.94-2.06 2.06-.94-2.06-.94-.94-2.06-.94 2.06-2.06.94z\"/><path d=\"M17.41 7.96l-1.37-1.37c-.4-.4-.92-.59-1.43-.59-.52 0-1.04.2-1.43.59L10.3 9.45l-7.72 7.72c-.78.78-.78 2.05 0 2.83L4 21.41c.39.39.9.59 1.41.59.51 0 1.02-.2 1.41-.59l7.78-7.78 2.81-2.81c.8-.78.8-2.07 0-2.86zM5.41 20L4 18.59l7.72-7.72 1.47 1.35L5.41 20z\"/>\n",
              "  </svg>\n",
              "      </button>\n",
              "      \n",
              "  <style>\n",
              "    .colab-df-container {\n",
              "      display:flex;\n",
              "      flex-wrap:wrap;\n",
              "      gap: 12px;\n",
              "    }\n",
              "\n",
              "    .colab-df-convert {\n",
              "      background-color: #E8F0FE;\n",
              "      border: none;\n",
              "      border-radius: 50%;\n",
              "      cursor: pointer;\n",
              "      display: none;\n",
              "      fill: #1967D2;\n",
              "      height: 32px;\n",
              "      padding: 0 0 0 0;\n",
              "      width: 32px;\n",
              "    }\n",
              "\n",
              "    .colab-df-convert:hover {\n",
              "      background-color: #E2EBFA;\n",
              "      box-shadow: 0px 1px 2px rgba(60, 64, 67, 0.3), 0px 1px 3px 1px rgba(60, 64, 67, 0.15);\n",
              "      fill: #174EA6;\n",
              "    }\n",
              "\n",
              "    [theme=dark] .colab-df-convert {\n",
              "      background-color: #3B4455;\n",
              "      fill: #D2E3FC;\n",
              "    }\n",
              "\n",
              "    [theme=dark] .colab-df-convert:hover {\n",
              "      background-color: #434B5C;\n",
              "      box-shadow: 0px 1px 3px 1px rgba(0, 0, 0, 0.15);\n",
              "      filter: drop-shadow(0px 1px 2px rgba(0, 0, 0, 0.3));\n",
              "      fill: #FFFFFF;\n",
              "    }\n",
              "  </style>\n",
              "\n",
              "      <script>\n",
              "        const buttonEl =\n",
              "          document.querySelector('#df-e48e71de-5dd7-42f8-9cac-d0649793e7ea button.colab-df-convert');\n",
              "        buttonEl.style.display =\n",
              "          google.colab.kernel.accessAllowed ? 'block' : 'none';\n",
              "\n",
              "        async function convertToInteractive(key) {\n",
              "          const element = document.querySelector('#df-e48e71de-5dd7-42f8-9cac-d0649793e7ea');\n",
              "          const dataTable =\n",
              "            await google.colab.kernel.invokeFunction('convertToInteractive',\n",
              "                                                     [key], {});\n",
              "          if (!dataTable) return;\n",
              "\n",
              "          const docLinkHtml = 'Like what you see? Visit the ' +\n",
              "            '<a target=\"_blank\" href=https://colab.research.google.com/notebooks/data_table.ipynb>data table notebook</a>'\n",
              "            + ' to learn more about interactive tables.';\n",
              "          element.innerHTML = '';\n",
              "          dataTable['output_type'] = 'display_data';\n",
              "          await google.colab.output.renderOutput(dataTable, element);\n",
              "          const docLink = document.createElement('div');\n",
              "          docLink.innerHTML = docLinkHtml;\n",
              "          element.appendChild(docLink);\n",
              "        }\n",
              "      </script>\n",
              "    </div>\n",
              "  </div>\n",
              "  "
            ],
            "text/plain": [
              "        date  store  item  sales  id  month  day_of_month  day_of_year  week_of_year  day_of_week  year  is_wknd  is_month_start  is_month_end  sales_lag_91  sales_lag_98  sales_lag_105  sales_lag_112  sales_lag_119  sales_lag_126  sales_lag_182  sales_lag_364  sales_lag_546  sales_lag_728  sales_lag_31  sales_lag_62  sales_lag_142  sales_lag_172  sales_lag_202  sales_lag_232  sales_lag_262  sales_lag_292  sales_lag_312  sales_lag_342  sales_roll_mean_365  sales_roll_mean_546  \\\n",
              "0 2013-01-01      1     1   13.0 NaN      1             1            1             1            1  2013        0               1             0           NaN           NaN            NaN            NaN            NaN            NaN            NaN            NaN            NaN            NaN           NaN           NaN            NaN            NaN            NaN            NaN            NaN            NaN            NaN            NaN                  NaN                  NaN   \n",
              "1 2013-01-02      1     1   11.0 NaN      1             2            2             1            2  2013        0               0             0           NaN           NaN            NaN            NaN            NaN            NaN            NaN            NaN            NaN            NaN           NaN           NaN            NaN            NaN            NaN            NaN            NaN            NaN            NaN            NaN                  NaN                  NaN   \n",
              "2 2013-01-03      1     1   14.0 NaN      1             3            3             1            3  2013        0               0             0           NaN           NaN            NaN            NaN            NaN            NaN            NaN            NaN            NaN            NaN           NaN           NaN            NaN            NaN            NaN            NaN            NaN            NaN            NaN            NaN                  NaN                  NaN   \n",
              "3 2013-01-04      1     1   13.0 NaN      1             4            4             1            4  2013        1               0             0           NaN           NaN            NaN            NaN            NaN            NaN            NaN            NaN            NaN            NaN           NaN           NaN            NaN            NaN            NaN            NaN            NaN            NaN            NaN            NaN                  NaN                  NaN   \n",
              "4 2013-01-05      1     1   10.0 NaN      1             5            5             1            5  2013        1               0             0           NaN           NaN            NaN            NaN            NaN            NaN            NaN            NaN            NaN            NaN           NaN           NaN            NaN            NaN            NaN            NaN            NaN            NaN            NaN            NaN                  NaN                  NaN   \n",
              "\n",
              "   sales_roll_mean_180  sales_roll_mean_728  sales_roll_mean_910  \n",
              "0                  NaN                  NaN                  NaN  \n",
              "1                  NaN                  NaN                  NaN  \n",
              "2                  NaN                  NaN                  NaN  \n",
              "3                  NaN                  NaN                  NaN  \n",
              "4                  NaN                  NaN                  NaN  "
            ]
          },
          "metadata": {},
          "execution_count": 24
        }
      ]
    },
    {
      "cell_type": "markdown",
      "source": [
        "# Exponentially Weighted Mean Features\n",
        "\n",
        "# We know that the weighted average gives more weight to values close to the past. When the alpha is .99 it will give more weight to the nearest values, when it is 0.1 it will give more weight to the far values. In this example,\n",
        "\n",
        "# we observe that as the weight of the past values increases, it approaches the normal mean value."
      ],
      "metadata": {
        "id": "coSAGbzgwVv1"
      }
    },
    {
      "cell_type": "code",
      "source": [
        "def ewm_features(dataframe, alphas, lags):\n",
        "    for alpha in alphas:\n",
        "        for lag in lags:\n",
        "            dataframe['sales_ewm_alpha_' + str(alpha).replace(\".\", \"\") + \"_lag_\" + str(lag)] = \\\n",
        "                dataframe.groupby([\"store\", \"item\"])['sales'].transform(lambda x: x.shift(lag).ewm(alpha=alpha).mean())\n",
        "    return dataframe"
      ],
      "metadata": {
        "execution": {
          "iopub.status.busy": "2022-02-16T15:22:04.092674Z",
          "iopub.execute_input": "2022-02-16T15:22:04.093029Z",
          "iopub.status.idle": "2022-02-16T15:22:04.098236Z",
          "shell.execute_reply.started": "2022-02-16T15:22:04.093000Z",
          "shell.execute_reply": "2022-02-16T15:22:04.097689Z"
        },
        "trusted": true,
        "id": "rZYMJie4o23u"
      },
      "execution_count": 25,
      "outputs": []
    },
    {
      "cell_type": "code",
      "source": [
        "alphas = [0.95, 0.9, 0.8, 0.7, 0.5]\n",
        "lags = [91, 98, 105, 112, 180, 270, 365, 546, 728,31, 62, 142, 172, 202, 232, 262, 292,312,342]\n",
        "\n",
        "\n",
        "df = ewm_features(df, alphas, lags)"
      ],
      "metadata": {
        "execution": {
          "iopub.status.busy": "2022-02-16T15:22:04.099270Z",
          "iopub.execute_input": "2022-02-16T15:22:04.099837Z",
          "iopub.status.idle": "2022-02-16T15:22:30.663826Z",
          "shell.execute_reply.started": "2022-02-16T15:22:04.099799Z",
          "shell.execute_reply": "2022-02-16T15:22:30.661839Z"
        },
        "trusted": true,
        "id": "lj-wrLDKo23v"
      },
      "execution_count": 26,
      "outputs": []
    },
    {
      "cell_type": "markdown",
      "source": [
        "# One-Hot Encoding"
      ],
      "metadata": {
        "id": "SFvsaQOHwx4R"
      }
    },
    {
      "cell_type": "code",
      "source": [
        "df = pd.get_dummies(df, columns=['store', 'item', 'day_of_week', 'month'])"
      ],
      "metadata": {
        "execution": {
          "iopub.status.busy": "2022-02-16T15:22:30.665151Z",
          "iopub.execute_input": "2022-02-16T15:22:30.665441Z",
          "iopub.status.idle": "2022-02-16T15:22:32.646384Z",
          "shell.execute_reply.started": "2022-02-16T15:22:30.665401Z",
          "shell.execute_reply": "2022-02-16T15:22:32.645504Z"
        },
        "trusted": true,
        "id": "KjUfgilio23v"
      },
      "execution_count": 27,
      "outputs": []
    },
    {
      "cell_type": "markdown",
      "source": [
        "# Since we will use lightgbm, one of the tree methods, we may prefer to log the dependent variable in order to make the gradient descent algorithm work faster.\n"
      ],
      "metadata": {
        "id": "tkVARXw8w8vm"
      }
    },
    {
      "cell_type": "markdown",
      "source": [
        "# Converting sales to log(1+sales)"
      ],
      "metadata": {
        "id": "WHcy5RgfxkL2"
      }
    },
    {
      "cell_type": "code",
      "source": [
        "df['sales'] = np.log1p(df[\"sales\"].values)\n",
        "check_df(df)"
      ],
      "metadata": {
        "execution": {
          "iopub.status.busy": "2022-02-16T15:22:32.647603Z",
          "iopub.execute_input": "2022-02-16T15:22:32.647839Z",
          "iopub.status.idle": "2022-02-16T15:22:36.454936Z",
          "shell.execute_reply.started": "2022-02-16T15:22:32.647810Z",
          "shell.execute_reply": "2022-02-16T15:22:36.454110Z"
        },
        "trusted": true,
        "colab": {
          "base_uri": "https://localhost:8080/"
        },
        "id": "7QJQH_Rbo23w",
        "outputId": "a6e6a257-e56a-43da-d874-b106f8004b2a"
      },
      "execution_count": 28,
      "outputs": [
        {
          "output_type": "stream",
          "name": "stdout",
          "text": [
            "##################### Shape #####################\n",
            "(272618, 209)\n",
            "##################### Types #####################\n",
            "date            datetime64[ns]\n",
            "sales                  float64\n",
            "id                     float64\n",
            "day_of_month             int64\n",
            "day_of_year              int64\n",
            "                     ...      \n",
            "month_8                  uint8\n",
            "month_9                  uint8\n",
            "month_10                 uint8\n",
            "month_11                 uint8\n",
            "month_12                 uint8\n",
            "Length: 209, dtype: object\n",
            "##################### Head #####################\n",
            "        date     sales  id  day_of_month  day_of_year  week_of_year  year  is_wknd  is_month_start  is_month_end  sales_lag_91  sales_lag_98  sales_lag_105  sales_lag_112  sales_lag_119  sales_lag_126  sales_lag_182  sales_lag_364  sales_lag_546  sales_lag_728  sales_lag_31  sales_lag_62  sales_lag_142  sales_lag_172  sales_lag_202  sales_lag_232  sales_lag_262  sales_lag_292  sales_lag_312  sales_lag_342  sales_roll_mean_365  sales_roll_mean_546  sales_roll_mean_180  sales_roll_mean_728  \\\n",
            "0 2013-01-01  2.639057 NaN             1            1             1  2013        0               1             0           NaN           NaN            NaN            NaN            NaN            NaN            NaN            NaN            NaN            NaN           NaN           NaN            NaN            NaN            NaN            NaN            NaN            NaN            NaN            NaN                  NaN                  NaN                  NaN                  NaN   \n",
            "1 2013-01-02  2.484907 NaN             2            2             1  2013        0               0             0           NaN           NaN            NaN            NaN            NaN            NaN            NaN            NaN            NaN            NaN           NaN           NaN            NaN            NaN            NaN            NaN            NaN            NaN            NaN            NaN                  NaN                  NaN                  NaN                  NaN   \n",
            "2 2013-01-03  2.708050 NaN             3            3             1  2013        0               0             0           NaN           NaN            NaN            NaN            NaN            NaN            NaN            NaN            NaN            NaN           NaN           NaN            NaN            NaN            NaN            NaN            NaN            NaN            NaN            NaN                  NaN                  NaN                  NaN                  NaN   \n",
            "3 2013-01-04  2.639057 NaN             4            4             1  2013        1               0             0           NaN           NaN            NaN            NaN            NaN            NaN            NaN            NaN            NaN            NaN           NaN           NaN            NaN            NaN            NaN            NaN            NaN            NaN            NaN            NaN                  NaN                  NaN                  NaN                  NaN   \n",
            "4 2013-01-05  2.397895 NaN             5            5             1  2013        1               0             0           NaN           NaN            NaN            NaN            NaN            NaN            NaN            NaN            NaN            NaN           NaN           NaN            NaN            NaN            NaN            NaN            NaN            NaN            NaN            NaN                  NaN                  NaN                  NaN                  NaN   \n",
            "\n",
            "   sales_roll_mean_910  sales_ewm_alpha_095_lag_91  sales_ewm_alpha_095_lag_98  sales_ewm_alpha_095_lag_105  sales_ewm_alpha_095_lag_112  sales_ewm_alpha_095_lag_180  sales_ewm_alpha_095_lag_270  sales_ewm_alpha_095_lag_365  sales_ewm_alpha_095_lag_546  sales_ewm_alpha_095_lag_728  sales_ewm_alpha_095_lag_31  sales_ewm_alpha_095_lag_62  sales_ewm_alpha_095_lag_142  sales_ewm_alpha_095_lag_172  sales_ewm_alpha_095_lag_202  sales_ewm_alpha_095_lag_232  sales_ewm_alpha_095_lag_262  \\\n",
            "0                  NaN                         NaN                         NaN                          NaN                          NaN                          NaN                          NaN                          NaN                          NaN                          NaN                         NaN                         NaN                          NaN                          NaN                          NaN                          NaN                          NaN   \n",
            "1                  NaN                         NaN                         NaN                          NaN                          NaN                          NaN                          NaN                          NaN                          NaN                          NaN                         NaN                         NaN                          NaN                          NaN                          NaN                          NaN                          NaN   \n",
            "2                  NaN                         NaN                         NaN                          NaN                          NaN                          NaN                          NaN                          NaN                          NaN                          NaN                         NaN                         NaN                          NaN                          NaN                          NaN                          NaN                          NaN   \n",
            "3                  NaN                         NaN                         NaN                          NaN                          NaN                          NaN                          NaN                          NaN                          NaN                          NaN                         NaN                         NaN                          NaN                          NaN                          NaN                          NaN                          NaN   \n",
            "4                  NaN                         NaN                         NaN                          NaN                          NaN                          NaN                          NaN                          NaN                          NaN                          NaN                         NaN                         NaN                          NaN                          NaN                          NaN                          NaN                          NaN   \n",
            "\n",
            "   sales_ewm_alpha_095_lag_292  sales_ewm_alpha_095_lag_312  sales_ewm_alpha_095_lag_342  sales_ewm_alpha_09_lag_91  sales_ewm_alpha_09_lag_98  sales_ewm_alpha_09_lag_105  sales_ewm_alpha_09_lag_112  sales_ewm_alpha_09_lag_180  sales_ewm_alpha_09_lag_270  sales_ewm_alpha_09_lag_365  sales_ewm_alpha_09_lag_546  sales_ewm_alpha_09_lag_728  sales_ewm_alpha_09_lag_31  sales_ewm_alpha_09_lag_62  sales_ewm_alpha_09_lag_142  sales_ewm_alpha_09_lag_172  sales_ewm_alpha_09_lag_202  \\\n",
            "0                          NaN                          NaN                          NaN                        NaN                        NaN                         NaN                         NaN                         NaN                         NaN                         NaN                         NaN                         NaN                        NaN                        NaN                         NaN                         NaN                         NaN   \n",
            "1                          NaN                          NaN                          NaN                        NaN                        NaN                         NaN                         NaN                         NaN                         NaN                         NaN                         NaN                         NaN                        NaN                        NaN                         NaN                         NaN                         NaN   \n",
            "2                          NaN                          NaN                          NaN                        NaN                        NaN                         NaN                         NaN                         NaN                         NaN                         NaN                         NaN                         NaN                        NaN                        NaN                         NaN                         NaN                         NaN   \n",
            "3                          NaN                          NaN                          NaN                        NaN                        NaN                         NaN                         NaN                         NaN                         NaN                         NaN                         NaN                         NaN                        NaN                        NaN                         NaN                         NaN                         NaN   \n",
            "4                          NaN                          NaN                          NaN                        NaN                        NaN                         NaN                         NaN                         NaN                         NaN                         NaN                         NaN                         NaN                        NaN                        NaN                         NaN                         NaN                         NaN   \n",
            "\n",
            "   sales_ewm_alpha_09_lag_232  sales_ewm_alpha_09_lag_262  sales_ewm_alpha_09_lag_292  sales_ewm_alpha_09_lag_312  sales_ewm_alpha_09_lag_342  sales_ewm_alpha_08_lag_91  sales_ewm_alpha_08_lag_98  sales_ewm_alpha_08_lag_105  sales_ewm_alpha_08_lag_112  sales_ewm_alpha_08_lag_180  sales_ewm_alpha_08_lag_270  sales_ewm_alpha_08_lag_365  sales_ewm_alpha_08_lag_546  sales_ewm_alpha_08_lag_728  sales_ewm_alpha_08_lag_31  sales_ewm_alpha_08_lag_62  sales_ewm_alpha_08_lag_142  \\\n",
            "0                         NaN                         NaN                         NaN                         NaN                         NaN                        NaN                        NaN                         NaN                         NaN                         NaN                         NaN                         NaN                         NaN                         NaN                        NaN                        NaN                         NaN   \n",
            "1                         NaN                         NaN                         NaN                         NaN                         NaN                        NaN                        NaN                         NaN                         NaN                         NaN                         NaN                         NaN                         NaN                         NaN                        NaN                        NaN                         NaN   \n",
            "2                         NaN                         NaN                         NaN                         NaN                         NaN                        NaN                        NaN                         NaN                         NaN                         NaN                         NaN                         NaN                         NaN                         NaN                        NaN                        NaN                         NaN   \n",
            "3                         NaN                         NaN                         NaN                         NaN                         NaN                        NaN                        NaN                         NaN                         NaN                         NaN                         NaN                         NaN                         NaN                         NaN                        NaN                        NaN                         NaN   \n",
            "4                         NaN                         NaN                         NaN                         NaN                         NaN                        NaN                        NaN                         NaN                         NaN                         NaN                         NaN                         NaN                         NaN                         NaN                        NaN                        NaN                         NaN   \n",
            "\n",
            "   sales_ewm_alpha_08_lag_172  sales_ewm_alpha_08_lag_202  sales_ewm_alpha_08_lag_232  sales_ewm_alpha_08_lag_262  sales_ewm_alpha_08_lag_292  sales_ewm_alpha_08_lag_312  sales_ewm_alpha_08_lag_342  sales_ewm_alpha_07_lag_91  sales_ewm_alpha_07_lag_98  sales_ewm_alpha_07_lag_105  sales_ewm_alpha_07_lag_112  sales_ewm_alpha_07_lag_180  sales_ewm_alpha_07_lag_270  sales_ewm_alpha_07_lag_365  sales_ewm_alpha_07_lag_546  sales_ewm_alpha_07_lag_728  sales_ewm_alpha_07_lag_31  \\\n",
            "0                         NaN                         NaN                         NaN                         NaN                         NaN                         NaN                         NaN                        NaN                        NaN                         NaN                         NaN                         NaN                         NaN                         NaN                         NaN                         NaN                        NaN   \n",
            "1                         NaN                         NaN                         NaN                         NaN                         NaN                         NaN                         NaN                        NaN                        NaN                         NaN                         NaN                         NaN                         NaN                         NaN                         NaN                         NaN                        NaN   \n",
            "2                         NaN                         NaN                         NaN                         NaN                         NaN                         NaN                         NaN                        NaN                        NaN                         NaN                         NaN                         NaN                         NaN                         NaN                         NaN                         NaN                        NaN   \n",
            "3                         NaN                         NaN                         NaN                         NaN                         NaN                         NaN                         NaN                        NaN                        NaN                         NaN                         NaN                         NaN                         NaN                         NaN                         NaN                         NaN                        NaN   \n",
            "4                         NaN                         NaN                         NaN                         NaN                         NaN                         NaN                         NaN                        NaN                        NaN                         NaN                         NaN                         NaN                         NaN                         NaN                         NaN                         NaN                        NaN   \n",
            "\n",
            "   sales_ewm_alpha_07_lag_62  sales_ewm_alpha_07_lag_142  sales_ewm_alpha_07_lag_172  sales_ewm_alpha_07_lag_202  sales_ewm_alpha_07_lag_232  sales_ewm_alpha_07_lag_262  sales_ewm_alpha_07_lag_292  sales_ewm_alpha_07_lag_312  sales_ewm_alpha_07_lag_342  sales_ewm_alpha_05_lag_91  sales_ewm_alpha_05_lag_98  sales_ewm_alpha_05_lag_105  sales_ewm_alpha_05_lag_112  sales_ewm_alpha_05_lag_180  sales_ewm_alpha_05_lag_270  sales_ewm_alpha_05_lag_365  sales_ewm_alpha_05_lag_546  \\\n",
            "0                        NaN                         NaN                         NaN                         NaN                         NaN                         NaN                         NaN                         NaN                         NaN                        NaN                        NaN                         NaN                         NaN                         NaN                         NaN                         NaN                         NaN   \n",
            "1                        NaN                         NaN                         NaN                         NaN                         NaN                         NaN                         NaN                         NaN                         NaN                        NaN                        NaN                         NaN                         NaN                         NaN                         NaN                         NaN                         NaN   \n",
            "2                        NaN                         NaN                         NaN                         NaN                         NaN                         NaN                         NaN                         NaN                         NaN                        NaN                        NaN                         NaN                         NaN                         NaN                         NaN                         NaN                         NaN   \n",
            "3                        NaN                         NaN                         NaN                         NaN                         NaN                         NaN                         NaN                         NaN                         NaN                        NaN                        NaN                         NaN                         NaN                         NaN                         NaN                         NaN                         NaN   \n",
            "4                        NaN                         NaN                         NaN                         NaN                         NaN                         NaN                         NaN                         NaN                         NaN                        NaN                        NaN                         NaN                         NaN                         NaN                         NaN                         NaN                         NaN   \n",
            "\n",
            "   sales_ewm_alpha_05_lag_728  sales_ewm_alpha_05_lag_31  sales_ewm_alpha_05_lag_62  sales_ewm_alpha_05_lag_142  sales_ewm_alpha_05_lag_172  sales_ewm_alpha_05_lag_202  sales_ewm_alpha_05_lag_232  sales_ewm_alpha_05_lag_262  sales_ewm_alpha_05_lag_292  sales_ewm_alpha_05_lag_312  sales_ewm_alpha_05_lag_342  store_1  store_2  store_3  store_4  store_5  store_6  store_7  store_8  store_9  store_10  item_1  item_2  item_3  item_4  item_5  item_6  item_7  item_8  item_9  item_10  item_11  item_12  \\\n",
            "0                         NaN                        NaN                        NaN                         NaN                         NaN                         NaN                         NaN                         NaN                         NaN                         NaN                         NaN        1        0        0        0        0        0        0        0        0         0       1       0       0       0       0       0       0       0       0        0        0        0   \n",
            "1                         NaN                        NaN                        NaN                         NaN                         NaN                         NaN                         NaN                         NaN                         NaN                         NaN                         NaN        1        0        0        0        0        0        0        0        0         0       1       0       0       0       0       0       0       0       0        0        0        0   \n",
            "2                         NaN                        NaN                        NaN                         NaN                         NaN                         NaN                         NaN                         NaN                         NaN                         NaN                         NaN        1        0        0        0        0        0        0        0        0         0       1       0       0       0       0       0       0       0       0        0        0        0   \n",
            "3                         NaN                        NaN                        NaN                         NaN                         NaN                         NaN                         NaN                         NaN                         NaN                         NaN                         NaN        1        0        0        0        0        0        0        0        0         0       1       0       0       0       0       0       0       0       0        0        0        0   \n",
            "4                         NaN                        NaN                        NaN                         NaN                         NaN                         NaN                         NaN                         NaN                         NaN                         NaN                         NaN        1        0        0        0        0        0        0        0        0         0       1       0       0       0       0       0       0       0       0        0        0        0   \n",
            "\n",
            "   item_13  item_14  item_15  item_16  item_17  item_18  item_19  item_20  item_21  item_22  item_23  item_24  item_25  item_26  item_27  item_28  item_29  item_30  item_31  item_32  item_33  item_34  item_35  item_36  item_37  item_38  item_39  item_40  item_41  item_42  item_43  item_44  item_45  item_46  item_47  item_48  item_49  item_50  day_of_week_0  day_of_week_1  day_of_week_2  day_of_week_3  day_of_week_4  day_of_week_5  day_of_week_6  month_1  month_2  month_3  month_4  month_5  \\\n",
            "0        0        0        0        0        0        0        0        0        0        0        0        0        0        0        0        0        0        0        0        0        0        0        0        0        0        0        0        0        0        0        0        0        0        0        0        0        0        0              0              1              0              0              0              0              0        1        0        0        0        0   \n",
            "1        0        0        0        0        0        0        0        0        0        0        0        0        0        0        0        0        0        0        0        0        0        0        0        0        0        0        0        0        0        0        0        0        0        0        0        0        0        0              0              0              1              0              0              0              0        1        0        0        0        0   \n",
            "2        0        0        0        0        0        0        0        0        0        0        0        0        0        0        0        0        0        0        0        0        0        0        0        0        0        0        0        0        0        0        0        0        0        0        0        0        0        0              0              0              0              1              0              0              0        1        0        0        0        0   \n",
            "3        0        0        0        0        0        0        0        0        0        0        0        0        0        0        0        0        0        0        0        0        0        0        0        0        0        0        0        0        0        0        0        0        0        0        0        0        0        0              0              0              0              0              1              0              0        1        0        0        0        0   \n",
            "4        0        0        0        0        0        0        0        0        0        0        0        0        0        0        0        0        0        0        0        0        0        0        0        0        0        0        0        0        0        0        0        0        0        0        0        0        0        0              0              0              0              0              0              1              0        1        0        0        0        0   \n",
            "\n",
            "   month_6  month_7  month_8  month_9  month_10  month_11  month_12  \n",
            "0        0        0        0        0         0         0         0  \n",
            "1        0        0        0        0         0         0         0  \n",
            "2        0        0        0        0         0         0         0  \n",
            "3        0        0        0        0         0         0         0  \n",
            "4        0        0        0        0         0         0         0  \n",
            "##################### Tail #####################\n",
            "            date  sales       id  day_of_month  day_of_year  week_of_year  year  is_wknd  is_month_start  is_month_end  sales_lag_91  sales_lag_98  sales_lag_105  sales_lag_112  sales_lag_119  sales_lag_126  sales_lag_182  sales_lag_364  sales_lag_546  sales_lag_728  sales_lag_31  sales_lag_62  sales_lag_142  sales_lag_172  sales_lag_202  sales_lag_232  sales_lag_262  sales_lag_292  sales_lag_312  sales_lag_342  sales_roll_mean_365  sales_roll_mean_546  sales_roll_mean_180  \\\n",
            "44995 2018-03-27    NaN  44995.0            27           86            13  2018        0               0             0           NaN           NaN            NaN            NaN            NaN            NaN            NaN            NaN            NaN            NaN           NaN           NaN            NaN            NaN            NaN            NaN            NaN            NaN            NaN            NaN                  NaN                  NaN                  NaN   \n",
            "44996 2018-03-28    NaN  44996.0            28           87            13  2018        0               0             0           NaN           NaN            NaN            NaN            NaN            NaN            NaN            NaN            NaN            NaN           NaN           NaN            NaN            NaN            NaN            NaN            NaN            NaN            NaN            NaN                  NaN                  NaN                  NaN   \n",
            "44997 2018-03-29    NaN  44997.0            29           88            13  2018        0               0             0           NaN           NaN            NaN            NaN            NaN            NaN            NaN            NaN            NaN            NaN           NaN           NaN            NaN            NaN            NaN            NaN            NaN            NaN            NaN            NaN                  NaN                  NaN                  NaN   \n",
            "44998 2018-03-30    NaN  44998.0            30           89            13  2018        1               0             0           NaN           NaN            NaN            NaN            NaN            NaN            NaN            NaN            NaN            NaN           NaN           NaN            NaN            NaN            NaN            NaN            NaN            NaN            NaN            NaN                  NaN                  NaN                  NaN   \n",
            "44999 2018-03-31    NaN  44999.0            31           90            13  2018        1               0             1           NaN           NaN            NaN            NaN            NaN            NaN            NaN            NaN            NaN            NaN           NaN           NaN            NaN            NaN            NaN            NaN            NaN            NaN            NaN            NaN                  NaN                  NaN                  NaN   \n",
            "\n",
            "       sales_roll_mean_728  sales_roll_mean_910  sales_ewm_alpha_095_lag_91  sales_ewm_alpha_095_lag_98  sales_ewm_alpha_095_lag_105  sales_ewm_alpha_095_lag_112  sales_ewm_alpha_095_lag_180  sales_ewm_alpha_095_lag_270  sales_ewm_alpha_095_lag_365  sales_ewm_alpha_095_lag_546  sales_ewm_alpha_095_lag_728  sales_ewm_alpha_095_lag_31  sales_ewm_alpha_095_lag_62  sales_ewm_alpha_095_lag_142  sales_ewm_alpha_095_lag_172  sales_ewm_alpha_095_lag_202  sales_ewm_alpha_095_lag_232  \\\n",
            "44995                  NaN                  NaN                         NaN                         NaN                          NaN                          NaN                          NaN                          NaN                          NaN                          NaN                          NaN                         NaN                         NaN                          NaN                          NaN                          NaN                          NaN   \n",
            "44996                  NaN                  NaN                         NaN                         NaN                          NaN                          NaN                          NaN                          NaN                          NaN                          NaN                          NaN                         NaN                         NaN                          NaN                          NaN                          NaN                          NaN   \n",
            "44997                  NaN                  NaN                         NaN                         NaN                          NaN                          NaN                          NaN                          NaN                          NaN                          NaN                          NaN                         NaN                         NaN                          NaN                          NaN                          NaN                          NaN   \n",
            "44998                  NaN                  NaN                         NaN                         NaN                          NaN                          NaN                          NaN                          NaN                          NaN                          NaN                          NaN                         NaN                         NaN                          NaN                          NaN                          NaN                          NaN   \n",
            "44999                  NaN                  NaN                         NaN                         NaN                          NaN                          NaN                          NaN                          NaN                          NaN                          NaN                          NaN                         NaN                         NaN                          NaN                          NaN                          NaN                          NaN   \n",
            "\n",
            "       sales_ewm_alpha_095_lag_262  sales_ewm_alpha_095_lag_292  sales_ewm_alpha_095_lag_312  sales_ewm_alpha_095_lag_342  sales_ewm_alpha_09_lag_91  sales_ewm_alpha_09_lag_98  sales_ewm_alpha_09_lag_105  sales_ewm_alpha_09_lag_112  sales_ewm_alpha_09_lag_180  sales_ewm_alpha_09_lag_270  sales_ewm_alpha_09_lag_365  sales_ewm_alpha_09_lag_546  sales_ewm_alpha_09_lag_728  sales_ewm_alpha_09_lag_31  sales_ewm_alpha_09_lag_62  sales_ewm_alpha_09_lag_142  sales_ewm_alpha_09_lag_172  \\\n",
            "44995                          NaN                          NaN                          NaN                          NaN                        NaN                        NaN                         NaN                         NaN                         NaN                         NaN                         NaN                         NaN                         NaN                        NaN                        NaN                         NaN                         NaN   \n",
            "44996                          NaN                          NaN                          NaN                          NaN                        NaN                        NaN                         NaN                         NaN                         NaN                         NaN                         NaN                         NaN                         NaN                        NaN                        NaN                         NaN                         NaN   \n",
            "44997                          NaN                          NaN                          NaN                          NaN                        NaN                        NaN                         NaN                         NaN                         NaN                         NaN                         NaN                         NaN                         NaN                        NaN                        NaN                         NaN                         NaN   \n",
            "44998                          NaN                          NaN                          NaN                          NaN                        NaN                        NaN                         NaN                         NaN                         NaN                         NaN                         NaN                         NaN                         NaN                        NaN                        NaN                         NaN                         NaN   \n",
            "44999                          NaN                          NaN                          NaN                          NaN                        NaN                        NaN                         NaN                         NaN                         NaN                         NaN                         NaN                         NaN                         NaN                        NaN                        NaN                         NaN                         NaN   \n",
            "\n",
            "       sales_ewm_alpha_09_lag_202  sales_ewm_alpha_09_lag_232  sales_ewm_alpha_09_lag_262  sales_ewm_alpha_09_lag_292  sales_ewm_alpha_09_lag_312  sales_ewm_alpha_09_lag_342  sales_ewm_alpha_08_lag_91  sales_ewm_alpha_08_lag_98  sales_ewm_alpha_08_lag_105  sales_ewm_alpha_08_lag_112  sales_ewm_alpha_08_lag_180  sales_ewm_alpha_08_lag_270  sales_ewm_alpha_08_lag_365  sales_ewm_alpha_08_lag_546  sales_ewm_alpha_08_lag_728  sales_ewm_alpha_08_lag_31  sales_ewm_alpha_08_lag_62  \\\n",
            "44995                         NaN                         NaN                         NaN                         NaN                         NaN                         NaN                        NaN                        NaN                         NaN                         NaN                         NaN                         NaN                         NaN                         NaN                         NaN                        NaN                        NaN   \n",
            "44996                         NaN                         NaN                         NaN                         NaN                         NaN                         NaN                        NaN                        NaN                         NaN                         NaN                         NaN                         NaN                         NaN                         NaN                         NaN                        NaN                        NaN   \n",
            "44997                         NaN                         NaN                         NaN                         NaN                         NaN                         NaN                        NaN                        NaN                         NaN                         NaN                         NaN                         NaN                         NaN                         NaN                         NaN                        NaN                        NaN   \n",
            "44998                         NaN                         NaN                         NaN                         NaN                         NaN                         NaN                        NaN                        NaN                         NaN                         NaN                         NaN                         NaN                         NaN                         NaN                         NaN                        NaN                        NaN   \n",
            "44999                         NaN                         NaN                         NaN                         NaN                         NaN                         NaN                        NaN                        NaN                         NaN                         NaN                         NaN                         NaN                         NaN                         NaN                         NaN                        NaN                        NaN   \n",
            "\n",
            "       sales_ewm_alpha_08_lag_142  sales_ewm_alpha_08_lag_172  sales_ewm_alpha_08_lag_202  sales_ewm_alpha_08_lag_232  sales_ewm_alpha_08_lag_262  sales_ewm_alpha_08_lag_292  sales_ewm_alpha_08_lag_312  sales_ewm_alpha_08_lag_342  sales_ewm_alpha_07_lag_91  sales_ewm_alpha_07_lag_98  sales_ewm_alpha_07_lag_105  sales_ewm_alpha_07_lag_112  sales_ewm_alpha_07_lag_180  sales_ewm_alpha_07_lag_270  sales_ewm_alpha_07_lag_365  sales_ewm_alpha_07_lag_546  sales_ewm_alpha_07_lag_728  \\\n",
            "44995                         NaN                         NaN                         NaN                         NaN                         NaN                         NaN                         NaN                         NaN                        NaN                        NaN                         NaN                         NaN                         NaN                         NaN                         NaN                         NaN                         NaN   \n",
            "44996                         NaN                         NaN                         NaN                         NaN                         NaN                         NaN                         NaN                         NaN                        NaN                        NaN                         NaN                         NaN                         NaN                         NaN                         NaN                         NaN                         NaN   \n",
            "44997                         NaN                         NaN                         NaN                         NaN                         NaN                         NaN                         NaN                         NaN                        NaN                        NaN                         NaN                         NaN                         NaN                         NaN                         NaN                         NaN                         NaN   \n",
            "44998                         NaN                         NaN                         NaN                         NaN                         NaN                         NaN                         NaN                         NaN                        NaN                        NaN                         NaN                         NaN                         NaN                         NaN                         NaN                         NaN                         NaN   \n",
            "44999                         NaN                         NaN                         NaN                         NaN                         NaN                         NaN                         NaN                         NaN                        NaN                        NaN                         NaN                         NaN                         NaN                         NaN                         NaN                         NaN                         NaN   \n",
            "\n",
            "       sales_ewm_alpha_07_lag_31  sales_ewm_alpha_07_lag_62  sales_ewm_alpha_07_lag_142  sales_ewm_alpha_07_lag_172  sales_ewm_alpha_07_lag_202  sales_ewm_alpha_07_lag_232  sales_ewm_alpha_07_lag_262  sales_ewm_alpha_07_lag_292  sales_ewm_alpha_07_lag_312  sales_ewm_alpha_07_lag_342  sales_ewm_alpha_05_lag_91  sales_ewm_alpha_05_lag_98  sales_ewm_alpha_05_lag_105  sales_ewm_alpha_05_lag_112  sales_ewm_alpha_05_lag_180  sales_ewm_alpha_05_lag_270  sales_ewm_alpha_05_lag_365  \\\n",
            "44995                        NaN                        NaN                         NaN                         NaN                         NaN                         NaN                         NaN                         NaN                         NaN                         NaN                        NaN                        NaN                         NaN                         NaN                         NaN                         NaN                         NaN   \n",
            "44996                        NaN                        NaN                         NaN                         NaN                         NaN                         NaN                         NaN                         NaN                         NaN                         NaN                        NaN                        NaN                         NaN                         NaN                         NaN                         NaN                         NaN   \n",
            "44997                        NaN                        NaN                         NaN                         NaN                         NaN                         NaN                         NaN                         NaN                         NaN                         NaN                        NaN                        NaN                         NaN                         NaN                         NaN                         NaN                         NaN   \n",
            "44998                        NaN                        NaN                         NaN                         NaN                         NaN                         NaN                         NaN                         NaN                         NaN                         NaN                        NaN                        NaN                         NaN                         NaN                         NaN                         NaN                         NaN   \n",
            "44999                        NaN                        NaN                         NaN                         NaN                         NaN                         NaN                         NaN                         NaN                         NaN                         NaN                        NaN                        NaN                         NaN                         NaN                         NaN                         NaN                         NaN   \n",
            "\n",
            "       sales_ewm_alpha_05_lag_546  sales_ewm_alpha_05_lag_728  sales_ewm_alpha_05_lag_31  sales_ewm_alpha_05_lag_62  sales_ewm_alpha_05_lag_142  sales_ewm_alpha_05_lag_172  sales_ewm_alpha_05_lag_202  sales_ewm_alpha_05_lag_232  sales_ewm_alpha_05_lag_262  sales_ewm_alpha_05_lag_292  sales_ewm_alpha_05_lag_312  sales_ewm_alpha_05_lag_342  store_1  store_2  store_3  store_4  store_5  store_6  store_7  store_8  store_9  store_10  item_1  item_2  item_3  item_4  item_5  item_6  item_7  item_8  \\\n",
            "44995                         NaN                         NaN                        NaN                        NaN                         NaN                         NaN                         NaN                         NaN                         NaN                         NaN                         NaN                         NaN        0        0        0        0        0        0        0        0        0         1       0       0       0       0       0       0       0       0   \n",
            "44996                         NaN                         NaN                        NaN                        NaN                         NaN                         NaN                         NaN                         NaN                         NaN                         NaN                         NaN                         NaN        0        0        0        0        0        0        0        0        0         1       0       0       0       0       0       0       0       0   \n",
            "44997                         NaN                         NaN                        NaN                        NaN                         NaN                         NaN                         NaN                         NaN                         NaN                         NaN                         NaN                         NaN        0        0        0        0        0        0        0        0        0         1       0       0       0       0       0       0       0       0   \n",
            "44998                         NaN                         NaN                        NaN                        NaN                         NaN                         NaN                         NaN                         NaN                         NaN                         NaN                         NaN                         NaN        0        0        0        0        0        0        0        0        0         1       0       0       0       0       0       0       0       0   \n",
            "44999                         NaN                         NaN                        NaN                        NaN                         NaN                         NaN                         NaN                         NaN                         NaN                         NaN                         NaN                         NaN        0        0        0        0        0        0        0        0        0         1       0       0       0       0       0       0       0       0   \n",
            "\n",
            "       item_9  item_10  item_11  item_12  item_13  item_14  item_15  item_16  item_17  item_18  item_19  item_20  item_21  item_22  item_23  item_24  item_25  item_26  item_27  item_28  item_29  item_30  item_31  item_32  item_33  item_34  item_35  item_36  item_37  item_38  item_39  item_40  item_41  item_42  item_43  item_44  item_45  item_46  item_47  item_48  item_49  item_50  day_of_week_0  day_of_week_1  day_of_week_2  day_of_week_3  day_of_week_4  day_of_week_5  day_of_week_6  month_1  \\\n",
            "44995       0        0        0        0        0        0        0        0        0        0        0        0        0        0        0        0        0        0        0        0        0        0        0        0        0        0        0        0        0        0        0        0        0        0        0        0        0        0        0        0        0        1              0              1              0              0              0              0              0        0   \n",
            "44996       0        0        0        0        0        0        0        0        0        0        0        0        0        0        0        0        0        0        0        0        0        0        0        0        0        0        0        0        0        0        0        0        0        0        0        0        0        0        0        0        0        1              0              0              1              0              0              0              0        0   \n",
            "44997       0        0        0        0        0        0        0        0        0        0        0        0        0        0        0        0        0        0        0        0        0        0        0        0        0        0        0        0        0        0        0        0        0        0        0        0        0        0        0        0        0        1              0              0              0              1              0              0              0        0   \n",
            "44998       0        0        0        0        0        0        0        0        0        0        0        0        0        0        0        0        0        0        0        0        0        0        0        0        0        0        0        0        0        0        0        0        0        0        0        0        0        0        0        0        0        1              0              0              0              0              1              0              0        0   \n",
            "44999       0        0        0        0        0        0        0        0        0        0        0        0        0        0        0        0        0        0        0        0        0        0        0        0        0        0        0        0        0        0        0        0        0        0        0        0        0        0        0        0        0        1              0              0              0              0              0              1              0        0   \n",
            "\n",
            "       month_2  month_3  month_4  month_5  month_6  month_7  month_8  month_9  month_10  month_11  month_12  \n",
            "44995        0        1        0        0        0        0        0        0         0         0         0  \n",
            "44996        0        1        0        0        0        0        0        0         0         0         0  \n",
            "44997        0        1        0        0        0        0        0        0         0         0         0  \n",
            "44998        0        1        0        0        0        0        0        0         0         0         0  \n",
            "44999        0        1        0        0        0        0        0        0         0         0         0  \n",
            "##################### NA #####################\n",
            "date                 0\n",
            "sales            45001\n",
            "id              227618\n",
            "day_of_month         0\n",
            "day_of_year          0\n",
            "                 ...  \n",
            "month_8              0\n",
            "month_9              0\n",
            "month_10             0\n",
            "month_11             0\n",
            "month_12             0\n",
            "Length: 209, dtype: int64\n",
            "##################### Quantiles #####################\n",
            "              0.00        0.05          0.50          0.95          0.99          1.00\n",
            "sales          0.0     2.70805      3.931826      4.663439      4.867534      5.351858\n",
            "id             0.0  2249.95000  22499.500000  42749.050000  44549.010000  44999.000000\n",
            "day_of_month   1.0     2.00000     16.000000     29.000000     31.000000     31.000000\n",
            "day_of_year    1.0    13.00000    147.000000    344.000000    361.000000    366.000000\n",
            "week_of_year   1.0     2.00000     21.000000     50.000000     52.000000     53.000000\n",
            "...            ...         ...           ...           ...           ...           ...\n",
            "month_8        0.0     0.00000      0.000000      1.000000      1.000000      1.000000\n",
            "month_9        0.0     0.00000      0.000000      1.000000      1.000000      1.000000\n",
            "month_10       0.0     0.00000      0.000000      1.000000      1.000000      1.000000\n",
            "month_11       0.0     0.00000      0.000000      1.000000      1.000000      1.000000\n",
            "month_12       0.0     0.00000      0.000000      1.000000      1.000000      1.000000\n",
            "\n",
            "[208 rows x 6 columns]\n"
          ]
        }
      ]
    },
    {
      "cell_type": "markdown",
      "source": [
        "\n",
        "# Model\n",
        "\n",
        "\n"
      ],
      "metadata": {
        "id": "HLgtFGlAxw1S"
      }
    },
    {
      "cell_type": "markdown",
      "source": [
        "########################\n",
        "# Custom Cost Function\n",
        "########################\n",
        "\n",
        "# MAE: mean absolute error\n",
        "# MAPE: mean absolute percentage error\n",
        "# SMAPE: Symmetric mean absolute percentage error (adjusted MAPE)\n",
        "\n",
        "# SMAPE (Symmetric Mean Absolute Error) or MAPE allows us to evaluate the errors as a percentage. Returns a metric from 0-100.\n",
        "# The expm1() function reverses the log transformation."
      ],
      "metadata": {
        "id": "SoDdyU3Sx--F"
      }
    },
    {
      "cell_type": "code",
      "source": [
        "def smape(preds, target):\n",
        "    n = len(preds)\n",
        "    masked_arr = ~((preds == 0) & (target == 0))\n",
        "    preds, target = preds[masked_arr], target[masked_arr]\n",
        "    num = np.abs(preds - target)\n",
        "    denom = np.abs(preds) + np.abs(target)\n",
        "    smape_val = (200 * np.sum(num / denom)) / n\n",
        "    return smape_val\n",
        "\n",
        "def lgbm_smape(preds, train_data):\n",
        "    labels = train_data.get_label()\n",
        "    smape_val = smape(np.expm1(preds), np.expm1(labels))\n",
        "    return 'SMAPE', smape_val, False"
      ],
      "metadata": {
        "execution": {
          "iopub.status.busy": "2022-02-16T15:22:36.456404Z",
          "iopub.execute_input": "2022-02-16T15:22:36.456800Z",
          "iopub.status.idle": "2022-02-16T15:22:36.464660Z",
          "shell.execute_reply.started": "2022-02-16T15:22:36.456754Z",
          "shell.execute_reply": "2022-02-16T15:22:36.463785Z"
        },
        "trusted": true,
        "id": "qiIIX-jko23w"
      },
      "execution_count": 29,
      "outputs": []
    },
    {
      "cell_type": "markdown",
      "source": [
        "# Time-Based Validation Sets"
      ],
      "metadata": {
        "id": "t6YeNywByYSn"
      }
    },
    {
      "cell_type": "code",
      "source": [
        "# Train set until the beginning of 2017 ( end of 2016).\n",
        "train = df.loc[(df[\"date\"] < \"2017-01-01\"), :]\n",
        "\n",
        "val = df.loc[(df[\"date\"] >= \"2017-01-01\") & (df[\"date\"] < \"2017-04-01\"), :]\n",
        "\n",
        "cols = [col for col in train.columns if col not in ['date', 'id', \"sales\", \"year\"]]\n",
        "\n",
        "Y_train = train['sales']\n",
        "X_train = train[cols]\n",
        "\n",
        "Y_val = val['sales']\n",
        "X_val = val[cols]\n",
        "\n",
        "Y_train.shape, X_train.shape, Y_val.shape, X_val.shape"
      ],
      "metadata": {
        "execution": {
          "iopub.status.busy": "2022-02-16T15:22:36.466072Z",
          "iopub.execute_input": "2022-02-16T15:22:36.466694Z",
          "iopub.status.idle": "2022-02-16T15:22:38.151249Z",
          "shell.execute_reply.started": "2022-02-16T15:22:36.466658Z",
          "shell.execute_reply": "2022-02-16T15:22:38.150427Z"
        },
        "trusted": true,
        "colab": {
          "base_uri": "https://localhost:8080/"
        },
        "id": "7Ce8yFwzo23x",
        "outputId": "724274ae-b324-4ed9-9683-98f7b33f66f6"
      },
      "execution_count": 31,
      "outputs": [
        {
          "output_type": "execute_result",
          "data": {
            "text/plain": [
              "((182358,), (182358, 205), (11160,), (11160, 205))"
            ]
          },
          "metadata": {},
          "execution_count": 31
        }
      ]
    },
    {
      "cell_type": "markdown",
      "source": [
        "# At this point, we cannot separate the data set with train test split, because this function pulls random values\n",
        "\n",
        "# from the data, thus distorting the context and structure of the time series. For this, we separate the dataset ourselves."
      ],
      "metadata": {
        "id": "FV8AITqHzAhN"
      }
    },
    {
      "cell_type": "code",
      "source": [
        "# LightGBM parameters\n",
        "lgb_params = {'metric': {'mae'},\n",
        "              'num_leaves': 10,\n",
        "              'learning_rate': 0.02,\n",
        "              'feature_fraction': 0.8,\n",
        "              'max_depth': 5,\n",
        "              'verbose': 0,\n",
        "              'num_boost_round': 1000,\n",
        "              'early_stopping_rounds': 200,\n",
        "              'nthread': -1}"
      ],
      "metadata": {
        "execution": {
          "iopub.status.busy": "2022-02-16T15:22:38.152586Z",
          "iopub.execute_input": "2022-02-16T15:22:38.153044Z",
          "iopub.status.idle": "2022-02-16T15:22:38.158600Z",
          "shell.execute_reply.started": "2022-02-16T15:22:38.152996Z",
          "shell.execute_reply": "2022-02-16T15:22:38.157674Z"
        },
        "trusted": true,
        "id": "c5imP90Jo23x"
      },
      "execution_count": 32,
      "outputs": []
    },
    {
      "cell_type": "code",
      "source": [
        "lgbtrain = lgb.Dataset(data=X_train, label=Y_train, feature_name=cols)\n",
        "lgbval = lgb.Dataset(data=X_val, label=Y_val, reference=lgbtrain, feature_name=cols)\n",
        "\n",
        "model = lgb.train(lgb_params, lgbtrain,\n",
        "                  valid_sets=[lgbtrain, lgbval],\n",
        "                  num_boost_round=lgb_params['num_boost_round'],\n",
        "                  early_stopping_rounds=lgb_params['early_stopping_rounds'],\n",
        "                  feval=lgbm_smape,\n",
        "                  verbose_eval=100)\n",
        "\n",
        "y_pred_val = model.predict(X_val, num_iteration=model.best_iteration)\n",
        "\n",
        "smape(np.expm1(y_pred_val), np.expm1(Y_val))\n"
      ],
      "metadata": {
        "execution": {
          "iopub.status.busy": "2022-02-16T15:22:38.159969Z",
          "iopub.execute_input": "2022-02-16T15:22:38.160376Z",
          "iopub.status.idle": "2022-02-16T15:25:48.692848Z",
          "shell.execute_reply.started": "2022-02-16T15:22:38.160303Z",
          "shell.execute_reply": "2022-02-16T15:25:48.692122Z"
        },
        "trusted": true,
        "colab": {
          "base_uri": "https://localhost:8080/"
        },
        "id": "FZYvTZg1o23y",
        "outputId": "2ad7f47f-d0c7-4f23-dcaa-833295605a8e"
      },
      "execution_count": 33,
      "outputs": [
        {
          "output_type": "stream",
          "name": "stdout",
          "text": [
            "Training until validation scores don't improve for 200 rounds.\n",
            "[100]\ttraining's l1: nan\ttraining's SMAPE: 199.998\tvalid_1's l1: 3.70025\tvalid_1's SMAPE: 200\n",
            "[200]\ttraining's l1: nan\ttraining's SMAPE: 199.998\tvalid_1's l1: 3.70025\tvalid_1's SMAPE: 200\n",
            "Early stopping, best iteration is:\n",
            "[1]\ttraining's l1: nan\ttraining's SMAPE: 199.998\tvalid_1's l1: 3.70025\tvalid_1's SMAPE: 200\n"
          ]
        },
        {
          "output_type": "execute_result",
          "data": {
            "text/plain": [
              "200.0"
            ]
          },
          "metadata": {},
          "execution_count": 33
        }
      ]
    },
    {
      "cell_type": "markdown",
      "source": [
        "# Normally we used lightgbm from within sklearn. Here we used Microsoft's own lightgbm, but for this the model requires\n",
        "# its own data type. With lgb.Dataset, we can convert this data to the desired data type."
      ],
      "metadata": {
        "id": "UlRNc5UizTjF"
      }
    },
    {
      "cell_type": "markdown",
      "source": [
        "# Final Model"
      ],
      "metadata": {
        "id": "ndk0ATDZzZnA"
      }
    },
    {
      "cell_type": "code",
      "source": [
        "def plot_lgb_importances(model, plot=False, num=10):\n",
        "\n",
        "    gain = model.feature_importance('gain')\n",
        "    feat_imp = pd.DataFrame({'feature': model.feature_name(),\n",
        "                             'split': model.feature_importance('split'),\n",
        "                             'gain': 100 * gain / gain.sum()}).sort_values('gain', ascending=False)\n",
        "    if plot:\n",
        "        plt.figure(figsize=(10, 10))\n",
        "        sns.set(font_scale=1)\n",
        "        sns.barplot(x=\"gain\", y=\"feature\", data=feat_imp[0:25])\n",
        "        plt.title('feature')\n",
        "        plt.tight_layout()\n",
        "        plt.show()\n",
        "    else:\n",
        "        print(feat_imp.head(num))\n"
      ],
      "metadata": {
        "execution": {
          "iopub.status.busy": "2022-02-16T15:25:48.696477Z",
          "iopub.execute_input": "2022-02-16T15:25:48.698124Z",
          "iopub.status.idle": "2022-02-16T15:25:48.705934Z",
          "shell.execute_reply.started": "2022-02-16T15:25:48.698075Z",
          "shell.execute_reply": "2022-02-16T15:25:48.705303Z"
        },
        "trusted": true,
        "id": "hr0MUjzWo23y"
      },
      "execution_count": 34,
      "outputs": []
    },
    {
      "cell_type": "code",
      "source": [
        "plot_lgb_importances(model, num=30)\n",
        "plot_lgb_importances(model, num=30, plot=True)\n",
        "\n",
        "lgb.plot_importance(model, max_num_features=20, figsize=(10, 10), importance_type=\"gain\")\n",
        "plt.show()"
      ],
      "metadata": {
        "execution": {
          "iopub.status.busy": "2022-02-16T15:25:48.707096Z",
          "iopub.execute_input": "2022-02-16T15:25:48.707980Z",
          "iopub.status.idle": "2022-02-16T15:25:49.711290Z",
          "shell.execute_reply.started": "2022-02-16T15:25:48.707935Z",
          "shell.execute_reply": "2022-02-16T15:25:49.710417Z"
        },
        "trusted": true,
        "colab": {
          "base_uri": "https://localhost:8080/",
          "height": 1000
        },
        "id": "pw00x0D2o23y",
        "outputId": "4df0ca5f-26cd-4c67-ecf5-94841a8c93e7"
      },
      "execution_count": 35,
      "outputs": [
        {
          "output_type": "stream",
          "name": "stdout",
          "text": [
            "                        feature  split       gain\n",
            "78    sales_ewm_alpha_08_lag_31      3  58.603884\n",
            "59    sales_ewm_alpha_09_lag_31      2  39.093450\n",
            "0                  day_of_month      4   2.302666\n",
            "107   sales_ewm_alpha_05_lag_91      0   0.000000\n",
            "108   sales_ewm_alpha_05_lag_98      0   0.000000\n",
            "132                     store_7      0   0.000000\n",
            "133                     store_8      0   0.000000\n",
            "134                     store_9      0   0.000000\n",
            "135                    store_10      0   0.000000\n",
            "136                      item_1      0   0.000000\n",
            "137                      item_2      0   0.000000\n",
            "138                      item_3      0   0.000000\n",
            "139                      item_4      0   0.000000\n",
            "140                      item_5      0   0.000000\n",
            "141                      item_6      0   0.000000\n",
            "142                      item_7      0   0.000000\n",
            "143                      item_8      0   0.000000\n",
            "144                      item_9      0   0.000000\n",
            "145                     item_10      0   0.000000\n",
            "146                     item_11      0   0.000000\n",
            "106  sales_ewm_alpha_07_lag_342      0   0.000000\n",
            "147                     item_12      0   0.000000\n",
            "148                     item_13      0   0.000000\n",
            "149                     item_14      0   0.000000\n",
            "150                     item_15      0   0.000000\n",
            "151                     item_16      0   0.000000\n",
            "131                     store_6      0   0.000000\n",
            "130                     store_5      0   0.000000\n",
            "129                     store_4      0   0.000000\n",
            "118  sales_ewm_alpha_05_lag_142      0   0.000000\n"
          ]
        },
        {
          "output_type": "display_data",
          "data": {
            "image/png": "[encoded data removed]",
            "text/plain": [
              "<Figure size 720x720 with 1 Axes>"
            ]
          },
          "metadata": {
            "needs_background": "light"
          }
        },
        {
          "output_type": "display_data",
          "data": {
            "image/png": "[encoded data removed]",
            "text/plain": [
              "<Figure size 720x720 with 1 Axes>"
            ]
          },
          "metadata": {}
        }
      ]
    },
    {
      "cell_type": "code",
      "source": [
        "lgb_params = {'num_leaves':10,\n",
        "              'learning_rate': 0.02,\n",
        "              'feature_fraction': 0.8,\n",
        "              'max_depth': 5,\n",
        "              'verbose': 0,\n",
        "              'num_boost_round': 1500,\n",
        "              'early_stopping_rounds': 200,\n",
        "              'nthread': -1}\n"
      ],
      "metadata": {
        "id": "u3gOlrzI6zzM"
      },
      "execution_count": 44,
      "outputs": []
    },
    {
      "cell_type": "code",
      "source": [
        "lgbtrain = lgb.Dataset(data = X_train, label = Y_train, feature_name=cols)\n",
        "lgbval = lgb.Dataset(data = X_val, label = Y_val, reference=lgbtrain, feature_name=cols)\n",
        "\n",
        "model = lgb.train(lgb_params, lgbtrain,\n",
        "                  valid_sets = [lgbtrain, lgbval],\n",
        "                  num_boost_round = lgb_params['num_boost_round'],\n",
        "                  early_stopping_rounds = lgb_params['early_stopping_rounds'],\n",
        "                  feval = lgbm_smape,\n",
        "                  verbose_eval = 100)"
      ],
      "metadata": {
        "colab": {
          "base_uri": "https://localhost:8080/"
        },
        "id": "nSh_jCUt6oMT",
        "outputId": "f53d9c22-6bcd-429a-a49d-14da2bd21d35"
      },
      "execution_count": 45,
      "outputs": [
        {
          "output_type": "stream",
          "name": "stdout",
          "text": [
            "Training until validation scores don't improve for 200 rounds.\n",
            "[100]\ttraining's SMAPE: 17.1667\tvalid_1's SMAPE: 16.8638\n",
            "[200]\ttraining's SMAPE: 14.3049\tvalid_1's SMAPE: 14.5073\n",
            "[300]\ttraining's SMAPE: 13.7526\tvalid_1's SMAPE: 14.1423\n",
            "[400]\ttraining's SMAPE: 13.5192\tvalid_1's SMAPE: 14.0104\n",
            "[500]\ttraining's SMAPE: 13.3711\tvalid_1's SMAPE: 13.9086\n",
            "[600]\ttraining's SMAPE: 13.2714\tvalid_1's SMAPE: 13.8252\n",
            "[700]\ttraining's SMAPE: 13.1973\tvalid_1's SMAPE: 13.7545\n",
            "[800]\ttraining's SMAPE: 13.142\tvalid_1's SMAPE: 13.7018\n",
            "[900]\ttraining's SMAPE: 13.0979\tvalid_1's SMAPE: 13.6601\n",
            "[1000]\ttraining's SMAPE: 13.0617\tvalid_1's SMAPE: 13.6209\n",
            "[1100]\ttraining's SMAPE: 13.03\tvalid_1's SMAPE: 13.5879\n",
            "[1200]\ttraining's SMAPE: 13.0021\tvalid_1's SMAPE: 13.5593\n",
            "[1300]\ttraining's SMAPE: 12.9774\tvalid_1's SMAPE: 13.5316\n",
            "[1400]\ttraining's SMAPE: 12.955\tvalid_1's SMAPE: 13.5067\n",
            "[1500]\ttraining's SMAPE: 12.9347\tvalid_1's SMAPE: 13.4847\n",
            "Did not meet early stopping. Best iteration is:\n",
            "[1500]\ttraining's SMAPE: 12.9347\tvalid_1's SMAPE: 13.4847\n"
          ]
        }
      ]
    },
    {
      "cell_type": "code",
      "source": [
        "y_pred_val = model.predict(X_val, num_iteration=model.best_iteration)\n",
        "\n",
        "smape(np.expm1(y_pred_val), np.expm1(Y_val)) "
      ],
      "metadata": {
        "colab": {
          "base_uri": "https://localhost:8080/"
        },
        "id": "UWxuigqk6n3X",
        "outputId": "054fda8e-4317-43ce-cf31-06b8d58c71da"
      },
      "execution_count": 46,
      "outputs": [
        {
          "output_type": "execute_result",
          "data": {
            "text/plain": [
              "13.484696621500085"
            ]
          },
          "metadata": {},
          "execution_count": 46
        }
      ]
    },
    {
      "cell_type": "code",
      "source": [
        "def plot_lgb_importances(model, plot=False, num=10):\n",
        "\n",
        "    gain = model.feature_importance('gain')\n",
        "    feat_imp = pd.DataFrame({'feature': model.feature_name(),\n",
        "                             'split': model.feature_importance('split'),\n",
        "                             'gain': 100 * gain / gain.sum()}).sort_values('gain', ascending=False)\n",
        "    if plot:\n",
        "        plt.figure(figsize=(10, 10))\n",
        "        sns.set(font_scale=1)\n",
        "        sns.barplot(x=\"gain\", y=\"feature\", data=feat_imp[0:25])\n",
        "        plt.title('feature')\n",
        "        plt.tight_layout()\n",
        "        plt.show()\n",
        "    else:\n",
        "        print(feat_imp.head(num))\n",
        "\n",
        "\n"
      ],
      "metadata": {
        "colab": {
          "base_uri": "https://localhost:8080/"
        },
        "id": "Bai0iOND8UXd",
        "outputId": "b3952ec2-f047-4b1e-e38a-b3a884129ee7"
      },
      "execution_count": 47,
      "outputs": [
        {
          "output_type": "stream",
          "name": "stdout",
          "text": [
            "                         feature  split       gain\n",
            "116    sales_ewm_alpha_05_lag_31    391  26.875467\n",
            "29           sales_roll_mean_728    383  26.729417\n",
            "30           sales_roll_mean_910    354  19.617075\n",
            "13                 sales_lag_364   1400  11.018449\n",
            "125   sales_ewm_alpha_05_lag_342    269   3.803678\n",
            "113   sales_ewm_alpha_05_lag_365    328   2.525676\n",
            "3                        is_wknd    253   1.499174\n",
            "27           sales_roll_mean_546    441   1.253557\n",
            "186                day_of_week_0    276   0.951268\n",
            "1                    day_of_year   1079   0.776750\n",
            "96    sales_ewm_alpha_07_lag_728    113   0.696956\n",
            "204                     month_12    307   0.580249\n",
            "117    sales_ewm_alpha_05_lag_62    177   0.547624\n",
            "77    sales_ewm_alpha_08_lag_728     31   0.288841\n",
            "192                day_of_week_6    172   0.216263\n",
            "94    sales_ewm_alpha_07_lag_365    108   0.196355\n",
            "115   sales_ewm_alpha_05_lag_728    279   0.193140\n",
            "58    sales_ewm_alpha_09_lag_728     23   0.164208\n",
            "2                   week_of_year    172   0.126995\n",
            "189                day_of_week_3     96   0.124799\n",
            "140                       item_5    178   0.122409\n",
            "26           sales_roll_mean_365    290   0.093008\n",
            "199                      month_7    151   0.086930\n",
            "139                       item_4    159   0.081202\n",
            "136                       item_1    162   0.073365\n",
            "112   sales_ewm_alpha_05_lag_270     71   0.063613\n",
            "28           sales_roll_mean_180    270   0.062338\n",
            "106   sales_ewm_alpha_07_lag_342     82   0.059158\n",
            "193                      month_1    143   0.057148\n",
            "39   sales_ewm_alpha_095_lag_728     34   0.054712\n"
          ]
        }
      ]
    },
    {
      "cell_type": "code",
      "source": [
        "plot_lgb_importances(model, num=30)"
      ],
      "metadata": {
        "colab": {
          "base_uri": "https://localhost:8080/"
        },
        "id": "xIso6AN28Y8S",
        "outputId": "717c89dc-f3c7-43e9-9941-7152cd9c91dd"
      },
      "execution_count": 48,
      "outputs": [
        {
          "output_type": "stream",
          "name": "stdout",
          "text": [
            "                         feature  split       gain\n",
            "116    sales_ewm_alpha_05_lag_31    391  26.875467\n",
            "29           sales_roll_mean_728    383  26.729417\n",
            "30           sales_roll_mean_910    354  19.617075\n",
            "13                 sales_lag_364   1400  11.018449\n",
            "125   sales_ewm_alpha_05_lag_342    269   3.803678\n",
            "113   sales_ewm_alpha_05_lag_365    328   2.525676\n",
            "3                        is_wknd    253   1.499174\n",
            "27           sales_roll_mean_546    441   1.253557\n",
            "186                day_of_week_0    276   0.951268\n",
            "1                    day_of_year   1079   0.776750\n",
            "96    sales_ewm_alpha_07_lag_728    113   0.696956\n",
            "204                     month_12    307   0.580249\n",
            "117    sales_ewm_alpha_05_lag_62    177   0.547624\n",
            "77    sales_ewm_alpha_08_lag_728     31   0.288841\n",
            "192                day_of_week_6    172   0.216263\n",
            "94    sales_ewm_alpha_07_lag_365    108   0.196355\n",
            "115   sales_ewm_alpha_05_lag_728    279   0.193140\n",
            "58    sales_ewm_alpha_09_lag_728     23   0.164208\n",
            "2                   week_of_year    172   0.126995\n",
            "189                day_of_week_3     96   0.124799\n",
            "140                       item_5    178   0.122409\n",
            "26           sales_roll_mean_365    290   0.093008\n",
            "199                      month_7    151   0.086930\n",
            "139                       item_4    159   0.081202\n",
            "136                       item_1    162   0.073365\n",
            "112   sales_ewm_alpha_05_lag_270     71   0.063613\n",
            "28           sales_roll_mean_180    270   0.062338\n",
            "106   sales_ewm_alpha_07_lag_342     82   0.059158\n",
            "193                      month_1    143   0.057148\n",
            "39   sales_ewm_alpha_095_lag_728     34   0.054712\n"
          ]
        }
      ]
    },
    {
      "cell_type": "code",
      "source": [
        "plot_lgb_importances(model, plot=True, num=30)\n"
      ],
      "metadata": {
        "colab": {
          "base_uri": "https://localhost:8080/",
          "height": 725
        },
        "id": "8txeks818cEy",
        "outputId": "e707b559-1a36-496a-ec0a-f0e158df5a7d"
      },
      "execution_count": 49,
      "outputs": [
        {
          "output_type": "display_data",
          "data": {
            "image/png": "[encoded data removed]",
            "text/plain": [
              "<Figure size 720x720 with 1 Axes>"
            ]
          },
          "metadata": {}
        }
      ]
    },
    {
      "cell_type": "code",
      "source": [
        "train = df.loc[~df.sales.isna()]  # df icerisinde NA olmayan gozlemler train setine karsilik geliyor\n"
      ],
      "metadata": {
        "id": "vLTYL7Pd8hXE"
      },
      "execution_count": 50,
      "outputs": []
    },
    {
      "cell_type": "code",
      "source": [
        "Y_train = train['sales']\n",
        "X_train = train[cols]\n",
        "\n",
        "test = df.loc[df.sales.isna()]\n",
        "X_test = test[cols]"
      ],
      "metadata": {
        "id": "Y6sxSV4D8mUq"
      },
      "execution_count": 51,
      "outputs": []
    },
    {
      "cell_type": "code",
      "source": [
        "lgb_params = {'num_leaves':10,\n",
        "              'learning_rate': 0.02,\n",
        "              'feature_fraction': 0.8,\n",
        "              'max_depth': 5,\n",
        "              'verbose': 0,\n",
        "              'num_boost_round': model.best_iteration,\n",
        "              'nthread': -1}\n"
      ],
      "metadata": {
        "id": "hCQyS_ao8pza"
      },
      "execution_count": 52,
      "outputs": []
    },
    {
      "cell_type": "code",
      "source": [
        "lgbtrain_all = lgb.Dataset(data=X_train, label=Y_train, feature_name=cols)\n",
        "\n",
        "model = lgb.train(lgb_params, lgbtrain_all, num_boost_round=model.best_iteration) # Train islemini baslatiyoruz\n",
        "\n",
        "test_preds = model.predict(X_test, num_iteration=model.best_iteration)"
      ],
      "metadata": {
        "id": "l5_XfC1-8tIn"
      },
      "execution_count": 53,
      "outputs": []
    },
    {
      "cell_type": "code",
      "source": [
        "submission_df = test.loc[:, ['id','sales']]\n",
        "submission_df['sales'] = np.expm1(test_preds)\n",
        "submission_df.to_csv('submission_demand.csv', index=False)\n",
        "submission_df.head(20)"
      ],
      "metadata": {
        "colab": {
          "base_uri": "https://localhost:8080/",
          "height": 676
        },
        "id": "p55qv-ud8xBS",
        "outputId": "d0dfbfd7-6089-4502-bb7f-69282629fb66"
      },
      "execution_count": 56,
      "outputs": [
        {
          "output_type": "execute_result",
          "data": {
            "text/html": [
              "\n",
              "  <div id=\"df-94abaae9-8e29-451f-becb-78eae936e700\">\n",
              "    <div class=\"colab-df-container\">\n",
              "      <div>\n",
              "<style scoped>\n",
              "    .dataframe tbody tr th:only-of-type {\n",
              "        vertical-align: middle;\n",
              "    }\n",
              "\n",
              "    .dataframe tbody tr th {\n",
              "        vertical-align: top;\n",
              "    }\n",
              "\n",
              "    .dataframe thead th {\n",
              "        text-align: right;\n",
              "    }\n",
              "</style>\n",
              "<table border=\"1\" class=\"dataframe\">\n",
              "  <thead>\n",
              "    <tr style=\"text-align: right;\">\n",
              "      <th></th>\n",
              "      <th>id</th>\n",
              "      <th>sales</th>\n",
              "    </tr>\n",
              "  </thead>\n",
              "  <tbody>\n",
              "    <tr>\n",
              "      <th>0</th>\n",
              "      <td>0.0</td>\n",
              "      <td>12.623673</td>\n",
              "    </tr>\n",
              "    <tr>\n",
              "      <th>1</th>\n",
              "      <td>1.0</td>\n",
              "      <td>14.546038</td>\n",
              "    </tr>\n",
              "    <tr>\n",
              "      <th>2</th>\n",
              "      <td>2.0</td>\n",
              "      <td>14.998200</td>\n",
              "    </tr>\n",
              "    <tr>\n",
              "      <th>3</th>\n",
              "      <td>3.0</td>\n",
              "      <td>15.969161</td>\n",
              "    </tr>\n",
              "    <tr>\n",
              "      <th>4</th>\n",
              "      <td>4.0</td>\n",
              "      <td>16.922593</td>\n",
              "    </tr>\n",
              "    <tr>\n",
              "      <th>5</th>\n",
              "      <td>5.0</td>\n",
              "      <td>17.884264</td>\n",
              "    </tr>\n",
              "    <tr>\n",
              "      <th>6</th>\n",
              "      <td>6.0</td>\n",
              "      <td>20.412297</td>\n",
              "    </tr>\n",
              "    <tr>\n",
              "      <th>7</th>\n",
              "      <td>7.0</td>\n",
              "      <td>12.419059</td>\n",
              "    </tr>\n",
              "    <tr>\n",
              "      <th>8</th>\n",
              "      <td>8.0</td>\n",
              "      <td>15.393634</td>\n",
              "    </tr>\n",
              "    <tr>\n",
              "      <th>9</th>\n",
              "      <td>9.0</td>\n",
              "      <td>14.620821</td>\n",
              "    </tr>\n",
              "    <tr>\n",
              "      <th>10</th>\n",
              "      <td>10.0</td>\n",
              "      <td>16.318042</td>\n",
              "    </tr>\n",
              "    <tr>\n",
              "      <th>11</th>\n",
              "      <td>11.0</td>\n",
              "      <td>18.170437</td>\n",
              "    </tr>\n",
              "    <tr>\n",
              "      <th>12</th>\n",
              "      <td>12.0</td>\n",
              "      <td>17.049538</td>\n",
              "    </tr>\n",
              "    <tr>\n",
              "      <th>13</th>\n",
              "      <td>13.0</td>\n",
              "      <td>18.682840</td>\n",
              "    </tr>\n",
              "    <tr>\n",
              "      <th>14</th>\n",
              "      <td>14.0</td>\n",
              "      <td>12.724833</td>\n",
              "    </tr>\n",
              "    <tr>\n",
              "      <th>15</th>\n",
              "      <td>15.0</td>\n",
              "      <td>14.495566</td>\n",
              "    </tr>\n",
              "    <tr>\n",
              "      <th>16</th>\n",
              "      <td>16.0</td>\n",
              "      <td>14.037251</td>\n",
              "    </tr>\n",
              "    <tr>\n",
              "      <th>17</th>\n",
              "      <td>17.0</td>\n",
              "      <td>15.289962</td>\n",
              "    </tr>\n",
              "    <tr>\n",
              "      <th>18</th>\n",
              "      <td>18.0</td>\n",
              "      <td>14.980436</td>\n",
              "    </tr>\n",
              "    <tr>\n",
              "      <th>19</th>\n",
              "      <td>19.0</td>\n",
              "      <td>17.812108</td>\n",
              "    </tr>\n",
              "  </tbody>\n",
              "</table>\n",
              "</div>\n",
              "      <button class=\"colab-df-convert\" onclick=\"convertToInteractive('df-94abaae9-8e29-451f-becb-78eae936e700')\"\n",
              "              title=\"Convert this dataframe to an interactive table.\"\n",
              "              style=\"display:none;\">\n",
              "        \n",
              "  <svg xmlns=\"http://www.w3.org/2000/svg\" height=\"24px\"viewBox=\"0 0 24 24\"\n",
              "       width=\"24px\">\n",
              "    <path d=\"M0 0h24v24H0V0z\" fill=\"none\"/>\n",
              "    <path d=\"M18.56 5.44l.94 2.06.94-2.06 2.06-.94-2.06-.94-.94-2.06-.94 2.06-2.06.94zm-11 1L8.5 8.5l.94-2.06 2.06-.94-2.06-.94L8.5 2.5l-.94 2.06-2.06.94zm10 10l.94 2.06.94-2.06 2.06-.94-2.06-.94-.94-2.06-.94 2.06-2.06.94z\"/><path d=\"M17.41 7.96l-1.37-1.37c-.4-.4-.92-.59-1.43-.59-.52 0-1.04.2-1.43.59L10.3 9.45l-7.72 7.72c-.78.78-.78 2.05 0 2.83L4 21.41c.39.39.9.59 1.41.59.51 0 1.02-.2 1.41-.59l7.78-7.78 2.81-2.81c.8-.78.8-2.07 0-2.86zM5.41 20L4 18.59l7.72-7.72 1.47 1.35L5.41 20z\"/>\n",
              "  </svg>\n",
              "      </button>\n",
              "      \n",
              "  <style>\n",
              "    .colab-df-container {\n",
              "      display:flex;\n",
              "      flex-wrap:wrap;\n",
              "      gap: 12px;\n",
              "    }\n",
              "\n",
              "    .colab-df-convert {\n",
              "      background-color: #E8F0FE;\n",
              "      border: none;\n",
              "      border-radius: 50%;\n",
              "      cursor: pointer;\n",
              "      display: none;\n",
              "      fill: #1967D2;\n",
              "      height: 32px;\n",
              "      padding: 0 0 0 0;\n",
              "      width: 32px;\n",
              "    }\n",
              "\n",
              "    .colab-df-convert:hover {\n",
              "      background-color: #E2EBFA;\n",
              "      box-shadow: 0px 1px 2px rgba(60, 64, 67, 0.3), 0px 1px 3px 1px rgba(60, 64, 67, 0.15);\n",
              "      fill: #174EA6;\n",
              "    }\n",
              "\n",
              "    [theme=dark] .colab-df-convert {\n",
              "      background-color: #3B4455;\n",
              "      fill: #D2E3FC;\n",
              "    }\n",
              "\n",
              "    [theme=dark] .colab-df-convert:hover {\n",
              "      background-color: #434B5C;\n",
              "      box-shadow: 0px 1px 3px 1px rgba(0, 0, 0, 0.15);\n",
              "      filter: drop-shadow(0px 1px 2px rgba(0, 0, 0, 0.3));\n",
              "      fill: #FFFFFF;\n",
              "    }\n",
              "  </style>\n",
              "\n",
              "      <script>\n",
              "        const buttonEl =\n",
              "          document.querySelector('#df-94abaae9-8e29-451f-becb-78eae936e700 button.colab-df-convert');\n",
              "        buttonEl.style.display =\n",
              "          google.colab.kernel.accessAllowed ? 'block' : 'none';\n",
              "\n",
              "        async function convertToInteractive(key) {\n",
              "          const element = document.querySelector('#df-94abaae9-8e29-451f-becb-78eae936e700');\n",
              "          const dataTable =\n",
              "            await google.colab.kernel.invokeFunction('convertToInteractive',\n",
              "                                                     [key], {});\n",
              "          if (!dataTable) return;\n",
              "\n",
              "          const docLinkHtml = 'Like what you see? Visit the ' +\n",
              "            '<a target=\"_blank\" href=https://colab.research.google.com/notebooks/data_table.ipynb>data table notebook</a>'\n",
              "            + ' to learn more about interactive tables.';\n",
              "          element.innerHTML = '';\n",
              "          dataTable['output_type'] = 'display_data';\n",
              "          await google.colab.output.renderOutput(dataTable, element);\n",
              "          const docLink = document.createElement('div');\n",
              "          docLink.innerHTML = docLinkHtml;\n",
              "          element.appendChild(docLink);\n",
              "        }\n",
              "      </script>\n",
              "    </div>\n",
              "  </div>\n",
              "  "
            ],
            "text/plain": [
              "      id      sales\n",
              "0    0.0  12.623673\n",
              "1    1.0  14.546038\n",
              "2    2.0  14.998200\n",
              "3    3.0  15.969161\n",
              "4    4.0  16.922593\n",
              "5    5.0  17.884264\n",
              "6    6.0  20.412297\n",
              "7    7.0  12.419059\n",
              "8    8.0  15.393634\n",
              "9    9.0  14.620821\n",
              "10  10.0  16.318042\n",
              "11  11.0  18.170437\n",
              "12  12.0  17.049538\n",
              "13  13.0  18.682840\n",
              "14  14.0  12.724833\n",
              "15  15.0  14.495566\n",
              "16  16.0  14.037251\n",
              "17  17.0  15.289962\n",
              "18  18.0  14.980436\n",
              "19  19.0  17.812108"
            ]
          },
          "metadata": {},
          "execution_count": 56
        }
      ]
    },
    {
      "cell_type": "code",
      "source": [
        ""
      ],
      "metadata": {
        "id": "szbfO_MZ9gJ2"
      },
      "execution_count": null,
      "outputs": []
    }
  ]
}